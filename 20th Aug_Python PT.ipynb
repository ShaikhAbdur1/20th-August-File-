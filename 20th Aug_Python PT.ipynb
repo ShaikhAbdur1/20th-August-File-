{
 "cells": [
  {
   "cell_type": "code",
   "execution_count": 1,
   "id": "2b850d83-d633-413b-b032-23d08cd849f9",
   "metadata": {},
   "outputs": [
    {
     "data": {
      "text/plain": [
       "'Write a program to reverse a string.'"
      ]
     },
     "execution_count": 1,
     "metadata": {},
     "output_type": "execute_result"
    }
   ],
   "source": [
    "'''Write a program to reverse a string.'''"
   ]
  },
  {
   "cell_type": "code",
   "execution_count": 32,
   "id": "23ea2b6b-1e7e-428a-b422-10ebebb7718b",
   "metadata": {},
   "outputs": [],
   "source": [
    "s = \"Abdur\""
   ]
  },
  {
   "cell_type": "code",
   "execution_count": 33,
   "id": "4ca71f0a-510c-4286-9755-4007bd7af192",
   "metadata": {},
   "outputs": [
    {
     "data": {
      "text/plain": [
       "'rudbA'"
      ]
     },
     "execution_count": 33,
     "metadata": {},
     "output_type": "execute_result"
    }
   ],
   "source": [
    "s[::-1]"
   ]
  },
  {
   "cell_type": "code",
   "execution_count": 34,
   "id": "ead95325-d11e-45f5-9b66-f0928b8525ba",
   "metadata": {},
   "outputs": [
    {
     "data": {
      "text/plain": [
       "' Check if a string is a palindrome.'"
      ]
     },
     "execution_count": 34,
     "metadata": {},
     "output_type": "execute_result"
    }
   ],
   "source": [
    "''' Check if a string is a palindrome.'''"
   ]
  },
  {
   "cell_type": "code",
   "execution_count": 56,
   "id": "910a2775-d65f-4d7e-bff0-5fe8eef78ccb",
   "metadata": {},
   "outputs": [],
   "source": [
    "input_string = \"Cuttack is near Bhubaneshwar\""
   ]
  },
  {
   "cell_type": "code",
   "execution_count": 57,
   "id": "f475a2e9-3601-43e9-87b8-020a6ef330a4",
   "metadata": {},
   "outputs": [],
   "source": [
    "reverse_string = input_string.replace(\" \",\" \").lower()"
   ]
  },
  {
   "cell_type": "code",
   "execution_count": 58,
   "id": "dd318115-46d2-4081-a94d-b7b26566902e",
   "metadata": {},
   "outputs": [
    {
     "data": {
      "text/plain": [
       "'cuttack is near bhubaneshwar'"
      ]
     },
     "execution_count": 58,
     "metadata": {},
     "output_type": "execute_result"
    }
   ],
   "source": [
    "reverse_string"
   ]
  },
  {
   "cell_type": "code",
   "execution_count": 59,
   "id": "39385cce-4a94-429d-aa3f-fbb7bf95c725",
   "metadata": {},
   "outputs": [
    {
     "name": "stdout",
     "output_type": "stream",
     "text": [
      "the string is not palindrome\n"
     ]
    }
   ],
   "source": [
    "if input_string == reverse_string:\n",
    "    print(\"the string is palindrome\")\n",
    "else:\n",
    "        print(\"the string is not palindrome\")"
   ]
  },
  {
   "cell_type": "code",
   "execution_count": 48,
   "id": "df5c3565-bf9f-4f6e-9965-09ae965cef7a",
   "metadata": {},
   "outputs": [
    {
     "data": {
      "text/plain": [
       "' Convert a string to uppercase.'"
      ]
     },
     "execution_count": 48,
     "metadata": {},
     "output_type": "execute_result"
    }
   ],
   "source": [
    "''' Convert a string to uppercase.'''"
   ]
  },
  {
   "cell_type": "code",
   "execution_count": 50,
   "id": "94231d13-e5cd-4c2b-97dc-82f4df0b8de3",
   "metadata": {},
   "outputs": [],
   "source": [
    "s2 = \"Hello Moto\""
   ]
  },
  {
   "cell_type": "code",
   "execution_count": 51,
   "id": "308fe24f-5e3f-4e8d-a4c5-f043983a9ac0",
   "metadata": {},
   "outputs": [
    {
     "data": {
      "text/plain": [
       "'HELLO MOTO'"
      ]
     },
     "execution_count": 51,
     "metadata": {},
     "output_type": "execute_result"
    }
   ],
   "source": [
    "s2.upper()"
   ]
  },
  {
   "cell_type": "code",
   "execution_count": 52,
   "id": "02ea163b-e192-4bbf-b591-56c0497b1144",
   "metadata": {},
   "outputs": [
    {
     "data": {
      "text/plain": [
       "'Convert a string to lowercase.'"
      ]
     },
     "execution_count": 52,
     "metadata": {},
     "output_type": "execute_result"
    }
   ],
   "source": [
    "'''Convert a string to lowercase.'''"
   ]
  },
  {
   "cell_type": "code",
   "execution_count": 53,
   "id": "30e1278b-51ca-43b6-a01f-45d65a73459f",
   "metadata": {},
   "outputs": [
    {
     "data": {
      "text/plain": [
       "'hello moto'"
      ]
     },
     "execution_count": 53,
     "metadata": {},
     "output_type": "execute_result"
    }
   ],
   "source": [
    "s2.lower()"
   ]
  },
  {
   "cell_type": "code",
   "execution_count": 55,
   "id": "ee2ac230-5091-4353-a6cd-03f4977f57f0",
   "metadata": {},
   "outputs": [
    {
     "data": {
      "text/plain": [
       "'Count the number of vowels in a string.'"
      ]
     },
     "execution_count": 55,
     "metadata": {},
     "output_type": "execute_result"
    }
   ],
   "source": [
    "'''Count the number of vowels in a string.'''"
   ]
  },
  {
   "cell_type": "code",
   "execution_count": 60,
   "id": "b9aa0f14-cf35-4d48-80c7-25fcf0ab3d7e",
   "metadata": {},
   "outputs": [],
   "source": [
    "ipstn = \"Hello, My name is Abdur.\""
   ]
  },
  {
   "cell_type": "code",
   "execution_count": 61,
   "id": "14347912-f2cb-46ce-9cf2-7450a09115f2",
   "metadata": {},
   "outputs": [],
   "source": [
    "vowel_count = 0"
   ]
  },
  {
   "cell_type": "code",
   "execution_count": 62,
   "id": "32dbd051-00b6-41d1-8c0a-601f035a4f77",
   "metadata": {},
   "outputs": [],
   "source": [
    "ipstn = ipstn.lower()"
   ]
  },
  {
   "cell_type": "code",
   "execution_count": 63,
   "id": "f3b9d9bc-cb79-45ac-ad95-394d6f3ddae0",
   "metadata": {},
   "outputs": [
    {
     "data": {
      "text/plain": [
       "'hello, my name is abdur.'"
      ]
     },
     "execution_count": 63,
     "metadata": {},
     "output_type": "execute_result"
    }
   ],
   "source": [
    "ipstn"
   ]
  },
  {
   "cell_type": "code",
   "execution_count": 83,
   "id": "3a149c3f-61e8-48f0-94a5-d3afe1b1827d",
   "metadata": {},
   "outputs": [],
   "source": [
    "vowels = {\"a\",\"e\",\"i\",\"o\",\"u\"}"
   ]
  },
  {
   "cell_type": "code",
   "execution_count": 84,
   "id": "070ce018-e2b4-4f0c-93ea-6207de538aac",
   "metadata": {},
   "outputs": [
    {
     "data": {
      "text/plain": [
       "{'a', 'e', 'i', 'o', 'u'}"
      ]
     },
     "execution_count": 84,
     "metadata": {},
     "output_type": "execute_result"
    }
   ],
   "source": [
    "vowels"
   ]
  },
  {
   "cell_type": "code",
   "execution_count": 85,
   "id": "a7074dcc-24ba-485d-b2fd-d77b40240f11",
   "metadata": {},
   "outputs": [],
   "source": [
    "for char in ipstn:\n",
    "    if char in vowels:\n",
    "        vowel_count+=1"
   ]
  },
  {
   "cell_type": "code",
   "execution_count": 86,
   "id": "ef97cd2c-8dec-49c1-8a61-2171096ce2cd",
   "metadata": {},
   "outputs": [
    {
     "name": "stdout",
     "output_type": "stream",
     "text": [
      "numbers of vowels 7\n"
     ]
    }
   ],
   "source": [
    "print(\"numbers of vowels\", vowel_count)"
   ]
  },
  {
   "cell_type": "code",
   "execution_count": 1,
   "id": "cd9974da-38ef-4881-9a4b-fcf004bdfe3f",
   "metadata": {},
   "outputs": [
    {
     "data": {
      "text/plain": [
       "'Count the number of consonants in a string.'"
      ]
     },
     "execution_count": 1,
     "metadata": {},
     "output_type": "execute_result"
    }
   ],
   "source": [
    "'''Count the number of consonants in a string.'''\n"
   ]
  },
  {
   "cell_type": "code",
   "execution_count": 17,
   "id": "80aa9071-7976-40f5-9553-f38e2b8a1aa3",
   "metadata": {},
   "outputs": [],
   "source": [
    "itstr = \"Hello, You are my world and 13 is my birthday.\""
   ]
  },
  {
   "cell_type": "code",
   "execution_count": 18,
   "id": "29141c8a-856b-4bc5-8880-fa8cd1be8820",
   "metadata": {},
   "outputs": [],
   "source": [
    "itstr = itstr.lower()"
   ]
  },
  {
   "cell_type": "code",
   "execution_count": 19,
   "id": "45f7b21e-212b-4c6d-87e3-5e666c2ed8cc",
   "metadata": {},
   "outputs": [
    {
     "data": {
      "text/plain": [
       "'hello, you are my world and 13 is my birthday.'"
      ]
     },
     "execution_count": 19,
     "metadata": {},
     "output_type": "execute_result"
    }
   ],
   "source": [
    "itstr"
   ]
  },
  {
   "cell_type": "code",
   "execution_count": 20,
   "id": "936e0299-0f8f-4c13-99ee-50ac868098e7",
   "metadata": {},
   "outputs": [],
   "source": [
    "vowels = set(\"aeiou\")"
   ]
  },
  {
   "cell_type": "code",
   "execution_count": 21,
   "id": "9b144e5c-7316-4b57-8025-5c8e0b6bf585",
   "metadata": {},
   "outputs": [],
   "source": [
    "consonant_count = 0"
   ]
  },
  {
   "cell_type": "code",
   "execution_count": 22,
   "id": "fe8d1f0d-2e1e-4a95-9527-56401050c660",
   "metadata": {},
   "outputs": [],
   "source": [
    "for char in itstr:\n",
    "    if char.isalpha() and char not in vowels:\n",
    "        consonant_count+=1"
   ]
  },
  {
   "cell_type": "code",
   "execution_count": 23,
   "id": "747a5a2d-d207-40f3-a2f9-53ee4228664b",
   "metadata": {},
   "outputs": [
    {
     "name": "stdout",
     "output_type": "stream",
     "text": [
      "Number of consonant 22\n"
     ]
    }
   ],
   "source": [
    "print(\"Number of consonant\", consonant_count)"
   ]
  },
  {
   "cell_type": "code",
   "execution_count": 25,
   "id": "b28b6138-4c23-4744-b637-e5621a62262d",
   "metadata": {},
   "outputs": [
    {
     "data": {
      "text/plain": [
       "'Remove all whitespaces from a string.'"
      ]
     },
     "execution_count": 25,
     "metadata": {},
     "output_type": "execute_result"
    }
   ],
   "source": [
    "'''Remove all whitespaces from a string.'''"
   ]
  },
  {
   "cell_type": "code",
   "execution_count": 26,
   "id": "2df17fc5-7d40-45db-8e45-d1dbbb524457",
   "metadata": {},
   "outputs": [],
   "source": [
    "sd = \"hello, you are the best.\""
   ]
  },
  {
   "cell_type": "code",
   "execution_count": 27,
   "id": "3a42ae64-509a-44c3-b2cb-4c14261c9cb9",
   "metadata": {},
   "outputs": [
    {
     "data": {
      "text/plain": [
       "'hello,youarethebest.'"
      ]
     },
     "execution_count": 27,
     "metadata": {},
     "output_type": "execute_result"
    }
   ],
   "source": [
    "sd.replace(\" \",\"\")"
   ]
  },
  {
   "cell_type": "code",
   "execution_count": 28,
   "id": "3a782d02-3225-4921-bd14-a09b69d697bd",
   "metadata": {},
   "outputs": [
    {
     "data": {
      "text/plain": [
       "'. Find the length of a string without using the `len()` function.'"
      ]
     },
     "execution_count": 28,
     "metadata": {},
     "output_type": "execute_result"
    }
   ],
   "source": [
    "'''. Find the length of a string without using the `len()` function.'''"
   ]
  },
  {
   "cell_type": "code",
   "execution_count": 30,
   "id": "8348fff3-02a7-4bdc-a501-12fd9acf69c9",
   "metadata": {},
   "outputs": [],
   "source": [
    "s2 = \" Hello, you are best.\""
   ]
  },
  {
   "cell_type": "code",
   "execution_count": 31,
   "id": "847cad2e-0279-40fa-b507-e392bc153a07",
   "metadata": {},
   "outputs": [
    {
     "data": {
      "text/plain": [
       "' Hello, you are best.'"
      ]
     },
     "execution_count": 31,
     "metadata": {},
     "output_type": "execute_result"
    }
   ],
   "source": [
    "s2"
   ]
  },
  {
   "cell_type": "code",
   "execution_count": 34,
   "id": "8097fc45-4902-42e5-8d91-657c48d02ccf",
   "metadata": {},
   "outputs": [],
   "source": [
    "length = 0    "
   ]
  },
  {
   "cell_type": "code",
   "execution_count": 35,
   "id": "507d6753-4f1a-40fa-90b8-1b108f8b22bd",
   "metadata": {},
   "outputs": [],
   "source": [
    "for char in s2:\n",
    "    length+=1\n",
    "    "
   ]
  },
  {
   "cell_type": "code",
   "execution_count": 36,
   "id": "7c4d0a28-ce08-441e-85b6-19ab59d21f49",
   "metadata": {},
   "outputs": [
    {
     "name": "stdout",
     "output_type": "stream",
     "text": [
      "Total length of this line: 21\n"
     ]
    }
   ],
   "source": [
    "print(\"Total length of this line:\",length)"
   ]
  },
  {
   "cell_type": "code",
   "execution_count": 37,
   "id": "c96b77b3-d666-4f6d-bcd4-7554ba99813c",
   "metadata": {},
   "outputs": [
    {
     "data": {
      "text/plain": [
       "'Check if a string contains a specific word.'"
      ]
     },
     "execution_count": 37,
     "metadata": {},
     "output_type": "execute_result"
    }
   ],
   "source": [
    "'''Check if a string contains a specific word.'''"
   ]
  },
  {
   "cell_type": "code",
   "execution_count": 38,
   "id": "75f2045e-d56d-4069-952a-812e3d52e1c6",
   "metadata": {},
   "outputs": [],
   "source": [
    "s2 =\"hello, Hello, you are the best and you can be the best.\""
   ]
  },
  {
   "cell_type": "code",
   "execution_count": 40,
   "id": "25798f53-4e62-4cea-bb97-43047eff7d18",
   "metadata": {},
   "outputs": [],
   "source": [
    "specific_word = \"hello\""
   ]
  },
  {
   "cell_type": "code",
   "execution_count": 43,
   "id": "8997dbac-1314-41c4-aaf5-8d4fc95b6067",
   "metadata": {},
   "outputs": [
    {
     "name": "stdout",
     "output_type": "stream",
     "text": [
      "Sentence have the specific word: hello\n"
     ]
    }
   ],
   "source": [
    "if specific_word in s2:\n",
    "    print(\"Sentence have the specific word:\",specific_word)\n",
    "else:\n",
    "        (\"not contain the specific word\")"
   ]
  },
  {
   "cell_type": "code",
   "execution_count": 44,
   "id": "ff49a122-c753-44f1-82cc-b4fbb2541bc3",
   "metadata": {},
   "outputs": [
    {
     "data": {
      "text/plain": [
       "'Replace a word in a string with another word.'"
      ]
     },
     "execution_count": 44,
     "metadata": {},
     "output_type": "execute_result"
    }
   ],
   "source": [
    "'''Replace a word in a string with another word.'''"
   ]
  },
  {
   "cell_type": "code",
   "execution_count": 46,
   "id": "6bbc6ccd-a2c2-4c5a-ac68-71283d9ef169",
   "metadata": {},
   "outputs": [],
   "source": [
    "s3 = \"Hello, See you tomorrow.\""
   ]
  },
  {
   "cell_type": "code",
   "execution_count": 47,
   "id": "7a067946-1ba2-49e6-94ac-28a7f94cd413",
   "metadata": {},
   "outputs": [
    {
     "data": {
      "text/plain": [
       "'Hello, See you day after tomorrow.'"
      ]
     },
     "execution_count": 47,
     "metadata": {},
     "output_type": "execute_result"
    }
   ],
   "source": [
    "s3.replace(\"tomorrow\",\"day after tomorrow\")"
   ]
  },
  {
   "cell_type": "code",
   "execution_count": 48,
   "id": "e2acd727-53a7-4430-9423-081a2550ad9b",
   "metadata": {},
   "outputs": [
    {
     "data": {
      "text/plain": [
       "'Count the occurrences of a word in a string.'"
      ]
     },
     "execution_count": 48,
     "metadata": {},
     "output_type": "execute_result"
    }
   ],
   "source": [
    "'''Count the occurrences of a word in a string.'''"
   ]
  },
  {
   "cell_type": "code",
   "execution_count": 49,
   "id": "ad37bb08-6941-46e4-886d-85b84a998c73",
   "metadata": {},
   "outputs": [],
   "source": [
    "s45 = \"I'm the below avergae student in the below class with below grade.\""
   ]
  },
  {
   "cell_type": "code",
   "execution_count": 50,
   "id": "1098ce89-6008-4540-a88d-38b0acc24f23",
   "metadata": {},
   "outputs": [
    {
     "data": {
      "text/plain": [
       "3"
      ]
     },
     "execution_count": 50,
     "metadata": {},
     "output_type": "execute_result"
    }
   ],
   "source": [
    "s45.count(\"below\")"
   ]
  },
  {
   "cell_type": "code",
   "execution_count": 51,
   "id": "b1da6592-d0f8-47b4-aa3b-2d55dbeaa1ff",
   "metadata": {},
   "outputs": [
    {
     "data": {
      "text/plain": [
       "'Find the first occurrence of a word in a string.'"
      ]
     },
     "execution_count": 51,
     "metadata": {},
     "output_type": "execute_result"
    }
   ],
   "source": [
    "'''Find the first occurrence of a word in a string.'''\n"
   ]
  },
  {
   "cell_type": "code",
   "execution_count": 53,
   "id": "deb17f2c-038e-4a64-9e93-9662080262c9",
   "metadata": {},
   "outputs": [],
   "source": [
    "se = \"Hello mister, are you ever come here before. oh mister, i'm talking to you.\""
   ]
  },
  {
   "cell_type": "code",
   "execution_count": 56,
   "id": "1e0c6ea3-76e7-4634-92b7-0e41590a8d9e",
   "metadata": {},
   "outputs": [
    {
     "data": {
      "text/plain": [
       "6"
      ]
     },
     "execution_count": 56,
     "metadata": {},
     "output_type": "execute_result"
    }
   ],
   "source": [
    "se.find(\"mister\")"
   ]
  },
  {
   "cell_type": "code",
   "execution_count": 1,
   "id": "c0363a92-927a-423e-9826-1aeccc80a504",
   "metadata": {},
   "outputs": [
    {
     "data": {
      "text/plain": [
       "'13. Find the last occurrence of a word in a string.'"
      ]
     },
     "execution_count": 1,
     "metadata": {},
     "output_type": "execute_result"
    }
   ],
   "source": [
    "'''13. Find the last occurrence of a word in a string.'''"
   ]
  },
  {
   "cell_type": "code",
   "execution_count": 21,
   "id": "b8172558-a09b-4ea9-a12b-e8bc1772a510",
   "metadata": {},
   "outputs": [],
   "source": [
    "it = \"Hello, My name is Abdur\""
   ]
  },
  {
   "cell_type": "code",
   "execution_count": 20,
   "id": "872f422f-3bbf-4c2d-ad8e-cf31b931c608",
   "metadata": {},
   "outputs": [],
   "source": [
    "last_word = \"Abdur\""
   ]
  },
  {
   "cell_type": "code",
   "execution_count": 19,
   "id": "9b44ac78-484d-4847-b16c-a806a7d4fab5",
   "metadata": {},
   "outputs": [],
   "source": [
    "itt = it.rfind(last_word)"
   ]
  },
  {
   "cell_type": "code",
   "execution_count": 16,
   "id": "1483e1ff-c0b0-4c09-af95-20b36cd7f9aa",
   "metadata": {},
   "outputs": [
    {
     "data": {
      "text/plain": [
       "18"
      ]
     },
     "execution_count": 16,
     "metadata": {},
     "output_type": "execute_result"
    }
   ],
   "source": [
    "itt"
   ]
  },
  {
   "cell_type": "code",
   "execution_count": 25,
   "id": "2c03b12f-7029-4e92-ad7f-6d43c472af4a",
   "metadata": {},
   "outputs": [
    {
     "name": "stdout",
     "output_type": "stream",
     "text": [
      "the last occurance of the word Abdur was found at position 18.\n"
     ]
    }
   ],
   "source": [
    "if last_word !=-1:\n",
    "    print(f\"the last occurance of the word {last_word} was found at position {itt}.\")\n",
    "else:\n",
    "    print(f\"{last_word} not found in the string.\")"
   ]
  },
  {
   "cell_type": "code",
   "execution_count": 28,
   "id": "c718db8e-5bbe-44c2-b472-3680d32c2208",
   "metadata": {},
   "outputs": [
    {
     "data": {
      "text/plain": [
       "True"
      ]
     },
     "execution_count": 28,
     "metadata": {},
     "output_type": "execute_result"
    }
   ],
   "source": [
    "last_word !=-1"
   ]
  },
  {
   "cell_type": "code",
   "execution_count": 11,
   "id": "e31eacdf-8519-4cab-8866-5495ef56d490",
   "metadata": {},
   "outputs": [
    {
     "data": {
      "text/plain": [
       "'Split a string into a list of words.'"
      ]
     },
     "execution_count": 11,
     "metadata": {},
     "output_type": "execute_result"
    }
   ],
   "source": [
    "'''Split a string into a list of words.'''"
   ]
  },
  {
   "cell_type": "code",
   "execution_count": 12,
   "id": "9efaa15a-7d6c-4384-ae71-9937005fc0b7",
   "metadata": {},
   "outputs": [],
   "source": [
    "s = \"Hello Moto\""
   ]
  },
  {
   "cell_type": "code",
   "execution_count": 19,
   "id": "4dc4a10a-de70-4f49-8534-3c9ea2a20357",
   "metadata": {},
   "outputs": [],
   "source": [
    "s1 = s.split()"
   ]
  },
  {
   "cell_type": "code",
   "execution_count": 20,
   "id": "aa648c08-317e-4278-9f86-1ec7f1205b6b",
   "metadata": {},
   "outputs": [
    {
     "data": {
      "text/plain": [
       "['Hello', 'Moto']"
      ]
     },
     "execution_count": 20,
     "metadata": {},
     "output_type": "execute_result"
    }
   ],
   "source": [
    "s1"
   ]
  },
  {
   "cell_type": "code",
   "execution_count": 17,
   "id": "7a429def-bec2-4d55-b6bf-fffadb3ba3aa",
   "metadata": {},
   "outputs": [
    {
     "data": {
      "text/plain": [
       "'Join a list of words into a string.'"
      ]
     },
     "execution_count": 17,
     "metadata": {},
     "output_type": "execute_result"
    }
   ],
   "source": [
    "'''Join a list of words into a string.'''"
   ]
  },
  {
   "cell_type": "code",
   "execution_count": 23,
   "id": "229b46c1-b573-40e3-8cbd-555eba3bdce7",
   "metadata": {},
   "outputs": [
    {
     "data": {
      "text/plain": [
       "['Hello', 'Moto']"
      ]
     },
     "execution_count": 23,
     "metadata": {},
     "output_type": "execute_result"
    }
   ],
   "source": [
    "list(s1)"
   ]
  },
  {
   "cell_type": "code",
   "execution_count": 24,
   "id": "80b77645-ec4e-47f7-809f-64b8acbadf69",
   "metadata": {},
   "outputs": [
    {
     "data": {
      "text/plain": [
       "['Hello', 'Moto']"
      ]
     },
     "execution_count": 24,
     "metadata": {},
     "output_type": "execute_result"
    }
   ],
   "source": [
    "s1"
   ]
  },
  {
   "cell_type": "code",
   "execution_count": 25,
   "id": "1c3feedd-7f62-411c-bb0e-018f904c11ec",
   "metadata": {},
   "outputs": [
    {
     "data": {
      "text/plain": [
       "list"
      ]
     },
     "execution_count": 25,
     "metadata": {},
     "output_type": "execute_result"
    }
   ],
   "source": [
    "type(s1)"
   ]
  },
  {
   "cell_type": "code",
   "execution_count": 31,
   "id": "64c53f8f-2873-490d-bdd8-9cd7a499c420",
   "metadata": {},
   "outputs": [
    {
     "data": {
      "text/plain": [
       "'Hello Moto'"
      ]
     },
     "execution_count": 31,
     "metadata": {},
     "output_type": "execute_result"
    }
   ],
   "source": [
    "' '.join(s1)"
   ]
  },
  {
   "cell_type": "code",
   "execution_count": 29,
   "id": "880b2575-2e63-4325-b876-128e226d412e",
   "metadata": {},
   "outputs": [
    {
     "data": {
      "text/plain": [
       "'Convert a string where words are separated by spaces to one where words are separated by underscores.'"
      ]
     },
     "execution_count": 29,
     "metadata": {},
     "output_type": "execute_result"
    }
   ],
   "source": [
    "'''Convert a string where words are separated by spaces to one where words are separated by underscores.'''\n"
   ]
  },
  {
   "cell_type": "code",
   "execution_count": 34,
   "id": "87f0edcb-b0c7-4802-89a2-0e403feadca8",
   "metadata": {},
   "outputs": [],
   "source": [
    "Sp = \"hello, You are my world.\""
   ]
  },
  {
   "cell_type": "code",
   "execution_count": 37,
   "id": "1dde4e45-467e-46da-939e-a21bd710c4af",
   "metadata": {},
   "outputs": [
    {
     "data": {
      "text/plain": [
       "'hello, You are my world.'"
      ]
     },
     "execution_count": 37,
     "metadata": {},
     "output_type": "execute_result"
    }
   ],
   "source": [
    "Sp"
   ]
  },
  {
   "cell_type": "code",
   "execution_count": 38,
   "id": "cb0c701d-fdab-417d-ada5-bb0529906356",
   "metadata": {},
   "outputs": [],
   "source": [
    "rsp = Sp.replace(\" \",\"_\")"
   ]
  },
  {
   "cell_type": "code",
   "execution_count": 39,
   "id": "938a6122-82b5-4e1c-a7ae-ba5fdc26c5b6",
   "metadata": {},
   "outputs": [
    {
     "data": {
      "text/plain": [
       "'hello,_You_are_my_world.'"
      ]
     },
     "execution_count": 39,
     "metadata": {},
     "output_type": "execute_result"
    }
   ],
   "source": [
    "rsp"
   ]
  },
  {
   "cell_type": "code",
   "execution_count": 40,
   "id": "1b577ab2-5d49-44ba-94a3-6fa67d31d0e7",
   "metadata": {},
   "outputs": [
    {
     "data": {
      "text/plain": [
       "'Check if a string starts with a specific word or phrase.'"
      ]
     },
     "execution_count": 40,
     "metadata": {},
     "output_type": "execute_result"
    }
   ],
   "source": [
    "'''Check if a string starts with a specific word or phrase.'''\n"
   ]
  },
  {
   "cell_type": "code",
   "execution_count": 57,
   "id": "2aa72c3b-3f73-4bad-a891-daa3ffc7dc36",
   "metadata": {},
   "outputs": [],
   "source": [
    "df = \"lets explore the world\""
   ]
  },
  {
   "cell_type": "code",
   "execution_count": 58,
   "id": "3d816316-9f65-4164-9149-e7cfd161ff17",
   "metadata": {},
   "outputs": [
    {
     "data": {
      "text/plain": [
       "'lets explore the world'"
      ]
     },
     "execution_count": 58,
     "metadata": {},
     "output_type": "execute_result"
    }
   ],
   "source": [
    "df"
   ]
  },
  {
   "cell_type": "code",
   "execution_count": 60,
   "id": "3822b85f-6f4a-46fa-8bd5-fdb9d992570c",
   "metadata": {},
   "outputs": [],
   "source": [
    "wrd_to_check = \"lets\""
   ]
  },
  {
   "cell_type": "code",
   "execution_count": 61,
   "id": "ae567fed-fb6c-4336-ba54-13d16d636911",
   "metadata": {},
   "outputs": [
    {
     "name": "stdout",
     "output_type": "stream",
     "text": [
      "yes, it is starting with 'lets'\n"
     ]
    }
   ],
   "source": [
    "if df.startswith(wrd_to_check):\n",
    "    print(f\"yes, it is starting with '{wrd_to_check}'\")\n",
    "else:\n",
    "          print(f\"No, it is not starting with that word.\")"
   ]
  },
  {
   "cell_type": "code",
   "execution_count": 62,
   "id": "2d5a7e8e-0176-4e4b-99ff-ac9827e8c2c5",
   "metadata": {},
   "outputs": [
    {
     "data": {
      "text/plain": [
       "'Check if a string ends with a specific word or phrase.'"
      ]
     },
     "execution_count": 62,
     "metadata": {},
     "output_type": "execute_result"
    }
   ],
   "source": [
    "'''Check if a string ends with a specific word or phrase.'''"
   ]
  },
  {
   "cell_type": "code",
   "execution_count": 63,
   "id": "6787f53c-2053-42f4-aa9d-7cee9d42ab9d",
   "metadata": {},
   "outputs": [
    {
     "data": {
      "text/plain": [
       "'lets explore the world'"
      ]
     },
     "execution_count": 63,
     "metadata": {},
     "output_type": "execute_result"
    }
   ],
   "source": [
    "df"
   ]
  },
  {
   "cell_type": "code",
   "execution_count": 64,
   "id": "226e453b-210e-4347-8bb6-d1170029304f",
   "metadata": {},
   "outputs": [],
   "source": [
    "word_to_check = \"world\""
   ]
  },
  {
   "cell_type": "code",
   "execution_count": 65,
   "id": "4197431c-5eff-4510-88c2-61e1d92cf953",
   "metadata": {},
   "outputs": [
    {
     "name": "stdout",
     "output_type": "stream",
     "text": [
      " Yes,it end with 'world'\n"
     ]
    }
   ],
   "source": [
    "if df.endswith(word_to_check):\n",
    "    print(f\" Yes,it end with '{word_to_check}'\")\n",
    "else:\n",
    "    print(f\" No, it is not ending with '{word_to_check}'\")"
   ]
  },
  {
   "cell_type": "code",
   "execution_count": 66,
   "id": "6ad6e342-8fb4-46e0-a1d8-86cc138eb947",
   "metadata": {},
   "outputs": [
    {
     "data": {
      "text/plain": [
       "'Convert a string to title case (e.g., \"hello world\" to \"Hello World\").'"
      ]
     },
     "execution_count": 66,
     "metadata": {},
     "output_type": "execute_result"
    }
   ],
   "source": [
    "'''Convert a string to title case (e.g., \"hello world\" to \"Hello World\").'''"
   ]
  },
  {
   "cell_type": "code",
   "execution_count": 67,
   "id": "547650f9-7aff-4080-bbd5-9bb9ab10c0d5",
   "metadata": {},
   "outputs": [],
   "source": [
    "h = \"hello world\""
   ]
  },
  {
   "cell_type": "code",
   "execution_count": 68,
   "id": "c04073a4-1266-4b4b-8965-e4b20abe45b8",
   "metadata": {},
   "outputs": [],
   "source": [
    "h1 = h.title()"
   ]
  },
  {
   "cell_type": "code",
   "execution_count": 69,
   "id": "79ad7981-21b0-409f-8e1f-d13afc005594",
   "metadata": {},
   "outputs": [
    {
     "data": {
      "text/plain": [
       "'Hello World'"
      ]
     },
     "execution_count": 69,
     "metadata": {},
     "output_type": "execute_result"
    }
   ],
   "source": [
    "h1"
   ]
  },
  {
   "cell_type": "code",
   "execution_count": 1,
   "id": "f5983654-bf0d-4196-a4ca-d6cc01fc3b7d",
   "metadata": {},
   "outputs": [
    {
     "data": {
      "text/plain": [
       "'Find the longest word in a string'"
      ]
     },
     "execution_count": 1,
     "metadata": {},
     "output_type": "execute_result"
    }
   ],
   "source": [
    "'''Find the longest word in a string'''"
   ]
  },
  {
   "cell_type": "code",
   "execution_count": 6,
   "id": "95589f55-60fd-4a0d-85ab-aa3e0a1bb3ea",
   "metadata": {},
   "outputs": [
    {
     "name": "stdout",
     "output_type": "stream",
     "text": [
      "longest word is elephant.\n"
     ]
    }
   ],
   "source": [
    "def find_longest_word(text):\n",
    "    words = text.split()\n",
    "    \n",
    "    \n",
    "    longes_word = \" \"\n",
    "    max_length = 0\n",
    "    \n",
    "    for word in words:\n",
    "        if len(word) > max_length:\n",
    "            max_length = len(word)\n",
    "            longest_word = word\n",
    "    return longest_word\n",
    "\n",
    "text = \"Hello, you are a elephant.\"\n",
    "longest_word = findef d_longest_word(text)\n",
    "print(\"longest word is\", longest_word)"
   ]
  },
  {
   "cell_type": "code",
   "execution_count": 7,
   "id": "3029787a-5ab1-4aaa-8231-4ddb2fb450d2",
   "metadata": {},
   "outputs": [
    {
     "data": {
      "text/plain": [
       "'Find the shortest word in a string.'"
      ]
     },
     "execution_count": 7,
     "metadata": {},
     "output_type": "execute_result"
    }
   ],
   "source": [
    "'''Find the shortest word in a string.'''"
   ]
  },
  {
   "cell_type": "code",
   "execution_count": 10,
   "id": "bfcedbd1-8e0f-46ab-8052-a7f08483518d",
   "metadata": {},
   "outputs": [
    {
     "name": "stdout",
     "output_type": "stream",
     "text": [
      "Shortest_word a\n"
     ]
    }
   ],
   "source": [
    "def find_shortest_word(text):\n",
    "    shrt = text.split()\n",
    "    \n",
    "    shortest_word = None\n",
    "    min_length = float('inf')\n",
    "    \n",
    "    for sht in shrt:\n",
    "        if len(sht) < min_length:\n",
    "            min_length = len(sht)\n",
    "            shortest_word = sht\n",
    "    return shortest_word\n",
    "\n",
    "text = \"Hello, You are my world and my love of life. living without you is not possile for a single moment.\"\n",
    "shortest_word = find_shortest_word(text)\n",
    "print(\"Shortest_word\", shortest_word)\n",
    "            "
   ]
  },
  {
   "cell_type": "code",
   "execution_count": 11,
   "id": "c833b730-2ab0-44b3-b568-5376268dc23e",
   "metadata": {},
   "outputs": [
    {
     "data": {
      "text/plain": [
       "'Reverse the order of words in a string.'"
      ]
     },
     "execution_count": 11,
     "metadata": {},
     "output_type": "execute_result"
    }
   ],
   "source": [
    "'''Reverse the order of words in a string.'''"
   ]
  },
  {
   "cell_type": "code",
   "execution_count": 14,
   "id": "7ff03811-f04f-46a3-80c1-70ee92357a2c",
   "metadata": {},
   "outputs": [],
   "source": [
    "h1 = \"Youa are my world.\""
   ]
  },
  {
   "cell_type": "code",
   "execution_count": 15,
   "id": "2d023447-9ff7-443d-9df5-6f6a33cf0cdb",
   "metadata": {},
   "outputs": [
    {
     "data": {
      "text/plain": [
       "'Youa are my world.'"
      ]
     },
     "execution_count": 15,
     "metadata": {},
     "output_type": "execute_result"
    }
   ],
   "source": [
    "h1"
   ]
  },
  {
   "cell_type": "code",
   "execution_count": 16,
   "id": "d2b57c4c-a720-4196-a5fb-056131fd9563",
   "metadata": {},
   "outputs": [
    {
     "data": {
      "text/plain": [
       "'.dlrow ym era auoY'"
      ]
     },
     "execution_count": 16,
     "metadata": {},
     "output_type": "execute_result"
    }
   ],
   "source": [
    "h1[::-1]"
   ]
  },
  {
   "cell_type": "code",
   "execution_count": 17,
   "id": "ce13ea60-20df-4300-ac28-cdc931c613f0",
   "metadata": {},
   "outputs": [
    {
     "data": {
      "text/plain": [
       "'Check if a string is alphanumeric.'"
      ]
     },
     "execution_count": 17,
     "metadata": {},
     "output_type": "execute_result"
    }
   ],
   "source": [
    "'''Check if a string is alphanumeric.'''\n",
    "\n",
    "#23 "
   ]
  },
  {
   "cell_type": "code",
   "execution_count": 18,
   "id": "54cd0571-0f2c-4ddf-9329-456dada8e8b2",
   "metadata": {},
   "outputs": [],
   "source": [
    "h2 = \"hello123456\""
   ]
  },
  {
   "cell_type": "code",
   "execution_count": 19,
   "id": "6c99d2fa-6077-483a-907e-6a6d20458dae",
   "metadata": {},
   "outputs": [
    {
     "data": {
      "text/plain": [
       "str"
      ]
     },
     "execution_count": 19,
     "metadata": {},
     "output_type": "execute_result"
    }
   ],
   "source": [
    "type(h2)"
   ]
  },
  {
   "cell_type": "code",
   "execution_count": 20,
   "id": "a8bab9f7-7176-49e1-952e-f7d4b5d858b1",
   "metadata": {},
   "outputs": [
    {
     "data": {
      "text/plain": [
       "True"
      ]
     },
     "execution_count": 20,
     "metadata": {},
     "output_type": "execute_result"
    }
   ],
   "source": [
    "h2.isalnum()"
   ]
  },
  {
   "cell_type": "code",
   "execution_count": 1,
   "id": "ab0d44f6-ac52-4895-a444-6878910277d3",
   "metadata": {},
   "outputs": [
    {
     "data": {
      "text/plain": [
       "' Extract all digits from a string.'"
      ]
     },
     "execution_count": 1,
     "metadata": {},
     "output_type": "execute_result"
    }
   ],
   "source": [
    "''' Extract all digits from a string.'''\n",
    "\n",
    "#24"
   ]
  },
  {
   "cell_type": "code",
   "execution_count": 9,
   "id": "2fbeae6e-65cc-45fa-a8e8-61c6b53b6635",
   "metadata": {},
   "outputs": [
    {
     "name": "stdout",
     "output_type": "stream",
     "text": [
      "the digit are, 8339813129\n"
     ]
    }
   ],
   "source": [
    "import re\n",
    "\n",
    "text = \"my number is 8339813129\"\n",
    "\n",
    "digit = re.findall(r'\\d',text)\n",
    "\n",
    "dig_join = \"\".join(digit)\n",
    "\n",
    "print(\"the digit are,\", dig_join)"
   ]
  },
  {
   "cell_type": "code",
   "execution_count": 12,
   "id": "512a763b-c9e0-4222-a40c-c67c73fdad02",
   "metadata": {},
   "outputs": [
    {
     "name": "stdout",
     "output_type": "stream",
     "text": [
      "the digit are 8339813129\n"
     ]
    }
   ],
   "source": [
    "#another way to do this\n",
    "\n",
    "def all_digit_in_string(text):\n",
    "    digit = \"\"\n",
    "    \n",
    "    for char in text:\n",
    "        if char.isdigit():\n",
    "            digit +=char\n",
    "            \n",
    "    return digit\n",
    "\n",
    "text = \"my number is 8339813129\"\n",
    "digit_no = all_digit_in_string(text)\n",
    "print(\"the digit are\", digit_no)\n",
    "            "
   ]
  },
  {
   "cell_type": "code",
   "execution_count": 13,
   "id": "6ca0cdb2-8c26-4430-bc92-685ea7669562",
   "metadata": {},
   "outputs": [
    {
     "data": {
      "text/plain": [
       "'Extract all alphabets from a string.'"
      ]
     },
     "execution_count": 13,
     "metadata": {},
     "output_type": "execute_result"
    }
   ],
   "source": [
    "'''Extract all alphabets from a string.'''\n",
    "\n",
    "#25 question "
   ]
  },
  {
   "cell_type": "code",
   "execution_count": 3,
   "id": "5201a196-880c-473b-be75-fcc3a7cff533",
   "metadata": {},
   "outputs": [
    {
     "name": "stdout",
     "output_type": "stream",
     "text": [
      "total text helloworld\n"
     ]
    }
   ],
   "source": [
    "def alpha_string(text):\n",
    "    alphabat = \"\"\n",
    "    \n",
    "    for char in text:\n",
    "        if char.isalpha():\n",
    "            alphabat +=char\n",
    "    \n",
    "    return alphabat\n",
    "\n",
    "text = \"hello world 123\"\n",
    "alph = alpha_string(text)\n",
    "print(\"total text\", alph)\n",
    "    "
   ]
  },
  {
   "cell_type": "code",
   "execution_count": 8,
   "id": "dc28cfc0-a6fa-4347-9fc6-aa37d3a9452a",
   "metadata": {},
   "outputs": [
    {
     "name": "stdout",
     "output_type": "stream",
     "text": [
      "all the alph are, hellottttt\n"
     ]
    }
   ],
   "source": [
    "# one more way \n",
    "import re\n",
    "\n",
    "text = \"hello ttttt 12345\"\n",
    "\n",
    "aph = re.findall(r'[a-zA-Z]',text)\n",
    "\n",
    "apht = \"\".join(aph)\n",
    "\n",
    "print(\"all the alph are,\", apht)"
   ]
  },
  {
   "cell_type": "code",
   "execution_count": 9,
   "id": "06dd557c-d8e5-45ca-814e-0defaf2a3047",
   "metadata": {},
   "outputs": [
    {
     "data": {
      "text/plain": [
       "'Count the number of uppercase letters in a string.'"
      ]
     },
     "execution_count": 9,
     "metadata": {},
     "output_type": "execute_result"
    }
   ],
   "source": [
    "# 26\n",
    "\n",
    "'''Count the number of uppercase letters in a string.'''"
   ]
  },
  {
   "cell_type": "code",
   "execution_count": 23,
   "id": "5c1bff5c-dda7-4d9d-9ef5-cb0076134710",
   "metadata": {},
   "outputs": [
    {
     "name": "stdout",
     "output_type": "stream",
     "text": [
      " the total number of uppercase, 12\n"
     ]
    }
   ],
   "source": [
    "T7 = \"HELLO WORLD, This is your Titu.\"\n",
    "\n",
    "t8 = 0\n",
    "\n",
    "for char in T7:\n",
    "    if char.isupper():\n",
    "        t8 += 1\n",
    "print(\" the total number of uppercase,\", t8)"
   ]
  },
  {
   "cell_type": "code",
   "execution_count": 24,
   "id": "953747c8-a8f8-4d06-8c52-157607b5d88e",
   "metadata": {},
   "outputs": [
    {
     "data": {
      "text/plain": [
       "'. Count the number of lowercase letters in a string.'"
      ]
     },
     "execution_count": 24,
     "metadata": {},
     "output_type": "execute_result"
    }
   ],
   "source": [
    "'''. Count the number of lowercase letters in a string.'''\n",
    "\n",
    "#27 question"
   ]
  },
  {
   "cell_type": "code",
   "execution_count": 25,
   "id": "a6ca21d8-3f21-4147-9f2d-628c8cc5c8dd",
   "metadata": {},
   "outputs": [
    {
     "name": "stdout",
     "output_type": "stream",
     "text": [
      " the total number of uppercase, 12\n"
     ]
    }
   ],
   "source": [
    "T7 = \"HELLO WORLD, This is your Titu.\"\n",
    "\n",
    "t8 = 0\n",
    "\n",
    "for char in T7:\n",
    "    if char.islower():\n",
    "        t8 += 1\n",
    "print(\" the total number of uppercase,\", t8)"
   ]
  },
  {
   "cell_type": "code",
   "execution_count": 26,
   "id": "adf4f5f2-c170-4dd7-9e7a-20b704fe22a9",
   "metadata": {},
   "outputs": [
    {
     "data": {
      "text/plain": [
       "'Swap the case of each character in a string.'"
      ]
     },
     "execution_count": 26,
     "metadata": {},
     "output_type": "execute_result"
    }
   ],
   "source": [
    "'''Swap the case of each character in a string.'''\n",
    "\n",
    "#28 question\n"
   ]
  },
  {
   "cell_type": "code",
   "execution_count": 30,
   "id": "d79ef557-2509-4e3c-878d-d5425b608d22",
   "metadata": {},
   "outputs": [],
   "source": [
    "T7 = \"HELLO WORLD, This is your Titu.\""
   ]
  },
  {
   "cell_type": "code",
   "execution_count": 31,
   "id": "ac818746-af26-4577-9056-5a22386ea92d",
   "metadata": {},
   "outputs": [],
   "source": [
    "t9 = T7.swapcase()"
   ]
  },
  {
   "cell_type": "code",
   "execution_count": 32,
   "id": "8148f137-fd24-4f85-beae-d8f030090da0",
   "metadata": {},
   "outputs": [
    {
     "data": {
      "text/plain": [
       "'hello world, tHIS IS YOUR tITU.'"
      ]
     },
     "execution_count": 32,
     "metadata": {},
     "output_type": "execute_result"
    }
   ],
   "source": [
    "t9"
   ]
  },
  {
   "cell_type": "code",
   "execution_count": 34,
   "id": "dfc9f808-4486-42ca-be7e-3635ddb31d3d",
   "metadata": {},
   "outputs": [
    {
     "data": {
      "text/plain": [
       "'Remove a specific word from a string.'"
      ]
     },
     "execution_count": 34,
     "metadata": {},
     "output_type": "execute_result"
    }
   ],
   "source": [
    "'''Remove a specific word from a string.'''\n",
    "\n",
    "#29 question"
   ]
  },
  {
   "cell_type": "code",
   "execution_count": 35,
   "id": "54eb3389-458b-4c6a-9754-23062d7133b4",
   "metadata": {},
   "outputs": [],
   "source": [
    "h1 = \"hello, You are my world.\"\n",
    "\n",
    "word_to_remove = \"world\"\n"
   ]
  },
  {
   "cell_type": "code",
   "execution_count": 36,
   "id": "42d039ad-16ae-4d97-be94-cbd5e8ad6b2f",
   "metadata": {},
   "outputs": [],
   "source": [
    "h2 = h1.replace(word_to_remove, \" \")"
   ]
  },
  {
   "cell_type": "code",
   "execution_count": 37,
   "id": "09789957-e3ff-4cd5-867b-0925f44b46a3",
   "metadata": {},
   "outputs": [
    {
     "data": {
      "text/plain": [
       "'hello, You are my  .'"
      ]
     },
     "execution_count": 37,
     "metadata": {},
     "output_type": "execute_result"
    }
   ],
   "source": [
    "h2"
   ]
  },
  {
   "cell_type": "code",
   "execution_count": 6,
   "id": "09cf3363-0e24-4347-ae50-a4d1f9964e29",
   "metadata": {},
   "outputs": [
    {
     "data": {
      "text/plain": [
       "'Check if a string is a valid email address.'"
      ]
     },
     "execution_count": 6,
     "metadata": {},
     "output_type": "execute_result"
    }
   ],
   "source": [
    "'''Check if a string is a valid email address.'''"
   ]
  },
  {
   "cell_type": "code",
   "execution_count": 8,
   "id": "27de885b-e8ab-4b27-8b6d-e0c90280cfe0",
   "metadata": {},
   "outputs": [
    {
     "name": "stdout",
     "output_type": "stream",
     "text": [
      "True\n",
      "False\n"
     ]
    }
   ],
   "source": [
    "def emai_check(email):\n",
    "    if \"@\" in email and \".\" in email:\n",
    "        parts = email.split(\"@\")\n",
    "        if len(parts) ==2 and parts[0] and parts[1]:\n",
    "            domain_parts = parts[1].split(\".\")\n",
    "            if len(domain_parts) >=2 and all(domain_parts):\n",
    "                return True\n",
    "    return False\n",
    "\n",
    "email1 = \"example@email.com\"\n",
    "email2 = \"invalid-email\"\n",
    "result1 = emai_check(email1)\n",
    "result2 = emai_check(email2)\n",
    "\n",
    "print(result1)  # Should print True\n",
    "print(result2)  # Should print False\n",
    "        "
   ]
  },
  {
   "cell_type": "code",
   "execution_count": 5,
   "id": "dd16d2f6-c70c-45ec-b12c-d9f7b2d5b55d",
   "metadata": {},
   "outputs": [
    {
     "data": {
      "text/plain": [
       "' . Extract the username from an email address string.'"
      ]
     },
     "execution_count": 5,
     "metadata": {},
     "output_type": "execute_result"
    }
   ],
   "source": [
    "''' . Extract the username from an email address string.'''\n",
    "\n",
    "#30 question"
   ]
  },
  {
   "cell_type": "code",
   "execution_count": 3,
   "id": "b7becc54-af17-4d86-829d-6d4ef1c276b0",
   "metadata": {},
   "outputs": [
    {
     "name": "stdout",
     "output_type": "stream",
     "text": [
      "Username:  abdur8339813129\n"
     ]
    }
   ],
   "source": [
    "def extract_id(email):\n",
    "    parts = email.split(\"@\")\n",
    "    \n",
    "    if len(parts) ==2:\n",
    "        username = parts[0]\n",
    "        \n",
    "        return username \n",
    "    else:\n",
    "        return None \n",
    "\n",
    "email = \"abdur8339813129@gmail.com\"\n",
    "username = extract_id(email)\n",
    "if username:\n",
    "    print(\"Username: \",username)\n",
    "else:\n",
    "    print(\"Not valid\")"
   ]
  },
  {
   "cell_type": "code",
   "execution_count": 4,
   "id": "b4f474b0-75e3-4fca-a1f2-32ea528f1eab",
   "metadata": {},
   "outputs": [
    {
     "data": {
      "text/plain": [
       "'. Extract the domain name from an email address string.'"
      ]
     },
     "execution_count": 4,
     "metadata": {},
     "output_type": "execute_result"
    }
   ],
   "source": [
    "'''. Extract the domain name from an email address string.'''"
   ]
  },
  {
   "cell_type": "code",
   "execution_count": 11,
   "id": "4c1b5664-3e40-485e-95f8-ffdadb41955b",
   "metadata": {},
   "outputs": [],
   "source": [
    "def Domain_nam(email):\n",
    "    parts = email.split(\"@\")\n",
    "    \n",
    "    if len(parts) ==2:\n",
    "        return parts[1]\n",
    "    else:\n",
    "        return None"
   ]
  },
  {
   "cell_type": "code",
   "execution_count": 12,
   "id": "2d312590-bf9b-4e8f-bad5-885423a8b2cf",
   "metadata": {},
   "outputs": [
    {
     "data": {
      "text/plain": [
       "'gmail.com'"
      ]
     },
     "execution_count": 12,
     "metadata": {},
     "output_type": "execute_result"
    }
   ],
   "source": [
    "Domain_nam(\"abdur8339813129@gmail.com\")"
   ]
  },
  {
   "cell_type": "code",
   "execution_count": 13,
   "id": "dbd273b6-3bf0-4564-a81a-4997e6e6e081",
   "metadata": {},
   "outputs": [
    {
     "data": {
      "text/plain": [
       "'Replace multiple spaces in a string with a single space.'"
      ]
     },
     "execution_count": 13,
     "metadata": {},
     "output_type": "execute_result"
    }
   ],
   "source": [
    "'''Replace multiple spaces in a string with a single space.'''\n",
    "\n",
    "#33 question"
   ]
  },
  {
   "cell_type": "code",
   "execution_count": 16,
   "id": "e91a53c1-7064-476a-9dc6-c7d677f865df",
   "metadata": {},
   "outputs": [
    {
     "data": {
      "text/plain": [
       "'Hello, My name is abdur and You are my Hero.'"
      ]
     },
     "execution_count": 16,
     "metadata": {},
     "output_type": "execute_result"
    }
   ],
   "source": [
    "H = \"Hello,  My name is abdur and  You are my Hero.\"\n",
    "\n",
    "H.replace(\"  \",\" \")"
   ]
  },
  {
   "cell_type": "code",
   "execution_count": 17,
   "id": "cabc1ad6-19ad-4205-8595-71419d2d4f72",
   "metadata": {},
   "outputs": [
    {
     "data": {
      "text/plain": [
       "'Check if a string is a valid URL'"
      ]
     },
     "execution_count": 17,
     "metadata": {},
     "output_type": "execute_result"
    }
   ],
   "source": [
    " '''Check if a string is a valid URL'''\n",
    "#34"
   ]
  },
  {
   "cell_type": "code",
   "execution_count": 19,
   "id": "ae34ac2c-a153-4ba0-b6ab-550a9c73f1cc",
   "metadata": {},
   "outputs": [
    {
     "ename": "ModuleNotFoundError",
     "evalue": "No module named 'validators'",
     "output_type": "error",
     "traceback": [
      "\u001b[0;31m---------------------------------------------------------------------------\u001b[0m",
      "\u001b[0;31mModuleNotFoundError\u001b[0m                       Traceback (most recent call last)",
      "Cell \u001b[0;32mIn[19], line 1\u001b[0m\n\u001b[0;32m----> 1\u001b[0m \u001b[38;5;28;01mimport\u001b[39;00m \u001b[38;5;21;01mvalidators\u001b[39;00m\n\u001b[1;32m      3\u001b[0m \u001b[38;5;28;01mdef\u001b[39;00m \u001b[38;5;21mis_valid_url\u001b[39m(url):\n\u001b[1;32m      4\u001b[0m     \u001b[38;5;28;01mreturn\u001b[39;00m validators(url)\n",
      "\u001b[0;31mModuleNotFoundError\u001b[0m: No module named 'validators'"
     ]
    }
   ],
   "source": [
    "import validators\n",
    "\n",
    "def is_valid_url(url):\n",
    "    return validators(url)\n",
    "\n",
    "url = \"Http://example.com\"\n",
    "url2 - \"invalid-url\"\n",
    "\n",
    "result1 = is_valid_url(url1)\n",
    "resullt2 = is_valid_url(url2)\n",
    "\n",
    "print(result1)\n",
    "print(result2)"
   ]
  },
  {
   "cell_type": "code",
   "execution_count": 21,
   "id": "e4e4b26c-14a4-4a2c-8f23-595e5b4b708b",
   "metadata": {},
   "outputs": [
    {
     "name": "stdout",
     "output_type": "stream",
     "text": [
      "True\n",
      "False\n"
     ]
    }
   ],
   "source": [
    "from urllib.parse import urlparse\n",
    "\n",
    "def is_valid_url(url):\n",
    "    try:\n",
    "        parsed_url = urlparse(url)\n",
    "        return all([parsed_url.scheme, parsed_url.netloc])\n",
    "    except ValueError:\n",
    "        return False\n",
    "\n",
    "# Example usage\n",
    "url1 = \"https://www.example.com\"\n",
    "url2 = \"invalid-url\"\n",
    "result1 = is_valid_url(url1)\n",
    "result2 = is_valid_url(url2)\n",
    "\n",
    "print(result1)  # Should print True\n",
    "print(result2)  # Should print False"
   ]
  },
  {
   "cell_type": "code",
   "execution_count": 23,
   "id": "e1b3166b-8487-4956-801a-6620ed31cd37",
   "metadata": {},
   "outputs": [
    {
     "data": {
      "text/plain": [
       "'. Extract the protocol (http or https) from a URL string.'"
      ]
     },
     "execution_count": 23,
     "metadata": {},
     "output_type": "execute_result"
    }
   ],
   "source": [
    "'''. Extract the protocol (http or https) from a URL string.'''\n",
    "\n",
    "#35 question"
   ]
  },
  {
   "cell_type": "code",
   "execution_count": 25,
   "id": "3eaf44c4-e3e8-4f7f-aa68-91335a61cbd0",
   "metadata": {},
   "outputs": [
    {
     "name": "stdout",
     "output_type": "stream",
     "text": [
      "http\n"
     ]
    }
   ],
   "source": [
    "from urllib.parse import urlparse\n",
    "\n",
    "def extract_protocol(url):\n",
    "    parasd_url = urlparse(url)\n",
    "    return parasd_url.scheme\n",
    "\n",
    "url = \"http://example.com\"\n",
    "protocol = extract_protocol(url)\n",
    "print(protocol)"
   ]
  },
  {
   "cell_type": "code",
   "execution_count": 26,
   "id": "f6b83b0f-80da-475f-970d-e6e775f9f4fe",
   "metadata": {},
   "outputs": [
    {
     "data": {
      "text/plain": [
       "' Find the frequency of each character in a string.'"
      ]
     },
     "execution_count": 26,
     "metadata": {},
     "output_type": "execute_result"
    }
   ],
   "source": [
    "''' Find the frequency of each character in a string.'''\n",
    "\n",
    "#36 question"
   ]
  },
  {
   "cell_type": "code",
   "execution_count": 37,
   "id": "bd16b8bc-dc3f-4554-9dff-05760a620c2b",
   "metadata": {},
   "outputs": [
    {
     "name": "stdout",
     "output_type": "stream",
     "text": [
      "'h' appears 1 times\n",
      "'e' appears 1 times\n",
      "'l' appears 3 times\n",
      "'o' appears 2 times\n",
      "' ' appears 1 times\n",
      "'w' appears 1 times\n",
      "'r' appears 1 times\n",
      "'d' appears 1 times\n"
     ]
    }
   ],
   "source": [
    "def count_characters(input_string):\n",
    "    # Create an empty dictionary to store character counts\n",
    "    char_count = {}\n",
    "\n",
    "    # Iterate through the input string\n",
    "    for char in input_string:\n",
    "        # Check if the character is already in the dictionary\n",
    "        if char in char_count:\n",
    "            # If it exists, increment the count\n",
    "            char_count[char] += 1\n",
    "        else:\n",
    "            # If it doesn't exist, initialize the count to 1\n",
    "            char_count[char] = 1\n",
    "\n",
    "    return char_count\n",
    "\n",
    "# Example usage\n",
    "input_string = \"hello world\"\n",
    "char_frequency = count_characters(input_string)\n",
    "\n",
    "# Print the character frequencies\n",
    "for char, count in char_frequency.items():\n",
    "    print(f\"'{char}' appears {count} times\")"
   ]
  },
  {
   "cell_type": "code",
   "execution_count": 39,
   "id": "58538c2e-8dd1-41d4-a8aa-e88b881b050f",
   "metadata": {},
   "outputs": [
    {
     "data": {
      "text/plain": [
       "'Remove all punctuation from a string.'"
      ]
     },
     "execution_count": 39,
     "metadata": {},
     "output_type": "execute_result"
    }
   ],
   "source": [
    "'''Remove all punctuation from a string.'''\n",
    "#37 qu"
   ]
  },
  {
   "cell_type": "code",
   "execution_count": 49,
   "id": "e8311270-abdf-4168-a7fd-42a372f429ba",
   "metadata": {},
   "outputs": [],
   "source": [
    "def remove_punc(n):\n",
    "    punc_char = set(\"!/\\|,.:;<>=?@$%^-~`\")\n",
    "    \n",
    "    clean_string = \"\".join(char for char in n if char not in punc_char)\n",
    "    \n",
    "    return clean_string"
   ]
  },
  {
   "cell_type": "code",
   "execution_count": 50,
   "id": "e073677f-cfd4-44e6-9611-fec212a862ae",
   "metadata": {},
   "outputs": [
    {
     "data": {
      "text/plain": [
       "'Hello  Who are you '"
      ]
     },
     "execution_count": 50,
     "metadata": {},
     "output_type": "execute_result"
    }
   ],
   "source": [
    "remove_punc(\"Hello, ? Who are you ?.,\")"
   ]
  },
  {
   "cell_type": "code",
   "execution_count": null,
   "id": "18637374-0216-4dc1-a770-40e1e0217d43",
   "metadata": {},
   "outputs": [],
   "source": []
  },
  {
   "cell_type": "code",
   "execution_count": 2,
   "id": "a2887de0-dd8d-41ba-89ec-a547a9f4ed24",
   "metadata": {},
   "outputs": [
    {
     "data": {
      "text/plain": [
       "'Check if a string contains only digits.'"
      ]
     },
     "execution_count": 2,
     "metadata": {},
     "output_type": "execute_result"
    }
   ],
   "source": [
    "'''Check if a string contains only digits.'''\n",
    "#38 question"
   ]
  },
  {
   "cell_type": "code",
   "execution_count": 3,
   "id": "155edf8a-6ac0-47bf-a23c-73bddf91241d",
   "metadata": {},
   "outputs": [],
   "source": [
    "d = \"ty57868454544343fhvfnviv\""
   ]
  },
  {
   "cell_type": "code",
   "execution_count": 5,
   "id": "7b1e8106-9ddf-4afd-bb1e-15d9cdd30959",
   "metadata": {},
   "outputs": [
    {
     "data": {
      "text/plain": [
       "False"
      ]
     },
     "execution_count": 5,
     "metadata": {},
     "output_type": "execute_result"
    }
   ],
   "source": [
    "d.isdigit()"
   ]
  },
  {
   "cell_type": "code",
   "execution_count": 6,
   "id": "ec9dae71-bd40-49c3-850d-451b433f72be",
   "metadata": {},
   "outputs": [
    {
     "data": {
      "text/plain": [
       "'Check if a string contains only alphabets.'"
      ]
     },
     "execution_count": 6,
     "metadata": {},
     "output_type": "execute_result"
    }
   ],
   "source": [
    "'''Check if a string contains only alphabets.'''\n",
    "\n",
    "#39 question"
   ]
  },
  {
   "cell_type": "code",
   "execution_count": 7,
   "id": "e7d51de1-4906-437a-a606-49fffe242344",
   "metadata": {},
   "outputs": [
    {
     "data": {
      "text/plain": [
       "False"
      ]
     },
     "execution_count": 7,
     "metadata": {},
     "output_type": "execute_result"
    }
   ],
   "source": [
    "d.isalpha()"
   ]
  },
  {
   "cell_type": "code",
   "execution_count": 8,
   "id": "f10ab712-6358-43b4-83d3-71fcdff97c06",
   "metadata": {},
   "outputs": [
    {
     "data": {
      "text/plain": [
       "'Convert a string to a list of characters.'"
      ]
     },
     "execution_count": 8,
     "metadata": {},
     "output_type": "execute_result"
    }
   ],
   "source": [
    "'''Convert a string to a list of characters.'''\n",
    "\n",
    "#40 question"
   ]
  },
  {
   "cell_type": "code",
   "execution_count": 11,
   "id": "39649683-f7c3-4e17-b7a2-40232d893d33",
   "metadata": {},
   "outputs": [],
   "source": [
    "dt = \"hello India, Thank You\""
   ]
  },
  {
   "cell_type": "code",
   "execution_count": 14,
   "id": "14b29e93-f659-432b-acc2-bf84d58c2ab4",
   "metadata": {},
   "outputs": [
    {
     "name": "stdout",
     "output_type": "stream",
     "text": [
      "['h', 'e', 'l', 'l', 'o', ' ', 'I', 'n', 'd', 'i', 'a', ',', ' ', 'T', 'h', 'a', 'n', 'k', ' ', 'Y', 'o', 'u'] "
     ]
    }
   ],
   "source": [
    "dtt = [char for char in dt]    \n",
    "\n",
    "print(dtt, end = \" \")"
   ]
  },
  {
   "cell_type": "code",
   "execution_count": 15,
   "id": "8cfbcca6-8b90-44e9-aa55-4f803524563f",
   "metadata": {},
   "outputs": [
    {
     "data": {
      "text/plain": [
       "\"'Check if two strings are anagrams.\""
      ]
     },
     "execution_count": 15,
     "metadata": {},
     "output_type": "execute_result"
    }
   ],
   "source": [
    "''''Check if two strings are anagrams.'''\n"
   ]
  },
  {
   "cell_type": "code",
   "execution_count": 18,
   "id": "b966cd6d-1b0f-41ad-9321-f982b848811d",
   "metadata": {},
   "outputs": [
    {
     "data": {
      "text/plain": [
       "False"
      ]
     },
     "execution_count": 18,
     "metadata": {},
     "output_type": "execute_result"
    }
   ],
   "source": [
    "def stn_an(s1,s2):\n",
    "    s1 = s1.replace(\" \",\"\").lower()\n",
    "    s2 = s2.replace(\" \",\"\").lower()\n",
    "    \n",
    "    return sorted(s1) == sorted(s2)\n",
    "\n",
    "stn_an(\"Abdur\",\"raheman\")"
   ]
  },
  {
   "cell_type": "code",
   "execution_count": 20,
   "id": "294c7a78-8f1a-47c1-83d0-1d83a2a11e20",
   "metadata": {},
   "outputs": [
    {
     "data": {
      "text/plain": [
       "'ncode a string using a Caesar cipher.'"
      ]
     },
     "execution_count": 20,
     "metadata": {},
     "output_type": "execute_result"
    }
   ],
   "source": [
    "'''ncode a string using a Caesar cipher.'''\n",
    "\n",
    "#42 ques"
   ]
  },
  {
   "cell_type": "code",
   "execution_count": 21,
   "id": "289d28bb-4d4e-4628-b1dd-ebc9e4eed565",
   "metadata": {},
   "outputs": [
    {
     "name": "stdout",
     "output_type": "stream",
     "text": [
      "Original text: Hello, World!\n",
      "Encoded text: Khoor, Zruog!\n"
     ]
    }
   ],
   "source": [
    "def caesar_cipher(text, shift):\n",
    "    encoded_text = \"\"\n",
    "    \n",
    "    for char in text:\n",
    "        if char.isalpha():  # Check if the character is a letter\n",
    "            if char.islower():\n",
    "                # Shift lowercase letters\n",
    "                encoded_char = chr(((ord(char) - ord('a') + shift) % 26) + ord('a'))\n",
    "            else:\n",
    "                # Shift uppercase letters\n",
    "                encoded_char = chr(((ord(char) - ord('A') + shift) % 26) + ord('A'))\n",
    "        else:\n",
    "            # Keep non-alphabet characters unchanged\n",
    "            encoded_char = char\n",
    "        \n",
    "        encoded_text += encoded_char\n",
    "    \n",
    "    return encoded_text\n",
    "\n",
    "# Example usage\n",
    "input_text = \"Hello, World!\"\n",
    "shift_amount = 3\n",
    "encoded_text = caesar_cipher(input_text, shift_amount)\n",
    "\n",
    "print(\"Original text:\", input_text)\n",
    "print(\"Encoded text:\", encoded_text)\n"
   ]
  },
  {
   "cell_type": "code",
   "execution_count": 22,
   "id": "08a08e13-4add-456c-b829-563b639d8957",
   "metadata": {},
   "outputs": [
    {
     "data": {
      "text/plain": [
       "'Decode a Caesar cipher encoded string.'"
      ]
     },
     "execution_count": 22,
     "metadata": {},
     "output_type": "execute_result"
    }
   ],
   "source": [
    "'''Decode a Caesar cipher encoded string.'''\n",
    "\n",
    "#43 q"
   ]
  },
  {
   "cell_type": "code",
   "execution_count": 24,
   "id": "f0176ec5-1067-4cc1-89d6-63e98212437e",
   "metadata": {},
   "outputs": [
    {
     "name": "stdout",
     "output_type": "stream",
     "text": [
      "Encoded text: Khoor, Zruog!\n",
      "Decoded text: Hello, World!\n"
     ]
    }
   ],
   "source": [
    "def caesar_decipher(encoded_text, shift):\n",
    "    decoded_text = \"\"\n",
    "    \n",
    "    for char in encoded_text:\n",
    "        if char.isalpha():  # Check if the character is a letter\n",
    "            if char.islower():\n",
    "                # Shift lowercase letters back to their original positions\n",
    "                decoded_char = chr(((ord(char) - ord('a') - shift) % 26) + ord('a'))\n",
    "            else:\n",
    "                # Shift uppercase letters back to their original positions\n",
    "                decoded_char = chr(((ord(char) - ord('A') - shift) % 26) + ord('A'))\n",
    "        else:\n",
    "            # Keep non-alphabet characters unchanged\n",
    "            decoded_char = char\n",
    "        \n",
    "        decoded_text += decoded_char\n",
    "    \n",
    "    return decoded_text\n",
    "\n",
    "# Example usage\n",
    "encoded_text = \"Khoor, Zruog!\"\n",
    "shift_amount = 3\n",
    "decoded_text = caesar_decipher(encoded_text, shift_amount)\n",
    "\n",
    "print(\"Encoded text:\", encoded_text)\n",
    "print(\"Decoded text:\", decoded_text)"
   ]
  },
  {
   "cell_type": "code",
   "execution_count": 25,
   "id": "cb2d2bc7-587e-4a5f-abc4-e3e49507feab",
   "metadata": {},
   "outputs": [
    {
     "data": {
      "text/plain": [
       "'Find the most frequent word in a string.'"
      ]
     },
     "execution_count": 25,
     "metadata": {},
     "output_type": "execute_result"
    }
   ],
   "source": [
    "'''Find the most frequent word in a string.'''\n",
    "\n",
    "#44 q"
   ]
  },
  {
   "cell_type": "code",
   "execution_count": 27,
   "id": "70ea7fa1-cf04-4f95-9881-c45f78ac88d7",
   "metadata": {},
   "outputs": [],
   "source": [
    "d = \"Hello world, hello all, hello titu and hello minu\""
   ]
  },
  {
   "cell_type": "code",
   "execution_count": 35,
   "id": "92b54c4f-04e4-4cc5-8c10-5138fb2289f0",
   "metadata": {},
   "outputs": [],
   "source": [
    "def fre_sty(n):\n",
    "    words = n.split()\n",
    "    \n",
    "    word_fr = {}\n",
    "    for i in words:\n",
    "        i = i.lower()\n",
    "        if i in word_fr:\n",
    "            word_fr[i]+=1\n",
    "        else:\n",
    "            word_fr[i] =1\n",
    "            \n",
    "    most_freq = max(word_fr, key =word_fr.get)\n",
    "    \n",
    "    return most_freq"
   ]
  },
  {
   "cell_type": "code",
   "execution_count": 36,
   "id": "337cc084-18ca-4504-a166-dbe4899856d8",
   "metadata": {},
   "outputs": [
    {
     "data": {
      "text/plain": [
       "'hello'"
      ]
     },
     "execution_count": 36,
     "metadata": {},
     "output_type": "execute_result"
    }
   ],
   "source": [
    "fre_sty(\"hello my owrld, hello my jaan, hello my ritu and hello my titu\")"
   ]
  },
  {
   "cell_type": "code",
   "execution_count": 37,
   "id": "9fc1372d-f64b-4501-ae53-b75d18f001ba",
   "metadata": {},
   "outputs": [
    {
     "data": {
      "text/plain": [
       "' Find all unique words in a string.'"
      ]
     },
     "execution_count": 37,
     "metadata": {},
     "output_type": "execute_result"
    }
   ],
   "source": [
    "''' Find all unique words in a string.'''\n",
    "#45 ques"
   ]
  },
  {
   "cell_type": "code",
   "execution_count": 39,
   "id": "4bfc281d-a4e3-4b23-9787-7a958f069602",
   "metadata": {},
   "outputs": [],
   "source": [
    "h = \"Hello my world. you are the and my everything.\""
   ]
  },
  {
   "cell_type": "code",
   "execution_count": 44,
   "id": "e7a5ac11-d395-4b52-8745-094e1cf72b40",
   "metadata": {},
   "outputs": [],
   "source": [
    "uni = h.split()\n",
    "\n"
   ]
  },
  {
   "cell_type": "code",
   "execution_count": 47,
   "id": "b04e13b9-5342-4c44-a9cc-5e45e4bdc620",
   "metadata": {},
   "outputs": [],
   "source": [
    "s = set(uni)"
   ]
  },
  {
   "cell_type": "code",
   "execution_count": 48,
   "id": "89cc91fc-77a6-40bf-852a-d8de8a1dd5c4",
   "metadata": {},
   "outputs": [
    {
     "data": {
      "text/plain": [
       "{'Hello', 'and', 'are', 'everything.', 'my', 'the', 'world.', 'you'}"
      ]
     },
     "execution_count": 48,
     "metadata": {},
     "output_type": "execute_result"
    }
   ],
   "source": [
    "s"
   ]
  },
  {
   "cell_type": "code",
   "execution_count": 49,
   "id": "b95dc990-3e80-4774-a7bf-1da88431b9eb",
   "metadata": {},
   "outputs": [
    {
     "data": {
      "text/plain": [
       "' Count the number of syllables in a string.'"
      ]
     },
     "execution_count": 49,
     "metadata": {},
     "output_type": "execute_result"
    }
   ],
   "source": [
    "''' Count the number of syllables in a string.'''\n",
    "#46 ques"
   ]
  },
  {
   "cell_type": "code",
   "execution_count": 1,
   "id": "a553f782-285c-40d7-99f2-b4b95a138cf6",
   "metadata": {},
   "outputs": [
    {
     "name": "stdout",
     "output_type": "stream",
     "text": [
      "The text has 14 syllables.\n"
     ]
    }
   ],
   "source": [
    "import re\n",
    "\n",
    "def count_syllables(text):\n",
    "    syllable_pattern = r'[aeiouyAEIOUY]+'\n",
    "\n",
    "    syllables = re.findall(syllable_pattern, text)\n",
    "\n",
    "   \n",
    "    syllable_count = len(syllables)\n",
    "\n",
    "    return syllable_count\n",
    "\n",
    "text = \"This is an example sentence with several words.\"\n",
    "syllable_count = count_syllables(text)\n",
    "print(f\"The text has {syllable_count} syllables.\")"
   ]
  },
  {
   "cell_type": "code",
   "execution_count": 2,
   "id": "200184ab-88b7-43e6-9e00-2d6c4e9d3418",
   "metadata": {},
   "outputs": [
    {
     "data": {
      "text/plain": [
       "'Check if a string contains any special characters.'"
      ]
     },
     "execution_count": 2,
     "metadata": {},
     "output_type": "execute_result"
    }
   ],
   "source": [
    "'''Check if a string contains any special characters.'''\n",
    "\n",
    "#47 question"
   ]
  },
  {
   "cell_type": "code",
   "execution_count": 6,
   "id": "176aad20-212f-4497-a1a0-dc6ce7b02ace",
   "metadata": {},
   "outputs": [
    {
     "name": "stdout",
     "output_type": "stream",
     "text": [
      "True\n",
      "True\n"
     ]
    }
   ],
   "source": [
    "def spe_ch(text):\n",
    "    for char in text:\n",
    "        if not char.isalnum() and not char.isalpha():\n",
    "            return True \n",
    "    return False\n",
    "\n",
    "t1 = \"Hello, My world is you.\"\n",
    "t2 = \"This is a string with a special character: @\"\n",
    "\n",
    "tt1 = spe_ch(t1)\n",
    "tt2 = spe_ch(t2)\n",
    "\n",
    "print(tt1)\n",
    "print(tt2)"
   ]
  },
  {
   "cell_type": "code",
   "execution_count": 7,
   "id": "d35353b6-7e89-458e-af8b-fc4ba3a726cb",
   "metadata": {},
   "outputs": [
    {
     "data": {
      "text/plain": [
       "'Remove the nth word from a string'"
      ]
     },
     "execution_count": 7,
     "metadata": {},
     "output_type": "execute_result"
    }
   ],
   "source": [
    "'''Remove the nth word from a string'''\n",
    "\n",
    "# 48 qes "
   ]
  },
  {
   "cell_type": "code",
   "execution_count": 1,
   "id": "ee58d9b0-0790-410c-b8b3-9462dce35daa",
   "metadata": {},
   "outputs": [
    {
     "name": "stdout",
     "output_type": "stream",
     "text": [
      "Modified text:\n",
      "This is a sentence to demonstrate removing the nth word.\n"
     ]
    }
   ],
   "source": [
    "def remove_nth_word(text, n):\n",
    "\n",
    "    words = text.split()\n",
    "\n",
    "   \n",
    "    if n <= 0 or n > len(words):\n",
    "        return \"Invalid n value. The word cannot be removed.\"\n",
    "\n",
    "\n",
    "    del words[n - 1]\n",
    "\n",
    " \n",
    "    result = ' '.join(words)\n",
    "\n",
    "    return result\n",
    "\n",
    "input_text = \"This is a sample sentence to demonstrate removing the nth word.\"\n",
    "n = 4\n",
    "\n",
    "new_text = remove_nth_word(input_text, n)\n",
    "print(\"Modified text:\")\n",
    "print(new_text)"
   ]
  },
  {
   "cell_type": "code",
   "execution_count": 2,
   "id": "74cb3113-0ecd-414e-8e44-9dc33440867b",
   "metadata": {},
   "outputs": [
    {
     "data": {
      "text/plain": [
       "'Insert a word at the nth position in a string.'"
      ]
     },
     "execution_count": 2,
     "metadata": {},
     "output_type": "execute_result"
    }
   ],
   "source": [
    "'''Insert a word at the nth position in a string.'''\n",
    "\n",
    "# 49 question\n"
   ]
  },
  {
   "cell_type": "code",
   "execution_count": 9,
   "id": "3ffe6f79-a59d-4a14-9145-bd0b6675a9b5",
   "metadata": {},
   "outputs": [
    {
     "name": "stdout",
     "output_type": "stream",
     "text": [
      "this is for a sample question.\n"
     ]
    }
   ],
   "source": [
    "def ins_word(text, word_to_insert,n):\n",
    "    word = text.split()\n",
    "    \n",
    "    if n>=0 and n<=len(word):\n",
    "        word.insert(n,word_to_insert)\n",
    "        \n",
    "        mod_sen = ' '.join(word)\n",
    "        \n",
    "        return mod_sen\n",
    "    else:\n",
    "        return text\n",
    "input_in = \"this is a sample question.\"\n",
    "word_to_insert = \"for\"\n",
    "postion_to_insert = 2\n",
    "\n",
    "final_text = ins_word(input_in,word_to_insert,postion_to_insert)\n",
    "\n",
    "print(final_text)"
   ]
  },
  {
   "cell_type": "code",
   "execution_count": 11,
   "id": "442f5cd3-af09-4c54-bb4b-0cda07e2b3cf",
   "metadata": {},
   "outputs": [
    {
     "data": {
      "text/plain": [
       "'Convert a CSV string to a list of lists.'"
      ]
     },
     "execution_count": 11,
     "metadata": {},
     "output_type": "execute_result"
    }
   ],
   "source": [
    "'''Convert a CSV string to a list of lists.'''\n",
    "\n",
    "#50 question"
   ]
  },
  {
   "cell_type": "code",
   "execution_count": 13,
   "id": "e718ddcd-856e-4a7d-b23f-2d793d3d29d6",
   "metadata": {},
   "outputs": [],
   "source": [
    "import csv\n",
    "\n",
    "def csv_file(csv_string):\n",
    "    \n",
    "    csv_line = csv_string.splitlines()\n",
    "    csv_reader = csv.reader(csv_line)\n",
    "    \n",
    "    csv_list = list(csv_reader)\n",
    "    \n",
    "    return csv_list"
   ]
  },
  {
   "cell_type": "code",
   "execution_count": 14,
   "id": "0ba29e96-5607-486b-ac19-8607d7583415",
   "metadata": {},
   "outputs": [
    {
     "data": {
      "text/plain": [
       "[['Name', 'Age', 'Location'],\n",
       " ['Alice', '25', 'New York'],\n",
       " ['Bob', '30', 'Los Angeles'],\n",
       " ['Charlie', '22', 'San Francisco']]"
      ]
     },
     "execution_count": 14,
     "metadata": {},
     "output_type": "execute_result"
    }
   ],
   "source": [
    "csv_file(\"Name,Age,Location\\nAlice,25,New York\\nBob,30,Los Angeles\\nCharlie,22,San Francisco\")"
   ]
  },
  {
   "cell_type": "code",
   "execution_count": 16,
   "id": "ee97eee0-9a82-46f4-be87-2552aeea6231",
   "metadata": {},
   "outputs": [],
   "source": [
    "###List Based Practice Problem :"
   ]
  },
  {
   "cell_type": "code",
   "execution_count": 17,
   "id": "546d59e8-b586-459a-98f1-a39d7280fac4",
   "metadata": {},
   "outputs": [
    {
     "data": {
      "text/plain": [
       "'Create a list with integers from 1 to 10'"
      ]
     },
     "execution_count": 17,
     "metadata": {},
     "output_type": "execute_result"
    }
   ],
   "source": [
    "#1 \n",
    "'''Create a list with integers from 1 to 10'''"
   ]
  },
  {
   "cell_type": "code",
   "execution_count": 21,
   "id": "4a12db90-ddab-4d5c-bb33-10031b5e62d0",
   "metadata": {},
   "outputs": [],
   "source": [
    "c = list(range(1,11))"
   ]
  },
  {
   "cell_type": "code",
   "execution_count": 22,
   "id": "ed48db4b-a425-4dc6-954b-53a9b98de635",
   "metadata": {},
   "outputs": [
    {
     "data": {
      "text/plain": [
       "[1, 2, 3, 4, 5, 6, 7, 8, 9, 10]"
      ]
     },
     "execution_count": 22,
     "metadata": {},
     "output_type": "execute_result"
    }
   ],
   "source": [
    "c"
   ]
  },
  {
   "cell_type": "code",
   "execution_count": 23,
   "id": "a5d2d877-3fb7-48e0-9000-16eca86a7189",
   "metadata": {},
   "outputs": [
    {
     "data": {
      "text/plain": [
       "'Find the length of a list without using the `len()` function.'"
      ]
     },
     "execution_count": 23,
     "metadata": {},
     "output_type": "execute_result"
    }
   ],
   "source": [
    "#2 question\n",
    "'''Find the length of a list without using the `len()` function.'''\n"
   ]
  },
  {
   "cell_type": "code",
   "execution_count": 24,
   "id": "cc6dd133-f28c-4611-8949-901a95ba4a0e",
   "metadata": {},
   "outputs": [],
   "source": [
    "def lent_sen(text):\n",
    "    length = 0\n",
    "    \n",
    "    for i in text:\n",
    "        length +=1\n",
    "    return length"
   ]
  },
  {
   "cell_type": "code",
   "execution_count": 25,
   "id": "3d67b0dd-d1fb-48aa-a1a4-dc5f23931086",
   "metadata": {},
   "outputs": [
    {
     "data": {
      "text/plain": [
       "7"
      ]
     },
     "execution_count": 25,
     "metadata": {},
     "output_type": "execute_result"
    }
   ],
   "source": [
    "lent_sen([1,2,3,4,5,6,7])"
   ]
  },
  {
   "cell_type": "code",
   "execution_count": 26,
   "id": "b7910e6d-cc12-403c-ae3a-cdacb4df1ea7",
   "metadata": {},
   "outputs": [
    {
     "data": {
      "text/plain": [
       "'Append an element to the end of a list.'"
      ]
     },
     "execution_count": 26,
     "metadata": {},
     "output_type": "execute_result"
    }
   ],
   "source": [
    "# 3 question\n",
    "\n",
    "'''Append an element to the end of a list.'''"
   ]
  },
  {
   "cell_type": "code",
   "execution_count": 27,
   "id": "771ec70c-2c3c-4f7d-9eeb-193cec5ce863",
   "metadata": {},
   "outputs": [],
   "source": [
    "d =[1,2,34,56,7,8,9,10]"
   ]
  },
  {
   "cell_type": "code",
   "execution_count": 29,
   "id": "59ece898-8ed7-4c98-b1cf-984e7470801f",
   "metadata": {},
   "outputs": [],
   "source": [
    "y = d.append(2)"
   ]
  },
  {
   "cell_type": "code",
   "execution_count": 30,
   "id": "d47abeb5-8850-4a5a-82c4-261a566cac8c",
   "metadata": {},
   "outputs": [
    {
     "data": {
      "text/plain": [
       "[1, 2, 34, 56, 7, 8, 9, 10, 2]"
      ]
     },
     "execution_count": 30,
     "metadata": {},
     "output_type": "execute_result"
    }
   ],
   "source": [
    "d"
   ]
  },
  {
   "cell_type": "code",
   "execution_count": 31,
   "id": "7c0b599b-cf3d-4ff7-86cd-1f808054d4aa",
   "metadata": {},
   "outputs": [
    {
     "data": {
      "text/plain": [
       "'Insert an element at a specific index in a list.'"
      ]
     },
     "execution_count": 31,
     "metadata": {},
     "output_type": "execute_result"
    }
   ],
   "source": [
    "# 4 question\n",
    "'''Insert an element at a specific index in a list.'''"
   ]
  },
  {
   "cell_type": "code",
   "execution_count": 49,
   "id": "94d4916d-6c95-4c2b-ac53-e158b1c39036",
   "metadata": {},
   "outputs": [],
   "source": [
    "d = [1,2,3,4,5,6,8,9,10]"
   ]
  },
  {
   "cell_type": "code",
   "execution_count": 50,
   "id": "f107307b-f10f-47ae-b9be-073518206d98",
   "metadata": {},
   "outputs": [],
   "source": [
    "y = d.insert(6,7)"
   ]
  },
  {
   "cell_type": "code",
   "execution_count": 51,
   "id": "1e98a441-6446-47c8-a12e-a26b48b9a2a7",
   "metadata": {},
   "outputs": [
    {
     "data": {
      "text/plain": [
       "[1, 2, 3, 4, 5, 6, 7, 8, 9, 10]"
      ]
     },
     "execution_count": 51,
     "metadata": {},
     "output_type": "execute_result"
    }
   ],
   "source": [
    "d"
   ]
  },
  {
   "cell_type": "code",
   "execution_count": 52,
   "id": "5f61408e-ebe9-4cd2-93ed-dc3ad4dd6885",
   "metadata": {},
   "outputs": [
    {
     "data": {
      "text/plain": [
       "'Remove an element from a list by its value.'"
      ]
     },
     "execution_count": 52,
     "metadata": {},
     "output_type": "execute_result"
    }
   ],
   "source": [
    "# 5 question\n",
    "\n",
    "'''Remove an element from a list by its value.'''\n"
   ]
  },
  {
   "cell_type": "code",
   "execution_count": 53,
   "id": "9a75c539-7186-466b-8b19-22e4fd2f05ef",
   "metadata": {},
   "outputs": [],
   "source": [
    "d =[1,2,3,4,5,6,7,\"abdur\",\"sakil\"]"
   ]
  },
  {
   "cell_type": "code",
   "execution_count": 54,
   "id": "f3f49442-07da-4471-8a5c-5c4d3375f5e9",
   "metadata": {},
   "outputs": [],
   "source": [
    "h = d.remove(\"abdur\")"
   ]
  },
  {
   "cell_type": "code",
   "execution_count": 55,
   "id": "5761633e-8e0e-4e12-aaba-fdace0bf1216",
   "metadata": {},
   "outputs": [
    {
     "data": {
      "text/plain": [
       "[1, 2, 3, 4, 5, 6, 7, 'sakil']"
      ]
     },
     "execution_count": 55,
     "metadata": {},
     "output_type": "execute_result"
    }
   ],
   "source": [
    "d"
   ]
  },
  {
   "cell_type": "code",
   "execution_count": 56,
   "id": "3e2c31eb-bfe5-461b-9bb5-e861fa21cb67",
   "metadata": {},
   "outputs": [
    {
     "data": {
      "text/plain": [
       "'Remove an element from a list by its index.'"
      ]
     },
     "execution_count": 56,
     "metadata": {},
     "output_type": "execute_result"
    }
   ],
   "source": [
    "# 6 question \n",
    "'''Remove an element from a list by its index.'''\n"
   ]
  },
  {
   "cell_type": "code",
   "execution_count": 57,
   "id": "0a56a091-b9da-42cc-8a18-bc3c44fedfda",
   "metadata": {},
   "outputs": [],
   "source": [
    "f  = [1,2,3,4,5,6,78,\"Sakil\", \"Sahil\"]"
   ]
  },
  {
   "cell_type": "code",
   "execution_count": 59,
   "id": "3d10b22f-dd04-45ca-8562-c9642f844a9a",
   "metadata": {},
   "outputs": [],
   "source": [
    "g = f.pop(7)"
   ]
  },
  {
   "cell_type": "code",
   "execution_count": 60,
   "id": "ad15a962-8626-45e9-b593-6eaf89685e4c",
   "metadata": {},
   "outputs": [
    {
     "data": {
      "text/plain": [
       "[1, 2, 3, 4, 5, 6, 78, 'Sahil']"
      ]
     },
     "execution_count": 60,
     "metadata": {},
     "output_type": "execute_result"
    }
   ],
   "source": [
    "f"
   ]
  },
  {
   "cell_type": "code",
   "execution_count": 61,
   "id": "fb3be960-75cb-4094-b5bc-bdcfe687297c",
   "metadata": {},
   "outputs": [
    {
     "data": {
      "text/plain": [
       "'Check if an element exists in a list.'"
      ]
     },
     "execution_count": 61,
     "metadata": {},
     "output_type": "execute_result"
    }
   ],
   "source": [
    "# 7 question\n",
    "'''Check if an element exists in a list.'''"
   ]
  },
  {
   "cell_type": "code",
   "execution_count": 62,
   "id": "6dd93b89-6007-42e8-b37c-515081251868",
   "metadata": {},
   "outputs": [],
   "source": [
    "h = [1,2,3,4,5,6,7,8,9,10,12,13,14,15,16,17]"
   ]
  },
  {
   "cell_type": "code",
   "execution_count": 67,
   "id": "f4b83e89-9ab3-4707-8674-9fafac9a1bac",
   "metadata": {},
   "outputs": [
    {
     "name": "stdout",
     "output_type": "stream",
     "text": [
      "yes exist\n"
     ]
    }
   ],
   "source": [
    "if 3 in h:\n",
    "    print(\"yes exist\")\n",
    "else:\n",
    "    print(\"Didn't exist\")"
   ]
  },
  {
   "cell_type": "code",
   "execution_count": 68,
   "id": "e9033d89-7593-4ea0-a3cb-9d529696170d",
   "metadata": {},
   "outputs": [
    {
     "data": {
      "text/plain": [
       "' Find the index of the first occurrence of an element in a list'"
      ]
     },
     "execution_count": 68,
     "metadata": {},
     "output_type": "execute_result"
    }
   ],
   "source": [
    "# 8 question \n",
    "\n",
    "''' Find the index of the first occurrence of an element in a list'''"
   ]
  },
  {
   "cell_type": "code",
   "execution_count": 79,
   "id": "2c24bf56-9f28-4f18-b8ee-f40a60403e81",
   "metadata": {},
   "outputs": [
    {
     "name": "stdout",
     "output_type": "stream",
     "text": [
      "the 1st occurance of 1 is at a index of 0\n"
     ]
    }
   ],
   "source": [
    "d = [1,2,3,4,5,6,7,8,\"Sakil\",\"Sahil\"]\n",
    "\n",
    "element_to_find = 1\n",
    "\n",
    "indeces = [i for i, item in enumerate(d) if item ==element_to_find]\n",
    "\n",
    "if indeces:\n",
    "    print(f'the 1st occurance of {element_to_find} is at a index of {indeces[0]}')\n",
    "    \n",
    "else:\n",
    "    print(\"we dont't find anything\")"
   ]
  },
  {
   "cell_type": "code",
   "execution_count": 80,
   "id": "0b94c755-23c4-41b9-9e30-530b089bb558",
   "metadata": {},
   "outputs": [
    {
     "data": {
      "text/plain": [
       "'Count the occurrences of an element in a list.'"
      ]
     },
     "execution_count": 80,
     "metadata": {},
     "output_type": "execute_result"
    }
   ],
   "source": [
    "# 9 uq \n",
    "'''Count the occurrences of an element in a list.'''\n"
   ]
  },
  {
   "cell_type": "code",
   "execution_count": 87,
   "id": "9e360d18-4230-4208-a1ed-bd7e061f1714",
   "metadata": {},
   "outputs": [
    {
     "data": {
      "text/plain": [
       "9"
      ]
     },
     "execution_count": 87,
     "metadata": {},
     "output_type": "execute_result"
    }
   ],
   "source": [
    "d = [1,2,3,4,5,5,5,5,5,6,6,6,6,66,6,6,6,6,5,6,7,8,\"Sakil\",\"Sahil\"]\n",
    "\n",
    "d.count(6)"
   ]
  },
  {
   "cell_type": "code",
   "execution_count": 88,
   "id": "f33d84a6-0bfb-4939-95f9-6559e9c1b52b",
   "metadata": {},
   "outputs": [
    {
     "data": {
      "text/plain": [
       "'Reverse the order of elements in a list.'"
      ]
     },
     "execution_count": 88,
     "metadata": {},
     "output_type": "execute_result"
    }
   ],
   "source": [
    "#10 question \n",
    "'''Reverse the order of elements in a list.'''"
   ]
  },
  {
   "cell_type": "code",
   "execution_count": 93,
   "id": "acafb13a-fd47-4c93-8253-81958edb6c8c",
   "metadata": {},
   "outputs": [],
   "source": [
    "d = [1,2,3,4,5,5,5,5,5,6,6,6,6,66,6,6,6,6,5,6,7,8,\"Sakil\",\"Sahil\"]\n",
    "\n",
    "d.reverse()"
   ]
  },
  {
   "cell_type": "code",
   "execution_count": 95,
   "id": "c6040f73-2c33-4f85-b1c2-dd0a48f7ed10",
   "metadata": {},
   "outputs": [
    {
     "name": "stdout",
     "output_type": "stream",
     "text": [
      "['Sahil', 'Sakil', 8, 7, 6, 5, 6, 6, 6, 6, 66, 6, 6, 6, 6, 5, 5, 5, 5, 5, 4, 3, 2, 1] "
     ]
    }
   ],
   "source": [
    "print(d,end = \" \")"
   ]
  },
  {
   "cell_type": "code",
   "execution_count": 96,
   "id": "1a28ee6e-7145-4330-8e44-a4259921b559",
   "metadata": {},
   "outputs": [
    {
     "data": {
      "text/plain": [
       "'Sort a list in ascending order.'"
      ]
     },
     "execution_count": 96,
     "metadata": {},
     "output_type": "execute_result"
    }
   ],
   "source": [
    "#11 Q\n",
    "\n",
    "'''Sort a list in ascending order.'''\n"
   ]
  },
  {
   "cell_type": "code",
   "execution_count": 98,
   "id": "57cf6af3-7c5e-4f2b-8bdc-a0ab5ba11f31",
   "metadata": {},
   "outputs": [
    {
     "data": {
      "text/plain": [
       "[1, 2, 3, 4, 5, 6, 7, 8, 9, 10]"
      ]
     },
     "execution_count": 98,
     "metadata": {},
     "output_type": "execute_result"
    }
   ],
   "source": [
    "d = [10,9,8,7,6,5,4,3,2,1]\n",
    "\n",
    "sorted(d)"
   ]
  },
  {
   "cell_type": "code",
   "execution_count": 99,
   "id": "e1a7c8df-9729-43fe-b23d-be1c17b942f0",
   "metadata": {},
   "outputs": [
    {
     "data": {
      "text/plain": [
       "'Sort a list in descending order'"
      ]
     },
     "execution_count": 99,
     "metadata": {},
     "output_type": "execute_result"
    }
   ],
   "source": [
    "#12 question\n",
    "\n",
    "'''Sort a list in descending order'''"
   ]
  },
  {
   "cell_type": "code",
   "execution_count": 101,
   "id": "d31f4f45-72a6-4260-b854-a28b8fca17cb",
   "metadata": {},
   "outputs": [
    {
     "data": {
      "text/plain": [
       "[8910, 10, 7, 6, 5, 4, 3, 2, 1]"
      ]
     },
     "execution_count": 101,
     "metadata": {},
     "output_type": "execute_result"
    }
   ],
   "source": [
    "f = [1,2,3,4,5,6,7,8910,10]\n",
    "\n",
    "sorted(f, reverse = True)"
   ]
  },
  {
   "cell_type": "code",
   "execution_count": 102,
   "id": "1aecba15-86d0-46e5-929d-f779fba02fbb",
   "metadata": {},
   "outputs": [
    {
     "data": {
      "text/plain": [
       "'Create a list of even numbers from 1 to 20.'"
      ]
     },
     "execution_count": 102,
     "metadata": {},
     "output_type": "execute_result"
    }
   ],
   "source": [
    "#13 question\n",
    "'''Create a list of even numbers from 1 to 20.'''"
   ]
  },
  {
   "cell_type": "code",
   "execution_count": 108,
   "id": "34e8b562-524e-4595-948e-906bef1d7cc9",
   "metadata": {},
   "outputs": [],
   "source": [
    "def even_no(num):\n",
    "    n = 0\n",
    "    \n",
    "    for i in num:\n",
    "        if i %2 ==0:\n",
    "            print(i, end = \" \")"
   ]
  },
  {
   "cell_type": "code",
   "execution_count": 109,
   "id": "6584ea70-8f42-4956-8690-e6abb1ae95d4",
   "metadata": {},
   "outputs": [
    {
     "name": "stdout",
     "output_type": "stream",
     "text": [
      "2 4 6 8 10 "
     ]
    }
   ],
   "source": [
    "even_no(range(1,11))"
   ]
  },
  {
   "cell_type": "code",
   "execution_count": 110,
   "id": "4fb68d7d-8a81-4385-957e-c810e8c0e3f9",
   "metadata": {},
   "outputs": [
    {
     "data": {
      "text/plain": [
       "'Create a list of odd numbers from 1 to 20.'"
      ]
     },
     "execution_count": 110,
     "metadata": {},
     "output_type": "execute_result"
    }
   ],
   "source": [
    "# 14 question\n",
    "'''Create a list of odd numbers from 1 to 20.'''"
   ]
  },
  {
   "cell_type": "code",
   "execution_count": 112,
   "id": "0df1203c-2917-495c-91fe-d240c1555355",
   "metadata": {},
   "outputs": [],
   "source": [
    "def odd_no(num):\n",
    "    n = 0\n",
    "    \n",
    "    for i in num:\n",
    "        if i %2 !=0:\n",
    "            print(i, end = \" \")"
   ]
  },
  {
   "cell_type": "code",
   "execution_count": 113,
   "id": "4b4d4eff-8f6f-4e5a-b41c-894aa9dbab65",
   "metadata": {},
   "outputs": [
    {
     "name": "stdout",
     "output_type": "stream",
     "text": [
      "1 3 5 7 9 "
     ]
    }
   ],
   "source": [
    "odd_no(range(1,11))"
   ]
  },
  {
   "cell_type": "code",
   "execution_count": 114,
   "id": "7ea3dfe3-ebb3-4817-9a3c-a91f9c85032b",
   "metadata": {},
   "outputs": [
    {
     "data": {
      "text/plain": [
       "'Find the sum of all elements in a list.'"
      ]
     },
     "execution_count": 114,
     "metadata": {},
     "output_type": "execute_result"
    }
   ],
   "source": [
    "# 15 ques\n",
    "\n",
    "'''Find the sum of all elements in a list.'''\n"
   ]
  },
  {
   "cell_type": "code",
   "execution_count": 115,
   "id": "79c7a453-d75e-4a2a-bf73-adc9e82314f7",
   "metadata": {},
   "outputs": [
    {
     "data": {
      "text/plain": [
       "8948"
      ]
     },
     "execution_count": 115,
     "metadata": {},
     "output_type": "execute_result"
    }
   ],
   "source": [
    "f = [1,2,3,4,5,6,7,8910,10]\n",
    "\n",
    "sum(f)"
   ]
  },
  {
   "cell_type": "code",
   "execution_count": 116,
   "id": "7a734e29-a503-4c2a-8d2b-92327cd85cb3",
   "metadata": {},
   "outputs": [
    {
     "data": {
      "text/plain": [
       "'Find the maximum value in a list.'"
      ]
     },
     "execution_count": 116,
     "metadata": {},
     "output_type": "execute_result"
    }
   ],
   "source": [
    "# 16 question\n",
    "\n",
    "'''Find the maximum value in a list.'''"
   ]
  },
  {
   "cell_type": "code",
   "execution_count": 117,
   "id": "ba49beb5-1707-492f-9896-49ed03d16532",
   "metadata": {},
   "outputs": [
    {
     "data": {
      "text/plain": [
       "[1, 2, 3, 4, 5, 6, 7, 8910, 10]"
      ]
     },
     "execution_count": 117,
     "metadata": {},
     "output_type": "execute_result"
    }
   ],
   "source": [
    "f"
   ]
  },
  {
   "cell_type": "code",
   "execution_count": 118,
   "id": "86356aa5-79c0-4c62-88d1-83f4fcbe1858",
   "metadata": {},
   "outputs": [
    {
     "data": {
      "text/plain": [
       "8910"
      ]
     },
     "execution_count": 118,
     "metadata": {},
     "output_type": "execute_result"
    }
   ],
   "source": [
    "max(f)"
   ]
  },
  {
   "cell_type": "code",
   "execution_count": 119,
   "id": "becaa6c3-25d9-4b0c-a54a-83353c65ff97",
   "metadata": {},
   "outputs": [
    {
     "data": {
      "text/plain": [
       "'Find the minimum value in a list.'"
      ]
     },
     "execution_count": 119,
     "metadata": {},
     "output_type": "execute_result"
    }
   ],
   "source": [
    "# 17 ques\n",
    "\n",
    "'''Find the minimum value in a list.'''\n"
   ]
  },
  {
   "cell_type": "code",
   "execution_count": 120,
   "id": "07efe60e-e933-4ede-93e2-e59c983b963d",
   "metadata": {},
   "outputs": [
    {
     "data": {
      "text/plain": [
       "[1, 2, 3, 4, 5, 6, 7, 8910, 10]"
      ]
     },
     "execution_count": 120,
     "metadata": {},
     "output_type": "execute_result"
    }
   ],
   "source": [
    "f"
   ]
  },
  {
   "cell_type": "code",
   "execution_count": 121,
   "id": "65cce1be-5699-4fab-83af-cf8270315562",
   "metadata": {},
   "outputs": [
    {
     "data": {
      "text/plain": [
       "1"
      ]
     },
     "execution_count": 121,
     "metadata": {},
     "output_type": "execute_result"
    }
   ],
   "source": [
    "min(f)"
   ]
  },
  {
   "cell_type": "code",
   "execution_count": 123,
   "id": "0391abdc-af29-4268-ac4c-6cf2f83dcf94",
   "metadata": {},
   "outputs": [
    {
     "data": {
      "text/plain": [
       "'Create a list of squares of numbers from 1 to 10'"
      ]
     },
     "execution_count": 123,
     "metadata": {},
     "output_type": "execute_result"
    }
   ],
   "source": [
    "#18 question\n",
    "'''Create a list of squares of numbers from 1 to 10'''"
   ]
  },
  {
   "cell_type": "code",
   "execution_count": 131,
   "id": "4e8536bd-00f3-4b0e-a61b-7bb7def085ec",
   "metadata": {},
   "outputs": [
    {
     "name": "stdout",
     "output_type": "stream",
     "text": [
      "[1, 4, 9, 16, 25, 36, 49, 64, 81, 100]\n"
     ]
    }
   ],
   "source": [
    "square = [i**2 for i in range(1,11)]\n",
    "\n",
    "print(square)"
   ]
  },
  {
   "cell_type": "code",
   "execution_count": 132,
   "id": "76efe5dd-ca51-4d34-af03-6be849fd77aa",
   "metadata": {},
   "outputs": [
    {
     "data": {
      "text/plain": [
       "'Create a list of random numbers.'"
      ]
     },
     "execution_count": 132,
     "metadata": {},
     "output_type": "execute_result"
    }
   ],
   "source": [
    "#19\n",
    "'''Create a list of random numbers.'''"
   ]
  },
  {
   "cell_type": "code",
   "execution_count": 133,
   "id": "00f782f5-fdc9-4d5e-b311-d5200c541f95",
   "metadata": {},
   "outputs": [
    {
     "name": "stdout",
     "output_type": "stream",
     "text": [
      "[74, 11, 96, 25, 52, 28, 67, 17, 70, 97]\n"
     ]
    }
   ],
   "source": [
    "import random \n",
    "\n",
    "ran_no = [random.randint(1,100) for _ in range(10)]\n",
    "\n",
    "print(ran_no)\n",
    "                         "
   ]
  },
  {
   "cell_type": "code",
   "execution_count": 134,
   "id": "d5af93b1-c4d4-4b13-80e5-3f6ceef0acac",
   "metadata": {},
   "outputs": [
    {
     "data": {
      "text/plain": [
       "'. Remove duplicates from a list.'"
      ]
     },
     "execution_count": 134,
     "metadata": {},
     "output_type": "execute_result"
    }
   ],
   "source": [
    "#20 q\n",
    "\n",
    "'''. Remove duplicates from a list.'''"
   ]
  },
  {
   "cell_type": "code",
   "execution_count": 139,
   "id": "77f8b0c7-546d-4031-a1d9-232398e0a4db",
   "metadata": {},
   "outputs": [],
   "source": [
    "d = [1,2,2,2,2,2,3,3,3,3,3,3,4,4,4,4,4,4,5,5,5,5,5,5,6,6,6,6,6,6,7,7,7,7,7,7,8,8,8,8,8,8]"
   ]
  },
  {
   "cell_type": "code",
   "execution_count": 140,
   "id": "97f09d88-6682-4af5-ae46-376141ea14a4",
   "metadata": {},
   "outputs": [
    {
     "data": {
      "text/plain": [
       "{1, 2, 3, 4, 5, 6, 7, 8}"
      ]
     },
     "execution_count": 140,
     "metadata": {},
     "output_type": "execute_result"
    }
   ],
   "source": [
    "set(d)"
   ]
  },
  {
   "cell_type": "code",
   "execution_count": 141,
   "id": "3998de67-91bd-4a9a-8af9-264399d32e5f",
   "metadata": {},
   "outputs": [
    {
     "data": {
      "text/plain": [
       "'Find the common elements between two lists.'"
      ]
     },
     "execution_count": 141,
     "metadata": {},
     "output_type": "execute_result"
    }
   ],
   "source": [
    "#21 quest\n",
    "'''Find the common elements between two lists.'''\n"
   ]
  },
  {
   "cell_type": "code",
   "execution_count": 1,
   "id": "22f0b649-6199-40ea-bdbf-dd9c566ed903",
   "metadata": {},
   "outputs": [
    {
     "name": "stdout",
     "output_type": "stream",
     "text": [
      "[67]\n"
     ]
    }
   ],
   "source": [
    "l1 = [1,2,3,4,5,67]\n",
    "l2 = [12,13,45,67,]\n",
    "\n",
    "s1 = set(l1)\n",
    "s2 =set(l2)\n",
    "\n",
    "common_sec = s1.intersection(s2)\n",
    "\n",
    "common_lst = list(common_sec)\n",
    "\n",
    "print(common_lst)"
   ]
  },
  {
   "cell_type": "code",
   "execution_count": 2,
   "id": "98f1378c-86a2-4b88-8830-e5da19653d79",
   "metadata": {},
   "outputs": [
    {
     "data": {
      "text/plain": [
       "'Find the difference between two lists.'"
      ]
     },
     "execution_count": 2,
     "metadata": {},
     "output_type": "execute_result"
    }
   ],
   "source": [
    "#22 Question\n",
    "'''Find the difference between two lists.'''"
   ]
  },
  {
   "cell_type": "code",
   "execution_count": 3,
   "id": "92328646-a422-4272-8598-3681ca463ac8",
   "metadata": {},
   "outputs": [
    {
     "name": "stdout",
     "output_type": "stream",
     "text": [
      "[1, 2, 3, 4, 5]\n"
     ]
    }
   ],
   "source": [
    "l1 = [1,2,3,4,5,67]\n",
    "l2 = [12,13,45,67,]\n",
    "\n",
    "s11 = set(l1)\n",
    "s22 = set(l2)\n",
    "\n",
    "diff_sec = s11.difference(s22)\n",
    "\n",
    "diff_list = list(diff_sec)\n",
    "\n",
    "print(diff_list)"
   ]
  },
  {
   "cell_type": "code",
   "execution_count": 4,
   "id": "84f867cf-fd3e-486a-897b-7b420078ba2f",
   "metadata": {},
   "outputs": [
    {
     "data": {
      "text/plain": [
       "'Merge two lists.'"
      ]
     },
     "execution_count": 4,
     "metadata": {},
     "output_type": "execute_result"
    }
   ],
   "source": [
    "#23 question\n",
    "\n",
    "'''Merge two lists.'''"
   ]
  },
  {
   "cell_type": "code",
   "execution_count": 9,
   "id": "2cc7d8f8-2743-4dab-9f32-b5c7cc74a53b",
   "metadata": {},
   "outputs": [
    {
     "name": "stdout",
     "output_type": "stream",
     "text": [
      "[1, 2, 3, 4, 5, 67, 12, 13, 45, 67]\n"
     ]
    }
   ],
   "source": [
    "l1 = [1,2,3,4,5,67]\n",
    "l2 = [12,13,45,67,]\n",
    "\n",
    "\n",
    "print(l1+l2)"
   ]
  },
  {
   "cell_type": "code",
   "execution_count": 10,
   "id": "64e48408-1b67-4b94-9e77-abc21245e49e",
   "metadata": {},
   "outputs": [
    {
     "data": {
      "text/plain": [
       "'Multiply all elements in a list by 2.'"
      ]
     },
     "execution_count": 10,
     "metadata": {},
     "output_type": "execute_result"
    }
   ],
   "source": [
    "#24 question\n",
    "'''Multiply all elements in a list by 2.'''"
   ]
  },
  {
   "cell_type": "code",
   "execution_count": 19,
   "id": "59a2aafd-cebf-471a-af7a-febf636593e9",
   "metadata": {},
   "outputs": [],
   "source": [
    "l1 = [1,2,3,4,5,67]"
   ]
  },
  {
   "cell_type": "code",
   "execution_count": 21,
   "id": "a6551c07-978d-494a-b11f-8bf728fb9756",
   "metadata": {},
   "outputs": [
    {
     "name": "stdout",
     "output_type": "stream",
     "text": [
      "2 4 6 8 10 134 "
     ]
    }
   ],
   "source": [
    "for i in l1:\n",
    "    l4 = i*2\n",
    "    print(l4, end = \" \")"
   ]
  },
  {
   "cell_type": "code",
   "execution_count": 22,
   "id": "52723226-1f0c-403f-87db-afc81772200a",
   "metadata": {},
   "outputs": [
    {
     "data": {
      "text/plain": [
       "'. Filter out all even numbers from a list.'"
      ]
     },
     "execution_count": 22,
     "metadata": {},
     "output_type": "execute_result"
    }
   ],
   "source": [
    "# 25 question\n",
    "\n",
    "'''. Filter out all even numbers from a list.'''"
   ]
  },
  {
   "cell_type": "code",
   "execution_count": 28,
   "id": "28cce026-3b9e-4b28-911f-9d945f2800a0",
   "metadata": {},
   "outputs": [],
   "source": [
    "ll1 = [11,2,3,4,5,6,7,8,9,90,46,47,68,69,89]"
   ]
  },
  {
   "cell_type": "code",
   "execution_count": 35,
   "id": "c24388cf-c254-433a-8221-5bf4492caa28",
   "metadata": {},
   "outputs": [
    {
     "name": "stdout",
     "output_type": "stream",
     "text": [
      "2 4 6 8 90 46 68 \n"
     ]
    }
   ],
   "source": [
    "for i in ll1:\n",
    "    if i%2==0:\n",
    "        print(i, end =\" \")\n",
    "else:\n",
    "    print()"
   ]
  },
  {
   "cell_type": "code",
   "execution_count": 36,
   "id": "d421d2e4-4dda-4e78-bd93-ff7717838280",
   "metadata": {},
   "outputs": [
    {
     "data": {
      "text/plain": [
       "'Convert a list of strings to a list of integers.'"
      ]
     },
     "execution_count": 36,
     "metadata": {},
     "output_type": "execute_result"
    }
   ],
   "source": [
    "#26 question\n",
    "'''Convert a list of strings to a list of integers.'''\n"
   ]
  },
  {
   "cell_type": "code",
   "execution_count": 37,
   "id": "03b90e91-4b23-4080-a7b7-37a03bfd2fd7",
   "metadata": {},
   "outputs": [],
   "source": [
    "l1 = ['1','2','3','4','5']"
   ]
  },
  {
   "cell_type": "code",
   "execution_count": 43,
   "id": "25c34882-6d8c-420a-ba36-42600424095e",
   "metadata": {},
   "outputs": [],
   "source": [
    "l2 =[int(x) for x in l1]"
   ]
  },
  {
   "cell_type": "code",
   "execution_count": 44,
   "id": "6bc644c0-6257-4794-a824-368abca43549",
   "metadata": {},
   "outputs": [
    {
     "data": {
      "text/plain": [
       "[1, 2, 3, 4, 5]"
      ]
     },
     "execution_count": 44,
     "metadata": {},
     "output_type": "execute_result"
    }
   ],
   "source": [
    "l2"
   ]
  },
  {
   "cell_type": "code",
   "execution_count": 45,
   "id": "9eb4b3a1-d368-421e-9321-02a9741d3e96",
   "metadata": {},
   "outputs": [
    {
     "data": {
      "text/plain": [
       "'Convert a list of integers to a list of strings.'"
      ]
     },
     "execution_count": 45,
     "metadata": {},
     "output_type": "execute_result"
    }
   ],
   "source": [
    "#27 question\n",
    "'''Convert a list of integers to a list of strings.'''"
   ]
  },
  {
   "cell_type": "code",
   "execution_count": 46,
   "id": "89aa1d08-b693-49bb-913a-343f446c1657",
   "metadata": {},
   "outputs": [],
   "source": [
    "l1 = [1,2,3,4,5,6,7,8]"
   ]
  },
  {
   "cell_type": "code",
   "execution_count": 47,
   "id": "c3c9df94-83fd-4a09-9bb5-ce11a619fc3d",
   "metadata": {},
   "outputs": [],
   "source": [
    "l2 = [str(x) for x in l1]"
   ]
  },
  {
   "cell_type": "code",
   "execution_count": 49,
   "id": "ac505dbe-be40-4ec4-a494-e1aeb7abd308",
   "metadata": {},
   "outputs": [
    {
     "data": {
      "text/plain": [
       "['1', '2', '3', '4', '5', '6', '7', '8']"
      ]
     },
     "execution_count": 49,
     "metadata": {},
     "output_type": "execute_result"
    }
   ],
   "source": [
    "l2"
   ]
  },
  {
   "cell_type": "code",
   "execution_count": 50,
   "id": "edf56082-11a8-4d56-b8da-b64833b07bbf",
   "metadata": {},
   "outputs": [
    {
     "data": {
      "text/plain": [
       "'Flatten a nested list.'"
      ]
     },
     "execution_count": 50,
     "metadata": {},
     "output_type": "execute_result"
    }
   ],
   "source": [
    "#28 question\n",
    "'''Flatten a nested list.'''"
   ]
  },
  {
   "cell_type": "code",
   "execution_count": 51,
   "id": "8702580a-fbbc-4379-9951-e46afeb9263c",
   "metadata": {},
   "outputs": [],
   "source": [
    "def flt_lst(nested_list):\n",
    "    flattern_list = []\n",
    "    \n",
    "    for i in nested_list:\n",
    "        if isinstance(i, list):\n",
    "            flattern_list.extend(flt_lst(i))\n",
    "        else:\n",
    "            flattern_list.append(i)\n",
    "    return flattern_list"
   ]
  },
  {
   "cell_type": "code",
   "execution_count": 53,
   "id": "f6689e09-3127-47bf-9e7c-f44c327dc8f5",
   "metadata": {},
   "outputs": [
    {
     "data": {
      "text/plain": [
       "[11, 2, 4, 2, 3, 4, 5, 67, 78, 87, 65, 67, 78]"
      ]
     },
     "execution_count": 53,
     "metadata": {},
     "output_type": "execute_result"
    }
   ],
   "source": [
    "flt_lst([11,2,4,[2,3,4,5],[67,78,87,65],67,78])"
   ]
  },
  {
   "cell_type": "code",
   "execution_count": 54,
   "id": "df2cb3c9-2084-4cb0-bbe1-f475cdd0f341",
   "metadata": {},
   "outputs": [
    {
     "data": {
      "text/plain": [
       "'Create a list of the first 10 Fibonacci numbers'"
      ]
     },
     "execution_count": 54,
     "metadata": {},
     "output_type": "execute_result"
    }
   ],
   "source": [
    "# 29 question\n",
    "'''Create a list of the first 10 Fibonacci numbers'''"
   ]
  },
  {
   "cell_type": "code",
   "execution_count": 55,
   "id": "5e4120ad-6155-4fd8-8861-e238638c0d05",
   "metadata": {},
   "outputs": [
    {
     "name": "stdout",
     "output_type": "stream",
     "text": [
      "First 10 Fibonacci numbers: [0, 1, 1, 2, 3, 5, 8, 13, 21, 34]\n"
     ]
    }
   ],
   "source": [
    "def generate_fibonacci(n):\n",
    "    fibonacci_list = [0, 1]  #\n",
    "\n",
    "    while len(fibonacci_list) < n:\n",
    "       \n",
    "        next_fibonacci = fibonacci_list[-1] + fibonacci_list[-2]\n",
    "        fibonacci_list.append(next_fibonacci)\n",
    "\n",
    "    return fibonacci_list\n",
    "\n",
    "\n",
    "first_10_fibonacci = generate_fibonacci(10)\n",
    "\n",
    "# Print the result\n",
    "print(\"First 10 Fibonacci numbers:\", first_10_fibonacci)"
   ]
  },
  {
   "cell_type": "code",
   "execution_count": 56,
   "id": "3a79b3df-26f7-4ef6-9dd1-440bd9d4b455",
   "metadata": {},
   "outputs": [
    {
     "data": {
      "text/plain": [
       "'Check if a list is sorted.'"
      ]
     },
     "execution_count": 56,
     "metadata": {},
     "output_type": "execute_result"
    }
   ],
   "source": [
    "# 30 QUESTION\n",
    "'''Check if a list is sorted.'''\n"
   ]
  },
  {
   "cell_type": "code",
   "execution_count": 57,
   "id": "28f432ac-c74f-49ff-9448-4542a970b7ec",
   "metadata": {},
   "outputs": [],
   "source": [
    "def srt_lst(input_no):\n",
    "    \n",
    "    return input_no == sorted(input_no)"
   ]
  },
  {
   "cell_type": "code",
   "execution_count": 59,
   "id": "069f5f15-453a-45eb-8697-9e5bdfd5e143",
   "metadata": {},
   "outputs": [
    {
     "name": "stdout",
     "output_type": "stream",
     "text": [
      "True\n",
      "False\n"
     ]
    }
   ],
   "source": [
    "s1 =[1,2,3,4,5,6,7]\n",
    "s2 = [3,4,2,6,4,8,7,]\n",
    "\n",
    "s11 = srt_lst(s1)\n",
    "s22 = srt_lst(s2)\n",
    "\n",
    "print(s11)\n",
    "print(s22)"
   ]
  },
  {
   "cell_type": "code",
   "execution_count": 60,
   "id": "f8a13c98-5eb5-4665-a922-0d2bcd254ff1",
   "metadata": {},
   "outputs": [
    {
     "data": {
      "text/plain": [
       "'Rotate a list to the left by `n` positions.'"
      ]
     },
     "execution_count": 60,
     "metadata": {},
     "output_type": "execute_result"
    }
   ],
   "source": [
    "# 31 question\n",
    "'''Rotate a list to the left by `n` positions.'''"
   ]
  },
  {
   "cell_type": "code",
   "execution_count": 62,
   "id": "1b5cc098-f8cc-45dd-b932-d43ec63bb627",
   "metadata": {},
   "outputs": [
    {
     "name": "stdout",
     "output_type": "stream",
     "text": [
      "[3, 4, 5, 1, 2]\n"
     ]
    }
   ],
   "source": [
    "def rotate_left(input_list, n):\n",
    "  \n",
    "    rotated_list = input_list[n % len(input_list):] + input_list[:n % len(input_list)]\n",
    "    \n",
    "    return rotated_list\n",
    "\n",
    "my_list = [1, 2, 3, 4, 5]\n",
    "rotated = rotate_left(my_list, 2)\n",
    "print(rotated) "
   ]
  },
  {
   "cell_type": "code",
   "execution_count": 63,
   "id": "2b901042-d92e-4f27-8637-a66c8f30a427",
   "metadata": {},
   "outputs": [
    {
     "data": {
      "text/plain": [
       "'Rotate a list to the right by `n` positions'"
      ]
     },
     "execution_count": 63,
     "metadata": {},
     "output_type": "execute_result"
    }
   ],
   "source": [
    "# 32 question\n",
    "'''Rotate a list to the right by `n` positions'''"
   ]
  },
  {
   "cell_type": "code",
   "execution_count": 64,
   "id": "0db51558-d22e-430e-b6b6-d26680a773e2",
   "metadata": {},
   "outputs": [
    {
     "name": "stdout",
     "output_type": "stream",
     "text": [
      "[4, 5, 1, 2, 3]\n"
     ]
    }
   ],
   "source": [
    "def rotate_right(input_list, n):\n",
    "    \n",
    "    if not input_list or n == 0:\n",
    "        return input_list\n",
    "\n",
    "    \n",
    "    effective_rotation = n % len(input_list)\n",
    "\n",
    "    \n",
    "    rotated_list = input_list[-effective_rotation:] + input_list[:-effective_rotation]\n",
    "\n",
    "    return rotated_list\n",
    "\n",
    "\n",
    "my_list = [1, 2, 3, 4, 5]\n",
    "rotated = rotate_right(my_list, 2)\n",
    "print(rotated)  # Output: [4, 5, 1, 2, 3]"
   ]
  },
  {
   "cell_type": "code",
   "execution_count": 1,
   "id": "9c937e7e-37f7-4836-a82a-5697d3f4bc08",
   "metadata": {},
   "outputs": [],
   "source": [
    "#. Create a list of prime numbers up to 50.\n",
    "# q 33"
   ]
  },
  {
   "cell_type": "code",
   "execution_count": 2,
   "id": "9691b4e2-6e9e-40de-8e05-f85f743e2398",
   "metadata": {},
   "outputs": [],
   "source": [
    "from sympy import primerange\n",
    "\n",
    "pr_num = list(primerange(2,51))"
   ]
  },
  {
   "cell_type": "code",
   "execution_count": 3,
   "id": "b65d5c76-cec3-4173-885e-a1fad5c63a75",
   "metadata": {},
   "outputs": [
    {
     "data": {
      "text/plain": [
       "[2, 3, 5, 7, 11, 13, 17, 19, 23, 29, 31, 37, 41, 43, 47]"
      ]
     },
     "execution_count": 3,
     "metadata": {},
     "output_type": "execute_result"
    }
   ],
   "source": [
    "pr_num"
   ]
  },
  {
   "cell_type": "code",
   "execution_count": 4,
   "id": "c510e69c-b5fb-4a14-83fa-56623e00d0a5",
   "metadata": {},
   "outputs": [],
   "source": [
    "#. Split a list into chunks of size `n`.\n",
    "#Q 34"
   ]
  },
  {
   "cell_type": "code",
   "execution_count": 5,
   "id": "8504afee-915e-4ccb-9961-29cc4b025e73",
   "metadata": {},
   "outputs": [
    {
     "name": "stdout",
     "output_type": "stream",
     "text": [
      "[[1, 2, 3], [4, 5, 6], [7, 8, 9], [10]]\n"
     ]
    }
   ],
   "source": [
    "def split_list(input_list, chunk_size):\n",
    "    return [input_list[i:i + chunk_size] for i in range(0, len(input_list), chunk_size)]\n",
    "\n",
    "# Example usage:\n",
    "my_list = [1, 2, 3, 4, 5, 6, 7, 8, 9, 10]\n",
    "chunk_size = 3\n",
    "result = split_list(my_list, chunk_size)\n",
    "print(result)\n"
   ]
  },
  {
   "cell_type": "code",
   "execution_count": 6,
   "id": "345713d4-8d8c-49f1-80c2-417e4fac3e99",
   "metadata": {},
   "outputs": [],
   "source": [
    " #Find the second largest number in a list.\n",
    "# q 35"
   ]
  },
  {
   "cell_type": "code",
   "execution_count": 9,
   "id": "99c2d967-6a52-4271-bb3a-fc70bf16b48b",
   "metadata": {},
   "outputs": [],
   "source": [
    "l1 = [1,2,3,5,6,4,7,8,32,31,56,52,24,76,61]\n",
    "\n",
    "l2 = set(l1)"
   ]
  },
  {
   "cell_type": "code",
   "execution_count": 10,
   "id": "a9a89f3e-0e1d-424e-8119-06f33f732506",
   "metadata": {},
   "outputs": [
    {
     "data": {
      "text/plain": [
       "{1, 2, 3, 4, 5, 6, 7, 8, 24, 31, 32, 52, 56, 61, 76}"
      ]
     },
     "execution_count": 10,
     "metadata": {},
     "output_type": "execute_result"
    }
   ],
   "source": [
    "l2"
   ]
  },
  {
   "cell_type": "code",
   "execution_count": 14,
   "id": "1469b949-ec10-4e3f-b215-373a393641f5",
   "metadata": {},
   "outputs": [
    {
     "name": "stdout",
     "output_type": "stream",
     "text": [
      "the 2nd largest number is 61\n"
     ]
    }
   ],
   "source": [
    "l3 = sorted(l2)\n",
    "\n",
    "print(\"the 2nd largest number is\",l3[-2])"
   ]
  },
  {
   "cell_type": "code",
   "execution_count": 15,
   "id": "2e9185f3-50e3-4a76-a564-b72240198619",
   "metadata": {},
   "outputs": [],
   "source": [
    "#Replace every element in a list with its square\n",
    "#36 question"
   ]
  },
  {
   "cell_type": "code",
   "execution_count": 16,
   "id": "aafa89b0-461a-4d50-aabf-9486307c0919",
   "metadata": {},
   "outputs": [],
   "source": [
    "l = [1,2,3,4,5,6,7,8,9]"
   ]
  },
  {
   "cell_type": "code",
   "execution_count": 18,
   "id": "858dd6d3-1f04-4e18-bd3f-d028cef4b1cc",
   "metadata": {},
   "outputs": [
    {
     "data": {
      "text/plain": [
       "[1, 4, 9, 16, 25, 36, 49, 64, 81]"
      ]
     },
     "execution_count": 18,
     "metadata": {},
     "output_type": "execute_result"
    }
   ],
   "source": [
    "list(map(lambda a: a**2,l))"
   ]
  },
  {
   "cell_type": "code",
   "execution_count": 19,
   "id": "8c9bd72b-4219-45e5-8a02-24a64552872a",
   "metadata": {},
   "outputs": [],
   "source": [
    "#Convert a list to a dictionary where list elements become keys and their\n",
    "#indices become values.\n",
    "#37 Q"
   ]
  },
  {
   "cell_type": "code",
   "execution_count": 20,
   "id": "9527c748-501f-4b7d-845e-f8ee921c4d22",
   "metadata": {},
   "outputs": [],
   "source": [
    "def q34(**n):\n",
    "    return n"
   ]
  },
  {
   "cell_type": "code",
   "execution_count": 24,
   "id": "c7bce47c-5f3f-4b12-a9ba-c57679bb4c48",
   "metadata": {},
   "outputs": [
    {
     "data": {
      "text/plain": [
       "{'name': 'abdur', 'course': 'dsa'}"
      ]
     },
     "execution_count": 24,
     "metadata": {},
     "output_type": "execute_result"
    }
   ],
   "source": [
    "q34(name = 'abdur',course= 'dsa')"
   ]
  },
  {
   "cell_type": "code",
   "execution_count": 29,
   "id": "0c5061d2-f1a2-4b15-8ba6-5757c21ea2e2",
   "metadata": {},
   "outputs": [],
   "source": [
    "#one more method\n",
    "\n",
    "li = ['apple','banana','orange','papaya']\n",
    "\n",
    "my_dic = {index:element for index, element in enumerate(li)}"
   ]
  },
  {
   "cell_type": "code",
   "execution_count": 30,
   "id": "a8116d89-c962-4513-81a5-bdbf5436122b",
   "metadata": {},
   "outputs": [
    {
     "data": {
      "text/plain": [
       "{0: 'apple', 1: 'banana', 2: 'orange', 3: 'papaya'}"
      ]
     },
     "execution_count": 30,
     "metadata": {},
     "output_type": "execute_result"
    }
   ],
   "source": [
    "my_dic"
   ]
  },
  {
   "cell_type": "code",
   "execution_count": 31,
   "id": "724f2579-2bfa-4506-89d7-ef8db5dde8d3",
   "metadata": {},
   "outputs": [],
   "source": [
    "#Shuffle the elements of a list randomly.\n",
    "#38 QUESTION"
   ]
  },
  {
   "cell_type": "code",
   "execution_count": 32,
   "id": "ff38d4f0-d348-4436-80da-ec0ddc25a7bb",
   "metadata": {},
   "outputs": [],
   "source": [
    "LI = [1,2,3,4,5,6,7,'ABDUR','RH','ARSHI']"
   ]
  },
  {
   "cell_type": "code",
   "execution_count": 38,
   "id": "d27098f4-b8e6-4b14-8fcc-2085386c9b36",
   "metadata": {},
   "outputs": [
    {
     "name": "stdout",
     "output_type": "stream",
     "text": [
      "[7, 5, 'RH', 'ABDUR', 3, 4, 6, 2, 'ARSHI', 1]\n"
     ]
    }
   ],
   "source": [
    "import random\n",
    "\n",
    "random.shuffle(LI)\n",
    "print(LI)"
   ]
  },
  {
   "cell_type": "code",
   "execution_count": 39,
   "id": "aed120ad-1778-45e6-9f62-03b1d6664604",
   "metadata": {},
   "outputs": [],
   "source": [
    "#Create a list of the first 10 factorial numbers.\n",
    "\n",
    "#39 ques"
   ]
  },
  {
   "cell_type": "code",
   "execution_count": 44,
   "id": "2da81625-f2bb-40f2-9722-d7f31869f11b",
   "metadata": {},
   "outputs": [],
   "source": [
    " def fact_n(n):\n",
    "        if n== 1 or n == 0:\n",
    "            return 1\n",
    "        else:\n",
    "            return n* fact_n(n-1)"
   ]
  },
  {
   "cell_type": "code",
   "execution_count": 45,
   "id": "02ec2b62-9fcd-4818-805c-8a219dae0335",
   "metadata": {},
   "outputs": [
    {
     "name": "stdout",
     "output_type": "stream",
     "text": [
      "[1, 1, 2, 6, 24, 120, 720, 5040, 40320, 362880]\n"
     ]
    }
   ],
   "source": [
    "fact_1 = [fact_n(i) for i in range(10)]\n",
    "print(fact_1)    "
   ]
  },
  {
   "cell_type": "code",
   "execution_count": 1,
   "id": "5a5fd430-d40b-49e6-a106-df11793555a3",
   "metadata": {},
   "outputs": [],
   "source": [
    "# Check if two lists have at least one element in common.\n",
    "# 40 question"
   ]
  },
  {
   "cell_type": "code",
   "execution_count": 3,
   "id": "271f39b5-d709-4703-941a-9b9c4170dd83",
   "metadata": {},
   "outputs": [],
   "source": [
    "l1 = [1,2,3,4,5,6,78,9]\n",
    "l2 = [2,45,56,76,54,34,98,89]"
   ]
  },
  {
   "cell_type": "code",
   "execution_count": 4,
   "id": "8c289c48-4062-451e-a113-986a5f81504b",
   "metadata": {},
   "outputs": [],
   "source": [
    "set1 = set(l1)\n",
    "set2 = set(l2)"
   ]
  },
  {
   "cell_type": "code",
   "execution_count": 5,
   "id": "5c605253-b1ab-48ff-8044-08adfc1ea3dc",
   "metadata": {},
   "outputs": [
    {
     "data": {
      "text/plain": [
       "{2}"
      ]
     },
     "execution_count": 5,
     "metadata": {},
     "output_type": "execute_result"
    }
   ],
   "source": [
    "set1.intersection(set2)"
   ]
  },
  {
   "cell_type": "code",
   "execution_count": 6,
   "id": "a0274c32-699f-4137-8ae5-0413431daecc",
   "metadata": {},
   "outputs": [],
   "source": [
    "#Remove all elements from a list\n",
    "# 41 question"
   ]
  },
  {
   "cell_type": "code",
   "execution_count": 7,
   "id": "6a4ecdd4-8603-4726-b9d7-2443a03a860e",
   "metadata": {},
   "outputs": [
    {
     "data": {
      "text/plain": [
       "[1, 2, 3, 4, 5, 6, 78, 9]"
      ]
     },
     "execution_count": 7,
     "metadata": {},
     "output_type": "execute_result"
    }
   ],
   "source": [
    "l1"
   ]
  },
  {
   "cell_type": "code",
   "execution_count": 10,
   "id": "b777aaab-c138-40ba-ac40-04b5a4e03539",
   "metadata": {},
   "outputs": [
    {
     "name": "stdout",
     "output_type": "stream",
     "text": [
      "[]\n"
     ]
    }
   ],
   "source": [
    "l1.clear()\n",
    "\n",
    "print(l1)"
   ]
  },
  {
   "cell_type": "code",
   "execution_count": 11,
   "id": "3c34ba9d-6119-4156-a5a5-80e44b4ae0fa",
   "metadata": {},
   "outputs": [],
   "source": [
    "#Replace negative numbers in a list with 0.\n",
    "\n",
    "#42 question"
   ]
  },
  {
   "cell_type": "code",
   "execution_count": 22,
   "id": "4ef82a9b-68a3-435c-9839-34529556896c",
   "metadata": {},
   "outputs": [],
   "source": [
    "def neg_re(list1):\n",
    "    return [0 if num<0 else num for num in list1]"
   ]
  },
  {
   "cell_type": "code",
   "execution_count": 23,
   "id": "f9b3e142-984b-40c1-81b9-059dac6e530e",
   "metadata": {},
   "outputs": [
    {
     "data": {
      "text/plain": [
       "[0, 0, 0, 0, 0, 0, 34, 45, 56, 23, 45]"
      ]
     },
     "execution_count": 23,
     "metadata": {},
     "output_type": "execute_result"
    }
   ],
   "source": [
    "l1 = [-1,-2,-3,-7,-9,0,34,45,56,23,45]\n",
    "\n",
    "neg_re(l1)"
   ]
  },
  {
   "cell_type": "code",
   "execution_count": 39,
   "id": "54f58788-2641-40c8-bbc0-f1f002c269c6",
   "metadata": {},
   "outputs": [],
   "source": [
    "#One more method to do this \n",
    "\n",
    "l = [1,2,3,4,5,6,7-1,-2,-3,-4,-65]\n",
    "\n",
    "def neg_ree(l1):\n",
    "    for num in range(len(l1)):\n",
    "        if l1[num] < 0:\n",
    "            l1[num] = 0\n",
    "    return l1"
   ]
  },
  {
   "cell_type": "code",
   "execution_count": 40,
   "id": "7e060af6-a76e-4008-b408-5ebe499fe499",
   "metadata": {},
   "outputs": [
    {
     "data": {
      "text/plain": [
       "[1, 2, 3, 4, 5, 6, 6, 0, 0, 0, 0]"
      ]
     },
     "execution_count": 40,
     "metadata": {},
     "output_type": "execute_result"
    }
   ],
   "source": [
    "l = [1,2,3,4,5,6,7-1,-2,-3,-4,-65]\n",
    "\n",
    "neg_ree(l)"
   ]
  },
  {
   "cell_type": "code",
   "execution_count": 41,
   "id": "af9c1683-56dc-4ce5-b5d2-1062b91b1517",
   "metadata": {},
   "outputs": [],
   "source": [
    "#Convert a string into a list of words.\n",
    "#43 question\n"
   ]
  },
  {
   "cell_type": "code",
   "execution_count": 42,
   "id": "72199083-3a68-432c-b226-cca5f25c5399",
   "metadata": {},
   "outputs": [],
   "source": [
    "d = \"Bhubaneshwar is a safe place to stay.\""
   ]
  },
  {
   "cell_type": "code",
   "execution_count": 45,
   "id": "430e7563-3bf6-4992-aa16-2d397a48de10",
   "metadata": {},
   "outputs": [
    {
     "name": "stdout",
     "output_type": "stream",
     "text": [
      "['Bhubaneshwar', 'is', 'a', 'safe', 'place', 'to', 'stay.']\n"
     ]
    }
   ],
   "source": [
    "d1 = list(d.split())\n",
    "print(d1)"
   ]
  },
  {
   "cell_type": "code",
   "execution_count": 46,
   "id": "0916c000-3130-41db-b48d-a60b0b5f39ff",
   "metadata": {},
   "outputs": [
    {
     "data": {
      "text/plain": [
       "list"
      ]
     },
     "execution_count": 46,
     "metadata": {},
     "output_type": "execute_result"
    }
   ],
   "source": [
    "type(d1)"
   ]
  },
  {
   "cell_type": "code",
   "execution_count": 47,
   "id": "32f3cf0c-dec1-41a4-b838-e0a8c0867df6",
   "metadata": {},
   "outputs": [],
   "source": [
    "#Convert a list of words into a string.\n",
    "#44 question"
   ]
  },
  {
   "cell_type": "code",
   "execution_count": 48,
   "id": "f6cbf6cc-f60b-4025-8631-0da531252ada",
   "metadata": {},
   "outputs": [
    {
     "data": {
      "text/plain": [
       "['Bhubaneshwar', 'is', 'a', 'safe', 'place', 'to', 'stay.']"
      ]
     },
     "execution_count": 48,
     "metadata": {},
     "output_type": "execute_result"
    }
   ],
   "source": [
    "d1"
   ]
  },
  {
   "cell_type": "code",
   "execution_count": 50,
   "id": "1f37a844-5811-4168-9fe3-85a6511425dc",
   "metadata": {},
   "outputs": [
    {
     "name": "stdout",
     "output_type": "stream",
     "text": [
      "Bhubaneshwar is a safe place to stay.\n"
     ]
    }
   ],
   "source": [
    "l2 = ' '.join(d1)\n",
    "print(l2)"
   ]
  },
  {
   "cell_type": "code",
   "execution_count": 51,
   "id": "f2bf475f-13ab-4ae1-84b5-c487a4189837",
   "metadata": {},
   "outputs": [],
   "source": [
    "#Create a list of the first `n` powers of 2.\n",
    "# 45 question\n"
   ]
  },
  {
   "cell_type": "code",
   "execution_count": 57,
   "id": "788fee09-57ac-4c9a-bd6c-d1e21e43778b",
   "metadata": {},
   "outputs": [
    {
     "data": {
      "text/plain": [
       "[1, 2, 4, 8, 16]"
      ]
     },
     "execution_count": 57,
     "metadata": {},
     "output_type": "execute_result"
    }
   ],
   "source": [
    "n = range(5)\n",
    "\n",
    "list(map(lambda a: 2**a, n))"
   ]
  },
  {
   "cell_type": "code",
   "execution_count": 58,
   "id": "c05a51df-c5e0-42af-8432-e444df0a567f",
   "metadata": {},
   "outputs": [],
   "source": [
    "#Find the longest string in a list of strings.\n",
    "# 46 question"
   ]
  },
  {
   "cell_type": "code",
   "execution_count": 63,
   "id": "fa70c253-bb5e-47e3-a022-f1d6b9539a56",
   "metadata": {},
   "outputs": [
    {
     "name": "stdout",
     "output_type": "stream",
     "text": [
      "['Bhubaneshwar', 'is', 'a', 'safe', 'city.']\n"
     ]
    }
   ],
   "source": [
    "lis = \"Bhubaneshwar is a safe city.\"\n",
    "\n",
    "l1 = list(lis.split())\n",
    "print(l1)"
   ]
  },
  {
   "cell_type": "code",
   "execution_count": 68,
   "id": "c177a517-9988-4283-b3e3-74a313a51e82",
   "metadata": {},
   "outputs": [
    {
     "name": "stdout",
     "output_type": "stream",
     "text": [
      "Bhubaneshwar\n"
     ]
    }
   ],
   "source": [
    "longest = \" \"\n",
    "\n",
    "for char in l1:\n",
    "    if len(char) > len(longest):\n",
    "        longest = char\n",
    "print(longest)"
   ]
  },
  {
   "cell_type": "code",
   "execution_count": 69,
   "id": "d2a7ec8f-05da-4d7d-9e40-b5ae1ae080fd",
   "metadata": {},
   "outputs": [],
   "source": [
    "#Find the shortest string in a list of strings.\n",
    "\n",
    "# 47 question\n"
   ]
  },
  {
   "cell_type": "code",
   "execution_count": 70,
   "id": "5ef58b18-080a-4df6-b0f3-2b1ee7d0d64c",
   "metadata": {},
   "outputs": [
    {
     "data": {
      "text/plain": [
       "['Bhubaneshwar', 'is', 'a', 'safe', 'city.']"
      ]
     },
     "execution_count": 70,
     "metadata": {},
     "output_type": "execute_result"
    }
   ],
   "source": [
    "l1"
   ]
  },
  {
   "cell_type": "code",
   "execution_count": 73,
   "id": "213ea65f-f553-4123-a3f6-c3038bf9b255",
   "metadata": {},
   "outputs": [
    {
     "name": "stdout",
     "output_type": "stream",
     "text": [
      "a\n"
     ]
    }
   ],
   "source": [
    "short = \"l1[0]\"\n",
    "for char in l1:\n",
    "    if len(char) < len(short):\n",
    "        short = char\n",
    "print(short)"
   ]
  },
  {
   "cell_type": "code",
   "execution_count": 75,
   "id": "f5b795c2-a46a-4ab6-b2e4-3bce0d7c7b41",
   "metadata": {},
   "outputs": [],
   "source": [
    "#Create a list of the first `n` triangular numbers. \n",
    "\n",
    "#48 question\n"
   ]
  },
  {
   "cell_type": "code",
   "execution_count": 1,
   "id": "1ce2c898-7d20-45be-90fe-45734214d384",
   "metadata": {},
   "outputs": [
    {
     "name": "stdout",
     "output_type": "stream",
     "text": [
      "List of the first 5 triangular numbers: [1, 3, 6, 10, 15]\n"
     ]
    }
   ],
   "source": [
    "def triangular_numbers(n):\n",
    "    return [i * (i + 1) // 2 for i in range(1, n + 1)]\n",
    "\n",
    "n = 5\n",
    "\n",
    "\n",
    "triangular_list = triangular_numbers(n)\n",
    "\n",
    "\n",
    "print(\"List of the first\", n, \"triangular numbers:\", triangular_list)"
   ]
  },
  {
   "cell_type": "code",
   "execution_count": 2,
   "id": "aa9d329e-12fb-4325-bd99-adad324a6196",
   "metadata": {},
   "outputs": [],
   "source": [
    "#Check if a list contains another list as a subsequence\n",
    "#49 question"
   ]
  },
  {
   "cell_type": "code",
   "execution_count": 2,
   "id": "76bf0af1-d05f-41e8-9007-f7ff2813b293",
   "metadata": {},
   "outputs": [
    {
     "name": "stdout",
     "output_type": "stream",
     "text": [
      "yes it contain\n"
     ]
    }
   ],
   "source": [
    "def is_subse(subse,main_list):\n",
    "    \n",
    "    sub_set = 0\n",
    "    \n",
    "    for element in main_list:\n",
    "        if element == subse[sub_set]:\n",
    "            sub_set +=1\n",
    "            if sub_set == len(subse):\n",
    "                return True\n",
    "    return False\n",
    "\n",
    "main_list = [1, 2, 3, 4, 5, 6, 7, 8, 9, 10]\n",
    "subse = [1, 2, 10]\n",
    "\n",
    "if is_subse(subse,main_list):\n",
    "    print(\"yes it contain\")\n",
    "else:\n",
    "    print(\"it doesn't contain\")"
   ]
  },
  {
   "cell_type": "code",
   "execution_count": 3,
   "id": "fc1e1fb5-df81-4ec8-9250-a3b114277307",
   "metadata": {},
   "outputs": [],
   "source": [
    "#Swap two elements in a list by their indices\n",
    "# 50 question"
   ]
  },
  {
   "cell_type": "code",
   "execution_count": 12,
   "id": "31ff4b3c-c74f-4e8f-806c-a00cffd43e78",
   "metadata": {},
   "outputs": [
    {
     "name": "stdout",
     "output_type": "stream",
     "text": [
      "[1, 'abdur', 'arshi', 'raheman', 'rahul']\n"
     ]
    }
   ],
   "source": [
    "def swap_no(my_list,indx1,indx2):\n",
    "    temp = my_list[indx1]\n",
    "    my_list[indx1] = my_list[indx2]\n",
    "    my_list[indx2] = temp\n",
    "    \n",
    "p = [1,'abdur','raheman','arshi','rahul']\n",
    "\n",
    "swap_no(p,2,3)\n",
    "print(p)"
   ]
  },
  {
   "cell_type": "code",
   "execution_count": 13,
   "id": "4bbc44b4-4e58-46c8-adb2-743626fe7b77",
   "metadata": {},
   "outputs": [],
   "source": [
    "#Tuple Based Practice Problem "
   ]
  },
  {
   "cell_type": "code",
   "execution_count": 15,
   "id": "cad0b675-5eaa-4a8f-a60f-1c8593117b37",
   "metadata": {},
   "outputs": [],
   "source": [
    "#Create a tuple with integers from 1 to 5.\n",
    "# 1 question"
   ]
  },
  {
   "cell_type": "code",
   "execution_count": 18,
   "id": "889c7736-0016-48d7-b367-263f9444fba8",
   "metadata": {},
   "outputs": [
    {
     "name": "stdout",
     "output_type": "stream",
     "text": [
      "(1, 2, 3, 4, 5)\n"
     ]
    }
   ],
   "source": [
    "l1 = tuple(range(1,6))\n",
    "print(l1)"
   ]
  },
  {
   "cell_type": "code",
   "execution_count": 19,
   "id": "97131184-febd-4d05-b1ec-4915419aafba",
   "metadata": {},
   "outputs": [],
   "source": [
    "#Access the third element of a tuple.\n",
    "#2 question"
   ]
  },
  {
   "cell_type": "code",
   "execution_count": 20,
   "id": "06fa571f-f108-4d4e-9c6a-ad656aa7dc15",
   "metadata": {},
   "outputs": [
    {
     "data": {
      "text/plain": [
       "2"
      ]
     },
     "execution_count": 20,
     "metadata": {},
     "output_type": "execute_result"
    }
   ],
   "source": [
    "l1.index(3)"
   ]
  },
  {
   "cell_type": "code",
   "execution_count": 21,
   "id": "2fa68d5f-7744-45e6-b409-ab246a8f56b8",
   "metadata": {},
   "outputs": [],
   "source": [
    "#Find the length of a tuple without using the `len()` function.\n",
    "# 3 question"
   ]
  },
  {
   "cell_type": "code",
   "execution_count": 31,
   "id": "5d00b3cf-13e3-40cc-8143-15794032a755",
   "metadata": {},
   "outputs": [],
   "source": [
    "t2 = (1,2,2,2,2,3,3,4,2,2,5,6,7)"
   ]
  },
  {
   "cell_type": "code",
   "execution_count": 32,
   "id": "dc792931-7205-4f9d-abc4-3ddc7ac805ec",
   "metadata": {},
   "outputs": [
    {
     "name": "stdout",
     "output_type": "stream",
     "text": [
      "13\n"
     ]
    }
   ],
   "source": [
    "def length_t(n):\n",
    "    a = 0\n",
    "    \n",
    "    for _ in n:\n",
    "        a +=1\n",
    "    return a\n",
    "print(length_t(t2))"
   ]
  },
  {
   "cell_type": "code",
   "execution_count": 28,
   "id": "cef08286-b9f2-41bf-96aa-638f2a697123",
   "metadata": {},
   "outputs": [],
   "source": [
    "#Count the occurrences of an element in a tuple.\n",
    "#4 questiont"
   ]
  },
  {
   "cell_type": "code",
   "execution_count": 33,
   "id": "d488a26c-cee8-44b8-87bb-3668cb244e79",
   "metadata": {},
   "outputs": [
    {
     "data": {
      "text/plain": [
       "6"
      ]
     },
     "execution_count": 33,
     "metadata": {},
     "output_type": "execute_result"
    }
   ],
   "source": [
    "t2.count(2)"
   ]
  },
  {
   "cell_type": "code",
   "execution_count": 34,
   "id": "38387c4e-2f31-49fc-bb4b-3b8c0c2c9b42",
   "metadata": {},
   "outputs": [],
   "source": [
    "#Find the index of the first occurrence of an element in a tuple.\n",
    "#5 question"
   ]
  },
  {
   "cell_type": "code",
   "execution_count": 35,
   "id": "22a8904a-c75c-4477-ac6b-39422f71a024",
   "metadata": {},
   "outputs": [
    {
     "data": {
      "text/plain": [
       "0"
      ]
     },
     "execution_count": 35,
     "metadata": {},
     "output_type": "execute_result"
    }
   ],
   "source": [
    "t2.index(1)"
   ]
  },
  {
   "cell_type": "code",
   "execution_count": 36,
   "id": "dbab8200-e856-4af7-9e90-4f08ccb9242b",
   "metadata": {},
   "outputs": [],
   "source": [
    "#Check if an element exists in a tuple.\n",
    "#6 question"
   ]
  },
  {
   "cell_type": "code",
   "execution_count": 39,
   "id": "de7d6b44-c7ed-4517-9f59-b3343325e88e",
   "metadata": {},
   "outputs": [
    {
     "data": {
      "text/plain": [
       "(1, 2, 2, 2, 2, 3, 3, 4, 2, 2, 5, 6, 7)"
      ]
     },
     "execution_count": 39,
     "metadata": {},
     "output_type": "execute_result"
    }
   ],
   "source": [
    "t2 "
   ]
  },
  {
   "cell_type": "code",
   "execution_count": 40,
   "id": "d8db3a5f-a2a7-4559-b659-ec60c0eb0e06",
   "metadata": {},
   "outputs": [
    {
     "name": "stdout",
     "output_type": "stream",
     "text": [
      " yes, 3 availaleb in (1, 2, 2, 2, 2, 3, 3, 4, 2, 2, 5, 6, 7)\n"
     ]
    }
   ],
   "source": [
    "element_to_check = 3\n",
    "\n",
    "if element_to_check in t2:\n",
    "    print(f\" yes, {element_to_check} availaleb in {t2}\")\n",
    "else:\n",
    "    print(f\"no, it is not available\")"
   ]
  },
  {
   "cell_type": "code",
   "execution_count": 41,
   "id": "84753655-0ca0-49cc-b0e1-e3668bc3c433",
   "metadata": {},
   "outputs": [],
   "source": [
    "#Convert a tuple to a list.\n",
    "#7 question"
   ]
  },
  {
   "cell_type": "code",
   "execution_count": 42,
   "id": "b24cdbee-7954-4dfa-9e5e-6d7d5887151e",
   "metadata": {},
   "outputs": [
    {
     "data": {
      "text/plain": [
       "(1, 2, 2, 2, 2, 3, 3, 4, 2, 2, 5, 6, 7)"
      ]
     },
     "execution_count": 42,
     "metadata": {},
     "output_type": "execute_result"
    }
   ],
   "source": [
    "t2"
   ]
  },
  {
   "cell_type": "code",
   "execution_count": 43,
   "id": "a0ce141e-c614-457f-bb05-a82ff427979f",
   "metadata": {},
   "outputs": [
    {
     "name": "stdout",
     "output_type": "stream",
     "text": [
      "[1, 2, 2, 2, 2, 3, 3, 4, 2, 2, 5, 6, 7]\n"
     ]
    }
   ],
   "source": [
    "d1 = list(t2)\n",
    "\n",
    "print(d1)"
   ]
  },
  {
   "cell_type": "code",
   "execution_count": 44,
   "id": "1341a6cf-4e83-423b-9a04-68537e8091bf",
   "metadata": {},
   "outputs": [],
   "source": [
    "#Convert a list to a tuple\n",
    "#8 question"
   ]
  },
  {
   "cell_type": "code",
   "execution_count": 45,
   "id": "e70b9a62-c600-4229-b0a7-e8011478f26f",
   "metadata": {},
   "outputs": [
    {
     "data": {
      "text/plain": [
       "list"
      ]
     },
     "execution_count": 45,
     "metadata": {},
     "output_type": "execute_result"
    }
   ],
   "source": [
    "type(d1)"
   ]
  },
  {
   "cell_type": "code",
   "execution_count": 46,
   "id": "b2f4cd8b-d7d6-4fde-acd5-9b117a9f21c5",
   "metadata": {},
   "outputs": [],
   "source": [
    "d2 = tuple(d1)"
   ]
  },
  {
   "cell_type": "code",
   "execution_count": 48,
   "id": "952eb83c-b7f0-4e56-bf1b-da93068c6247",
   "metadata": {},
   "outputs": [
    {
     "data": {
      "text/plain": [
       "tuple"
      ]
     },
     "execution_count": 48,
     "metadata": {},
     "output_type": "execute_result"
    }
   ],
   "source": [
    "\n",
    "\n",
    "type(d2)"
   ]
  },
  {
   "cell_type": "code",
   "execution_count": 49,
   "id": "1a7fa129-d464-4e97-b9b5-f1a3a6a63648",
   "metadata": {},
   "outputs": [
    {
     "data": {
      "text/plain": [
       "(1, 2, 2, 2, 2, 3, 3, 4, 2, 2, 5, 6, 7)"
      ]
     },
     "execution_count": 49,
     "metadata": {},
     "output_type": "execute_result"
    }
   ],
   "source": [
    "d2"
   ]
  },
  {
   "cell_type": "code",
   "execution_count": 50,
   "id": "701cc012-b444-4072-bbb9-c2475c92923f",
   "metadata": {},
   "outputs": [],
   "source": [
    "#Unpack the elements of a tuple into variables.\n",
    "# 9 question"
   ]
  },
  {
   "cell_type": "code",
   "execution_count": 54,
   "id": "85d6cc96-a686-496d-9c7f-01b673127e06",
   "metadata": {},
   "outputs": [
    {
     "name": "stdout",
     "output_type": "stream",
     "text": [
      "unpacked variable\n",
      "a = 1\n",
      "b = 2\n",
      "c = 3\n"
     ]
    }
   ],
   "source": [
    "g2 = (1,2,3)\n",
    "\n",
    "a,b,c = g2\n",
    "\n",
    "print(\"unpacked variable\")\n",
    "print(\"a =\", a)\n",
    "print(\"b =\", b)\n",
    "print(\"c =\", c)"
   ]
  },
  {
   "cell_type": "code",
   "execution_count": 55,
   "id": "56316adc-793d-48ba-ac26-ad8532440d14",
   "metadata": {},
   "outputs": [],
   "source": [
    "#Create a tuple of even numbers from 1 to 10.\n",
    "#10 question"
   ]
  },
  {
   "cell_type": "code",
   "execution_count": 60,
   "id": "01ba6b98-604e-479e-b519-a92b42ed2351",
   "metadata": {},
   "outputs": [
    {
     "name": "stdout",
     "output_type": "stream",
     "text": [
      "(2, 4, 6, 8, 10)\n"
     ]
    }
   ],
   "source": [
    "def even_nn(n):\n",
    "    a = []\n",
    "    \n",
    "    for i in n:\n",
    "        if i%2 ==0:\n",
    "            a.append(i)\n",
    "    return tuple(a)\n",
    "\n",
    "t = range(1,11)\n",
    "\n",
    "r = even_nn(t)\n",
    "print(r)"
   ]
  },
  {
   "cell_type": "code",
   "execution_count": 61,
   "id": "f752be2b-75ff-4bb6-b553-467893f91b9b",
   "metadata": {},
   "outputs": [],
   "source": [
    "#Create a tuple of odd numbers from 1 to 10.\n",
    "#11 question"
   ]
  },
  {
   "cell_type": "code",
   "execution_count": 63,
   "id": "1604b4de-1e68-4193-a27a-72b3c7495a61",
   "metadata": {},
   "outputs": [
    {
     "name": "stdout",
     "output_type": "stream",
     "text": [
      "(1, 3, 5, 7, 9)\n"
     ]
    }
   ],
   "source": [
    "def odd_no(n):\n",
    "    a = []\n",
    "    \n",
    "    for i in n:\n",
    "        if i%2 !=0:\n",
    "            a.append(i)\n",
    "    return tuple(a)\n",
    "\n",
    "t = range(1,11)\n",
    "r = odd_no(t)\n",
    "print(r)"
   ]
  },
  {
   "cell_type": "code",
   "execution_count": 64,
   "id": "b252caf5-a142-4d31-8038-6bb2ab0889d0",
   "metadata": {},
   "outputs": [],
   "source": [
    "#Concatenate two tuples.\n",
    "# 12 q"
   ]
  },
  {
   "cell_type": "code",
   "execution_count": 65,
   "id": "2b0374eb-dfe2-4da8-a468-4a37f9af05e3",
   "metadata": {},
   "outputs": [],
   "source": [
    "t2 = (1,2,3,4,5)\n",
    "t3 = (6,7,8,9,10)"
   ]
  },
  {
   "cell_type": "code",
   "execution_count": 69,
   "id": "1862f152-e623-44bc-83d5-df5d0c5d2c02",
   "metadata": {},
   "outputs": [
    {
     "name": "stdout",
     "output_type": "stream",
     "text": [
      "(1, 2, 3, 4, 5, 6, 7, 8, 9, 10)\n"
     ]
    }
   ],
   "source": [
    "d = t2+t3\n",
    "\n",
    "print(d)"
   ]
  },
  {
   "cell_type": "code",
   "execution_count": 70,
   "id": "b91e1ecd-a3dd-4769-b3d8-3149a1f3d242",
   "metadata": {},
   "outputs": [],
   "source": [
    "#Repeat a tuple three times.\n",
    "#13 question\n"
   ]
  },
  {
   "cell_type": "code",
   "execution_count": 72,
   "id": "a49ae396-760c-4e20-8057-71f9c6f60f0f",
   "metadata": {},
   "outputs": [
    {
     "name": "stdout",
     "output_type": "stream",
     "text": [
      "(2, 3, 4, 5, 6, 7, 9, 2, 3, 4, 5, 6, 7, 9, 2, 3, 4, 5, 6, 7, 9)"
     ]
    }
   ],
   "source": [
    "d2 = (2,3,4,5,6,7,9)\n",
    "\n",
    "print(3 * d2, end = '')"
   ]
  },
  {
   "cell_type": "code",
   "execution_count": 80,
   "id": "21896454-046a-4779-b1d7-9969fe764f71",
   "metadata": {},
   "outputs": [],
   "source": [
    "#Check if a tuple is empty.\n",
    "# 15 question"
   ]
  },
  {
   "cell_type": "code",
   "execution_count": 81,
   "id": "96c7a58e-a2dd-4ebe-a0b0-9d82844792eb",
   "metadata": {},
   "outputs": [
    {
     "name": "stdout",
     "output_type": "stream",
     "text": [
      "not a empty tuple\n"
     ]
    }
   ],
   "source": [
    "empt_tuple = ()\n",
    "\n",
    "if not empt_tuple:\n",
    "    print(\"not a empty tuple\")\n",
    "else:\n",
    "    print(\"Empty Tuple\")\n",
    "        "
   ]
  },
  {
   "cell_type": "code",
   "execution_count": 82,
   "id": "05889313-1455-4908-bee4-f3a4d35cf48d",
   "metadata": {},
   "outputs": [],
   "source": [
    "#Create a nested tuple.\n",
    "# 16 q"
   ]
  },
  {
   "cell_type": "code",
   "execution_count": 85,
   "id": "9496b1ae-7dcd-435e-82e3-2224f96b9ae6",
   "metadata": {},
   "outputs": [
    {
     "name": "stdout",
     "output_type": "stream",
     "text": [
      "(1, 2, 3)\n",
      "(3, 4, 5)\n",
      "(7, 8, 9)\n",
      "1\n",
      "2\n",
      "3\n"
     ]
    }
   ],
   "source": [
    "nt = ((1,2,3), (3,4,5),(7,8,9))\n",
    "\n",
    "print(nt[0])\n",
    "print(nt[1])\n",
    "print(nt[2])\n",
    "\n",
    "#to access the nested tuple\n",
    "\n",
    "print(nt[0][0])\n",
    "print(nt[0][1])\n",
    "print(nt[0][2])"
   ]
  },
  {
   "cell_type": "code",
   "execution_count": 86,
   "id": "64e2e1ac-378a-491d-9a6b-d6f14adff41c",
   "metadata": {},
   "outputs": [],
   "source": [
    "#Access the first element of a nested tuple.\n",
    "# 16 que"
   ]
  },
  {
   "cell_type": "code",
   "execution_count": 87,
   "id": "300cbeb8-8091-494d-b0cf-6106d4b98c4f",
   "metadata": {},
   "outputs": [
    {
     "name": "stdout",
     "output_type": "stream",
     "text": [
      "1\n"
     ]
    }
   ],
   "source": [
    "print(nt[0][0])"
   ]
  },
  {
   "cell_type": "code",
   "execution_count": 88,
   "id": "4ac596f0-db5f-46cf-acf7-30ba26690c4d",
   "metadata": {},
   "outputs": [],
   "source": [
    "#Create a tuple with a single element.\n",
    "# 17 q"
   ]
  },
  {
   "cell_type": "code",
   "execution_count": 90,
   "id": "8f02bdfb-49f0-4341-9924-3befeb4b6868",
   "metadata": {},
   "outputs": [],
   "source": [
    "d = (1,)"
   ]
  },
  {
   "cell_type": "code",
   "execution_count": 91,
   "id": "265f844e-8e5c-4e29-a46a-6d2c49172e11",
   "metadata": {},
   "outputs": [
    {
     "data": {
      "text/plain": [
       "(1,)"
      ]
     },
     "execution_count": 91,
     "metadata": {},
     "output_type": "execute_result"
    }
   ],
   "source": [
    "d"
   ]
  },
  {
   "cell_type": "code",
   "execution_count": 92,
   "id": "3c662d89-0486-4b6c-8544-f4d3599e581d",
   "metadata": {},
   "outputs": [],
   "source": [
    "#Compare two tuples.\n",
    "#18 qu"
   ]
  },
  {
   "cell_type": "code",
   "execution_count": 2,
   "id": "0185ad1d-1f76-4e0d-a1ef-1ee2cb2f01da",
   "metadata": {},
   "outputs": [],
   "source": [
    "s1 = (1,2,3,4,5,6,7,8,9)\n",
    "s2 = (2,3,4,5,6,7)"
   ]
  },
  {
   "cell_type": "code",
   "execution_count": 3,
   "id": "0a74b00e-f59f-4423-8d70-48d73f9a7b2a",
   "metadata": {},
   "outputs": [
    {
     "name": "stdout",
     "output_type": "stream",
     "text": [
      "not equal\n",
      "s2 is greater\n"
     ]
    }
   ],
   "source": [
    "if s1 == s2:\n",
    "    print(\"both are same\")\n",
    "if s1 != s2:\n",
    "    print(\"not equal\")\n",
    "if s1 > s2:\n",
    "    print(\"s1 is greater\")\n",
    "else:\n",
    "    print(\"s2 is greater\")"
   ]
  },
  {
   "cell_type": "code",
   "execution_count": 4,
   "id": "1a17d6cf-727c-4132-990d-ab0aaf25734b",
   "metadata": {},
   "outputs": [],
   "source": [
    "#Delete a tuple.\n",
    "# 19 question\n"
   ]
  },
  {
   "cell_type": "code",
   "execution_count": 5,
   "id": "e700a0d8-14e4-4635-9304-3db70c44fc9c",
   "metadata": {},
   "outputs": [
    {
     "data": {
      "text/plain": [
       "(1, 2, 3, 4, 5, 6, 7, 8, 9)"
      ]
     },
     "execution_count": 5,
     "metadata": {},
     "output_type": "execute_result"
    }
   ],
   "source": [
    "s1 "
   ]
  },
  {
   "cell_type": "code",
   "execution_count": 6,
   "id": "3e1bde5b-c979-456f-81cb-1de59baf084a",
   "metadata": {},
   "outputs": [
    {
     "ename": "NameError",
     "evalue": "name 's1' is not defined",
     "output_type": "error",
     "traceback": [
      "\u001b[0;31m---------------------------------------------------------------------------\u001b[0m",
      "\u001b[0;31mNameError\u001b[0m                                 Traceback (most recent call last)",
      "Cell \u001b[0;32mIn[6], line 3\u001b[0m\n\u001b[1;32m      1\u001b[0m \u001b[38;5;28;01mdel\u001b[39;00m s1\n\u001b[0;32m----> 3\u001b[0m \u001b[38;5;28mprint\u001b[39m(\u001b[43ms1\u001b[49m)\n",
      "\u001b[0;31mNameError\u001b[0m: name 's1' is not defined"
     ]
    }
   ],
   "source": [
    "del s1\n",
    "\n",
    "print(s1)"
   ]
  },
  {
   "cell_type": "code",
   "execution_count": 7,
   "id": "6344640f-1181-4b64-9559-92f9c35d5718",
   "metadata": {},
   "outputs": [],
   "source": [
    "#Slice a tuple.\n",
    "#20 question"
   ]
  },
  {
   "cell_type": "code",
   "execution_count": 15,
   "id": "b1630425-9651-4a65-8e75-367adc584372",
   "metadata": {},
   "outputs": [],
   "source": [
    "s1 = (\"abdur\",\"raheman\",\"arshi\",\"rohan\")"
   ]
  },
  {
   "cell_type": "code",
   "execution_count": 18,
   "id": "6ed2c372-0e5c-4bfa-afd7-25adb1fc2125",
   "metadata": {},
   "outputs": [],
   "source": [
    "s = s1[1:4]"
   ]
  },
  {
   "cell_type": "code",
   "execution_count": 19,
   "id": "7b54db19-d078-4f2a-b45c-576b66fac4ca",
   "metadata": {},
   "outputs": [
    {
     "data": {
      "text/plain": [
       "('raheman', 'arshi', 'rohan')"
      ]
     },
     "execution_count": 19,
     "metadata": {},
     "output_type": "execute_result"
    }
   ],
   "source": [
    "s"
   ]
  },
  {
   "cell_type": "code",
   "execution_count": null,
   "id": "a42671d1-ec5c-44cc-abf1-354986517dce",
   "metadata": {},
   "outputs": [],
   "source": [
    "#Find the maximum value in a tuple\n",
    "#21 QUESTION"
   ]
  },
  {
   "cell_type": "code",
   "execution_count": 2,
   "id": "6b5e1db9-c3dd-43dc-95ac-8acb225ce351",
   "metadata": {},
   "outputs": [],
   "source": [
    "s22 = (\"elephant\",\"fox\",\"tiger\",\"lion\")"
   ]
  },
  {
   "cell_type": "code",
   "execution_count": 40,
   "id": "824bcda6-89ba-4016-be3b-864bfb9d4cd3",
   "metadata": {},
   "outputs": [
    {
     "name": "stdout",
     "output_type": "stream",
     "text": [
      "elephant\n"
     ]
    }
   ],
   "source": [
    "sw = max(s22, key = len)\n",
    "\n",
    "print(sw)"
   ]
  },
  {
   "cell_type": "code",
   "execution_count": 41,
   "id": "95429dd9-020b-4c8e-9a73-496269d103cf",
   "metadata": {},
   "outputs": [],
   "source": [
    "#Find the minimum value in a tuple.\n",
    "#22 question"
   ]
  },
  {
   "cell_type": "code",
   "execution_count": 3,
   "id": "abdb42e2-77d5-4784-8d41-8a4236f5f738",
   "metadata": {},
   "outputs": [
    {
     "name": "stdout",
     "output_type": "stream",
     "text": [
      "fox\n"
     ]
    }
   ],
   "source": [
    "sp = min(s22, key = len)\n",
    "\n",
    "print(sp)"
   ]
  },
  {
   "cell_type": "code",
   "execution_count": 4,
   "id": "003fb267-12d1-4b51-b51b-47296277ab00",
   "metadata": {},
   "outputs": [],
   "source": [
    "#Convert a string to a tuple of characters.\n",
    "\n",
    "#23 question\n"
   ]
  },
  {
   "cell_type": "code",
   "execution_count": 8,
   "id": "94ded88e-b022-45b3-9a80-abb0bba644ad",
   "metadata": {},
   "outputs": [
    {
     "name": "stdout",
     "output_type": "stream",
     "text": [
      "('H', 'e', 'l', 'l', 'o', ' ', 'y', 'o', 'u', ' ', 'a', 'r', 'e', ' ', 'm', 'y', ' ', 'w', 'o', 'r', 'l', 'd', '.')\n"
     ]
    }
   ],
   "source": [
    "stt = \"Hello you are my world.\"\n",
    "\n",
    "char_tuple = ()\n",
    "\n",
    "for char in stt:\n",
    "    char_tuple +=(char,)\n",
    "print(char_tuple)"
   ]
  },
  {
   "cell_type": "code",
   "execution_count": 9,
   "id": "55ed784c-ca5e-4fab-9b3d-938284ad4f48",
   "metadata": {},
   "outputs": [],
   "source": [
    "#Convert a tuple of characters to a string.\n",
    "# 24 question "
   ]
  },
  {
   "cell_type": "code",
   "execution_count": 11,
   "id": "087b3823-9db3-423b-9d9c-e18cc5e5fcd6",
   "metadata": {},
   "outputs": [
    {
     "name": "stdout",
     "output_type": "stream",
     "text": [
      "Hello you are my world.\n"
     ]
    }
   ],
   "source": [
    "joined_charter = \"\".join(char_tuple)\n",
    "\n",
    "print(joined_charter)"
   ]
  },
  {
   "cell_type": "code",
   "execution_count": 12,
   "id": "7cd07795-c26b-4345-b208-52298091e5a6",
   "metadata": {},
   "outputs": [],
   "source": [
    "#Create a tuple from multiple data types.\n",
    "#25 question "
   ]
  },
  {
   "cell_type": "code",
   "execution_count": 18,
   "id": "98a4669c-eace-44af-b4ce-9075ef1e5263",
   "metadata": {},
   "outputs": [
    {
     "name": "stdout",
     "output_type": "stream",
     "text": [
      "('a', 'b', 'd', 'u', 'r', '3', '2', '3', '2', ' ', 'D', 'S', 'A')\n"
     ]
    }
   ],
   "source": [
    "name = \"abdur\"\n",
    "rollno = 32\n",
    "clas = \"32 DSA\"\n",
    "\n",
    "jointuple = tuple(name) + tuple(str(rollno)) + tuple(clas)\n",
    "\n",
    "print(jointuple)"
   ]
  },
  {
   "cell_type": "code",
   "execution_count": 19,
   "id": "0415622d-1297-4f18-915a-65c20b9a3af8",
   "metadata": {},
   "outputs": [],
   "source": [
    "#Check if two tuples are identical.\n",
    "# 26 question \n"
   ]
  },
  {
   "cell_type": "code",
   "execution_count": 20,
   "id": "6c37d6fd-df39-4ddd-8699-97682d3e11ae",
   "metadata": {},
   "outputs": [
    {
     "name": "stdout",
     "output_type": "stream",
     "text": [
      "yes both are same\n"
     ]
    }
   ],
   "source": [
    "t = (2,3,4,5,6,78,9)\n",
    "y = (2,3,4,5,6,78,9)\n",
    "\n",
    "if t == y:\n",
    "    print(\"yes both are same\")\n",
    "else:\n",
    "    print(\"no both are not same\")"
   ]
  },
  {
   "cell_type": "code",
   "execution_count": 21,
   "id": "d4925e80-de4d-4eb9-b991-85121acb6eda",
   "metadata": {},
   "outputs": [],
   "source": [
    "#Sort the elements of a tuple.\n",
    "# 27 question "
   ]
  },
  {
   "cell_type": "code",
   "execution_count": 28,
   "id": "95e011b3-bf02-4db7-951d-1928fbe5731b",
   "metadata": {},
   "outputs": [
    {
     "name": "stdout",
     "output_type": "stream",
     "text": [
      "[1, 2, 3, 4, 5, 6, 'abdur', 'raheman']\n"
     ]
    }
   ],
   "source": [
    "t = (1,2,3,4,5,6, \"abdur\", \"raheman\")\n",
    "\n",
    "tl = list(t)\n",
    "fg = sorted(tl, key = str)\n",
    "print(fg)"
   ]
  },
  {
   "cell_type": "code",
   "execution_count": 29,
   "id": "04618434-1241-4bf8-aa48-aa9ecbd5d288",
   "metadata": {},
   "outputs": [],
   "source": [
    "#Convert a tuple of integers to a tuple of strings.\n",
    "#28 question \n"
   ]
  },
  {
   "cell_type": "code",
   "execution_count": 31,
   "id": "825bc467-cec1-4a99-bfa5-439179181261",
   "metadata": {},
   "outputs": [
    {
     "name": "stdout",
     "output_type": "stream",
     "text": [
      "(1, 2, 3, 45, 56)\n"
     ]
    }
   ],
   "source": [
    "t = (1,2,3,45,56)\n",
    "\n",
    "ti = str(t)\n",
    "print(ti)"
   ]
  },
  {
   "cell_type": "code",
   "execution_count": 33,
   "id": "7b1c01df-60a3-404a-8e7c-377c857563b0",
   "metadata": {},
   "outputs": [
    {
     "data": {
      "text/plain": [
       "str"
      ]
     },
     "execution_count": 33,
     "metadata": {},
     "output_type": "execute_result"
    }
   ],
   "source": [
    "type(ti)"
   ]
  },
  {
   "cell_type": "code",
   "execution_count": 34,
   "id": "d281f6ae-5954-4cda-b02c-be312232ccd5",
   "metadata": {},
   "outputs": [],
   "source": [
    "#Convert a tuple of strings to a tuple of integers.\n",
    "#29 ques"
   ]
  },
  {
   "cell_type": "code",
   "execution_count": 36,
   "id": "8278343d-c143-4bf0-b088-fb0c2d5197e3",
   "metadata": {},
   "outputs": [
    {
     "name": "stdout",
     "output_type": "stream",
     "text": [
      "(1, 2, 3, 4)\n"
     ]
    }
   ],
   "source": [
    "ti = (\"1\",\"2\",\"3\",\"4\")\n",
    "\n",
    "conts = tuple(int(x) for x in ti)\n",
    "print(conts)"
   ]
  },
  {
   "cell_type": "code",
   "execution_count": 37,
   "id": "02b3690b-b0e3-4faf-863b-3af51c54a82f",
   "metadata": {},
   "outputs": [
    {
     "data": {
      "text/plain": [
       "tuple"
      ]
     },
     "execution_count": 37,
     "metadata": {},
     "output_type": "execute_result"
    }
   ],
   "source": [
    "type(conts)"
   ]
  },
  {
   "cell_type": "code",
   "execution_count": 1,
   "id": "ab8492dd-276a-4fbf-a332-015ddc13ac78",
   "metadata": {},
   "outputs": [],
   "source": [
    "#Merge two tuples.\n",
    "#30 question "
   ]
  },
  {
   "cell_type": "code",
   "execution_count": 2,
   "id": "abeecc39-e33e-46b3-b7c2-83dc3c07a518",
   "metadata": {},
   "outputs": [
    {
     "name": "stdout",
     "output_type": "stream",
     "text": [
      "(1, 2, 4, 34, 5, 6, 2, 3, 3, 4, 5, 6, 7, 8)\n"
     ]
    }
   ],
   "source": [
    "t = (1,2,4,34,5,6,)\n",
    "t1 = (2,3,3,4,5,6,7,8)\n",
    "\n",
    "merge = t+ t1\n",
    "print(merge)"
   ]
  },
  {
   "cell_type": "code",
   "execution_count": 3,
   "id": "2d603eac-8d81-4f55-8b45-f0beff0f444c",
   "metadata": {},
   "outputs": [],
   "source": [
    "#Flatten a nested tuple\n",
    "\n",
    "#31 question"
   ]
  },
  {
   "cell_type": "code",
   "execution_count": 4,
   "id": "1954ed25-3f0e-4f1e-94ad-2d0bc4b4b41e",
   "metadata": {},
   "outputs": [
    {
     "name": "stdout",
     "output_type": "stream",
     "text": [
      "(1, 2, 3, 3, 4, 5)\n"
     ]
    }
   ],
   "source": [
    "t = ((1,2,3),(3,4,5))\n",
    "\n",
    "notnester = []\n",
    "\n",
    "for innertuple in t:\n",
    "    for element in innertuple:\n",
    "        notnester.append(element)\n",
    "print(tuple(notnester))"
   ]
  },
  {
   "cell_type": "code",
   "execution_count": 1,
   "id": "6e50367a-8cf2-455a-9f3c-dcc09053e1a0",
   "metadata": {},
   "outputs": [],
   "source": [
    "#Create a tuple of the first 5 prime numbers.\n",
    "#32 question"
   ]
  },
  {
   "cell_type": "code",
   "execution_count": 2,
   "id": "28a6cef6-8057-4298-b7cc-99c1cb7af05a",
   "metadata": {},
   "outputs": [
    {
     "name": "stdout",
     "output_type": "stream",
     "text": [
      "(2, 3, 5, 7, 11)\n"
     ]
    }
   ],
   "source": [
    "import sympy \n",
    "\n",
    "prime = list(sympy.primerange(2,12))\n",
    "\n",
    "prime_t = tuple(prime[:5])\n",
    "\n",
    "print(prime_t)\n",
    "    "
   ]
  },
  {
   "cell_type": "code",
   "execution_count": 3,
   "id": "56ffaef5-7c89-462b-80d8-e98218d2196a",
   "metadata": {},
   "outputs": [],
   "source": [
    "#Check if a tuple is a palindrome.\n",
    "#33 question "
   ]
  },
  {
   "cell_type": "code",
   "execution_count": 7,
   "id": "fa166afd-e41e-4031-a72c-eaaf45eb4046",
   "metadata": {},
   "outputs": [
    {
     "name": "stdout",
     "output_type": "stream",
     "text": [
      "Yes this one is plaindrome\n"
     ]
    }
   ],
   "source": [
    "t = (1,2,1)\n",
    "\n",
    "if t == t[::-1]:\n",
    "    print(\"Yes this one is plaindrome\")\n",
    "else:\n",
    "    print(\"No this one is not a plaindrome\")"
   ]
  },
  {
   "cell_type": "code",
   "execution_count": 8,
   "id": "6e4f236f-865b-4bbc-97d9-87f9768d5d3d",
   "metadata": {},
   "outputs": [],
   "source": [
    "#Create a tuple of squares of numbers from 1 to 5.\n",
    "# 34 question "
   ]
  },
  {
   "cell_type": "code",
   "execution_count": 14,
   "id": "583120d0-9996-413e-81b6-3669680d59e3",
   "metadata": {},
   "outputs": [
    {
     "name": "stdin",
     "output_type": "stream",
     "text": [
      "enter the number 6\n"
     ]
    },
    {
     "data": {
      "text/plain": [
       "(1, 4, 9, 16, 25)"
      ]
     },
     "execution_count": 14,
     "metadata": {},
     "output_type": "execute_result"
    }
   ],
   "source": [
    "def sq():\n",
    "    n = int(input(\"enter the number\"))\n",
    "    \n",
    "    sq = []\n",
    "    \n",
    "    for i in range(1,n):\n",
    "        if n <5:\n",
    "            break\n",
    "        st = i**2\n",
    "        sq.append(st)\n",
    "    return(tuple(sq))\n",
    "\n",
    "sq()"
   ]
  },
  {
   "cell_type": "code",
   "execution_count": 10,
   "id": "6f5758b8-b0d9-4120-b59d-a36d0f181d79",
   "metadata": {},
   "outputs": [],
   "source": [
    "#Filter out all even numbers from a tuple.\n",
    "#35 question"
   ]
  },
  {
   "cell_type": "code",
   "execution_count": 20,
   "id": "412292dd-47e7-4684-b34c-cf7589dc19b0",
   "metadata": {},
   "outputs": [
    {
     "name": "stdout",
     "output_type": "stream",
     "text": [
      "(4, 6, 8, 990, 56, 68)\n"
     ]
    }
   ],
   "source": [
    "t = (1,23,4,5,6,7,8,990,56,67,68)\n",
    "\n",
    "evenno = []\n",
    "\n",
    "for i in t:\n",
    "    if i%2 == 0:\n",
    "        evenno.append(i)\n",
    "print(tuple(evenno))"
   ]
  },
  {
   "cell_type": "code",
   "execution_count": 19,
   "id": "a57f38dd-12c3-4b80-aa85-1cd41b6dafc5",
   "metadata": {},
   "outputs": [],
   "source": [
    "#Multiply all elements in a tuple by 2\n",
    "#36 question"
   ]
  },
  {
   "cell_type": "code",
   "execution_count": 21,
   "id": "16410fb2-c18f-43f7-a9c7-3cfb8dbb0922",
   "metadata": {},
   "outputs": [
    {
     "name": "stdout",
     "output_type": "stream",
     "text": [
      "(2, 46, 8, 10, 12, 14, 16, 1980, 112, 134, 136)\n"
     ]
    }
   ],
   "source": [
    "t = (1,23,4,5,6,7,8,990,56,67,68)\n",
    "\n",
    "mul2 = tuple([x*2 for x in t])\n",
    "print(mul2)"
   ]
  },
  {
   "cell_type": "code",
   "execution_count": 22,
   "id": "17c2a33f-393f-49af-a912-54d2d9c16c4d",
   "metadata": {},
   "outputs": [],
   "source": [
    "#Create a tuple of random numbers\n",
    "#37 question"
   ]
  },
  {
   "cell_type": "code",
   "execution_count": 27,
   "id": "877a8384-987a-491c-8a9c-a8c669161149",
   "metadata": {},
   "outputs": [
    {
     "name": "stdout",
     "output_type": "stream",
     "text": [
      "[6, 7, 1, 8, 2]\n"
     ]
    }
   ],
   "source": [
    "import random \n",
    "t = random.sample(range(1,10),5)\n",
    "print(t)"
   ]
  },
  {
   "cell_type": "code",
   "execution_count": 28,
   "id": "29bd6cc3-77cb-468a-aa3a-2dafcbfbc1e4",
   "metadata": {},
   "outputs": [],
   "source": [
    "#Check if a tuple is sorted.\n",
    "#38 question"
   ]
  },
  {
   "cell_type": "code",
   "execution_count": 29,
   "id": "be5d8492-e36e-4cc2-a3d8-9f758994b1fd",
   "metadata": {},
   "outputs": [
    {
     "name": "stdout",
     "output_type": "stream",
     "text": [
      "not sorted\n"
     ]
    }
   ],
   "source": [
    "t =(1,2,4,43,32,2,5,7,8,9,42,5)\n",
    "\n",
    "if t ==sorted(t):\n",
    "    print(\"yes, sorted\")\n",
    "else:\n",
    "    print(\"not sorted\")"
   ]
  },
  {
   "cell_type": "code",
   "execution_count": 30,
   "id": "85623a72-03e6-4808-a54f-49153b2ebe0e",
   "metadata": {},
   "outputs": [],
   "source": [
    "# Rotate a tuple to the left by `n` positions.\n",
    "#39 question "
   ]
  },
  {
   "cell_type": "code",
   "execution_count": 38,
   "id": "01ffc59c-3bb4-4a6e-a4d4-9201b41cb8d6",
   "metadata": {},
   "outputs": [
    {
     "data": {
      "text/plain": [
       "(2, 5, 6, 7, 8, 1, 3)"
      ]
     },
     "execution_count": 38,
     "metadata": {},
     "output_type": "execute_result"
    }
   ],
   "source": [
    "def roatate(tup, n):\n",
    "    n = n%len(tup)\n",
    "    rotatetup = tup[n:] +tup[:n]\n",
    "    return rotatetup\n",
    "\n",
    "t = (1,3,2,5,6,7,8)\n",
    "np = 2\n",
    "roatate(t,np)"
   ]
  },
  {
   "cell_type": "code",
   "execution_count": 35,
   "id": "a92a3451-bf01-4ca7-a4e7-af30dcd042ca",
   "metadata": {},
   "outputs": [],
   "source": [
    "#Rotate a tuple to the right by `n` positions.\n",
    "#40 question "
   ]
  },
  {
   "cell_type": "code",
   "execution_count": 40,
   "id": "b68a9835-661f-4d2c-8dab-5932efccaed1",
   "metadata": {},
   "outputs": [
    {
     "data": {
      "text/plain": [
       "(7, 8, 1, 3, 2, 5, 6)"
      ]
     },
     "execution_count": 40,
     "metadata": {},
     "output_type": "execute_result"
    }
   ],
   "source": [
    "def rotrig(tup, n):\n",
    "    n = n% len(tup)\n",
    "    rotright = tup[-n:] + tup[:-n]\n",
    "    return rotright\n",
    "\n",
    "t = (1,3,2,5,6,7,8)\n",
    "np = 2\n",
    "rotrig(t,np)"
   ]
  },
  {
   "cell_type": "code",
   "execution_count": 41,
   "id": "6a6073fc-6118-4213-9687-9b61befa54c3",
   "metadata": {},
   "outputs": [],
   "source": [
    "#Create a tuple of the first 5 Fibonacci numbers.\n",
    "# 41 question\n"
   ]
  },
  {
   "cell_type": "code",
   "execution_count": 55,
   "id": "eeccd299-e5b9-43ba-b097-ab7ae58d31f2",
   "metadata": {},
   "outputs": [
    {
     "data": {
      "text/plain": [
       "[0, 1, 1, 2, 3]"
      ]
     },
     "execution_count": 55,
     "metadata": {},
     "output_type": "execute_result"
    }
   ],
   "source": [
    "def fib(n):\n",
    "    a = [0,1]\n",
    "    \n",
    "    while len(a) < n:\n",
    "        fablist = a[-1] +a[-2]\n",
    "        a.append(fablist)\n",
    "    return(a)\n",
    "\n",
    "fib(5)"
   ]
  },
  {
   "cell_type": "code",
   "execution_count": 56,
   "id": "16cf21c9-14fb-4c52-9b01-2a575c697ba4",
   "metadata": {},
   "outputs": [],
   "source": [
    "#Create a tuple from user input\n",
    "# 42 question"
   ]
  },
  {
   "cell_type": "code",
   "execution_count": 67,
   "id": "3829035f-84de-4c86-8b65-1784c064a2e0",
   "metadata": {},
   "outputs": [
    {
     "name": "stdin",
     "output_type": "stream",
     "text": [
      "enter your details Jogging\n",
      "enter n to exit or enter Y to enter another element y\n",
      "enter your details Food\n",
      "enter n to exit or enter Y to enter another element y\n",
      "enter your details office\n",
      "enter n to exit or enter Y to enter another element n\n"
     ]
    },
    {
     "data": {
      "text/plain": [
       "('here is your list', ('Jogging', 'Food', 'office'))"
      ]
     },
     "execution_count": 67,
     "metadata": {},
     "output_type": "execute_result"
    }
   ],
   "source": [
    "todo_list = []\n",
    "counter = 'y'\n",
    "\n",
    "def todo():\n",
    "    while counter !='n':\n",
    "        t = input(\"enter your details\")\n",
    "        fg = todo_list.append(t)\n",
    "        v = input(\"enter n to exit or enter Y to enter another element\")\n",
    "        if v == 'n':\n",
    "            break\n",
    "    return(\"here is your list\", tuple(todo_list))\n",
    "\n",
    "todo()"
   ]
  },
  {
   "cell_type": "code",
   "execution_count": 68,
   "id": "66556655-2324-4325-ac73-0473554d9a03",
   "metadata": {},
   "outputs": [],
   "source": [
    "#Swap two elements in a tuple.\n",
    "# 43 ques"
   ]
  },
  {
   "cell_type": "code",
   "execution_count": 74,
   "id": "8a9283c2-82d8-48ca-a025-49cbb1be1368",
   "metadata": {},
   "outputs": [
    {
     "name": "stdout",
     "output_type": "stream",
     "text": [
      "(0, 2, 1, 3, 4, 5, 6, 7)\n"
     ]
    }
   ],
   "source": [
    "t = (0,1,2,3,4,5,6,7)\n",
    "\n",
    "mlist = list(t)\n",
    "\n",
    "index1 = 1\n",
    "index2 = 2\n",
    "\n",
    "mlist[index1],mlist[index2] = mlist[index2],mlist[index1]\n",
    "\n",
    "print(tuple(mlist))"
   ]
  },
  {
   "cell_type": "code",
   "execution_count": 75,
   "id": "04b918e3-042f-4ef6-a60b-a42d138fcf95",
   "metadata": {},
   "outputs": [],
   "source": [
    "#Reverse the elements of a tuple.\n",
    "#44 question"
   ]
  },
  {
   "cell_type": "code",
   "execution_count": 77,
   "id": "465c022f-1abd-4f42-a328-dcbf665e9a74",
   "metadata": {},
   "outputs": [
    {
     "name": "stdout",
     "output_type": "stream",
     "text": [
      "[7, 6, 5, 4, 3, 2, 1, 0]\n"
     ]
    }
   ],
   "source": [
    "t = (0,1,2,3,4,5,6,7)\n",
    "\n",
    "reverse = sorted(t,reverse=True)\n",
    "print(reverse)"
   ]
  },
  {
   "cell_type": "code",
   "execution_count": 78,
   "id": "fd4bb3c6-d0fc-4a31-b696-f9c8885693bb",
   "metadata": {},
   "outputs": [],
   "source": [
    "#Create a tuple of the first `n` powers of 2.\n",
    "#45 question\n"
   ]
  },
  {
   "cell_type": "code",
   "execution_count": 83,
   "id": "1ae2acf5-957a-4dcd-8c8d-5461174380c9",
   "metadata": {},
   "outputs": [
    {
     "name": "stdout",
     "output_type": "stream",
     "text": [
      "(0, 1, 4, 9, 16, 25, 36, 49)\n"
     ]
    }
   ],
   "source": [
    "t = (0,1,2,3,4,5,6,7)\n",
    "\n",
    "li = list(t)\n",
    "power = [x**2 for x in li]\n",
    "print(tuple(power))"
   ]
  },
  {
   "cell_type": "code",
   "execution_count": 84,
   "id": "5e8ef261-5b51-42da-81dc-8f8e4343b108",
   "metadata": {},
   "outputs": [],
   "source": [
    "#Find the longest string in a tuple of strings.\n",
    "#46 question\n"
   ]
  },
  {
   "cell_type": "code",
   "execution_count": 86,
   "id": "ebe748b1-fb51-4768-8ac8-f3bacd48775a",
   "metadata": {},
   "outputs": [
    {
     "name": "stdout",
     "output_type": "stream",
     "text": [
      "philantrophist\n"
     ]
    }
   ],
   "source": [
    "ty = ('adur','rahemna','elephant','aeroplane','philantrophist')\n",
    "\n",
    "find = max(ty, key = len)\n",
    "print(find)"
   ]
  },
  {
   "cell_type": "code",
   "execution_count": 87,
   "id": "0c712b97-519a-4bd5-ac7c-89979b3df200",
   "metadata": {},
   "outputs": [],
   "source": [
    " #Find the shortest string in a tuple of strings.\n",
    "# 47 ques"
   ]
  },
  {
   "cell_type": "code",
   "execution_count": 88,
   "id": "6857deac-22ab-4e82-922e-2bf1e56e805b",
   "metadata": {},
   "outputs": [
    {
     "name": "stdout",
     "output_type": "stream",
     "text": [
      "adur\n"
     ]
    }
   ],
   "source": [
    "ty = ('adur','rahemna','elephant','aeroplane','philantrophist')\n",
    "\n",
    "find = min(ty, key = len)\n",
    "print(find)"
   ]
  },
  {
   "cell_type": "code",
   "execution_count": 89,
   "id": "e9c69ba7-d6e0-4ef3-b94d-d460d0464732",
   "metadata": {},
   "outputs": [],
   "source": [
    "#Create a tuple of the first `n` triangular numbers.\n",
    "# 48 questoin"
   ]
  },
  {
   "cell_type": "code",
   "execution_count": 95,
   "id": "27b44883-727b-4d7d-9eaa-b76d28352753",
   "metadata": {},
   "outputs": [
    {
     "name": "stdout",
     "output_type": "stream",
     "text": [
      "(1, 3, 6, 10, 15)\n"
     ]
    }
   ],
   "source": [
    "def traingularn(n):\n",
    "    return [i*(i+1)//2 for i in range(1,n+1)]\n",
    "\n",
    "n = 5\n",
    "\n",
    "tri_no = traingularn(n)\n",
    "print(tuple(tri_no))"
   ]
  },
  {
   "cell_type": "code",
   "execution_count": 96,
   "id": "d555850b-7e82-4eba-a639-56b6ebe33a56",
   "metadata": {},
   "outputs": [],
   "source": [
    "#Check if a tuple contains another tuple as a subsequence.\n",
    "# 49 question"
   ]
  },
  {
   "cell_type": "code",
   "execution_count": 105,
   "id": "258ebe5a-c752-4c7e-a15a-917fae45358f",
   "metadata": {},
   "outputs": [
    {
     "name": "stdout",
     "output_type": "stream",
     "text": [
      "yes subset\n"
     ]
    }
   ],
   "source": [
    "def subseq(mainlist, seb):\n",
    "    occ = 0\n",
    "    for element in mainlist:\n",
    "        if element == seb[occ]:\n",
    "            occ +=1\n",
    "            if occ == len(seb):\n",
    "                return print(\"yes subset\")\n",
    "    return print(\"no subset\")\n",
    "\n",
    "t = (1,32,54,57,78,89,90)\n",
    "\n",
    "t1 = (32,54,57)\n",
    "\n",
    "subseq(t,t1)"
   ]
  },
  {
   "cell_type": "code",
   "execution_count": 106,
   "id": "a792364d-1eb4-42f1-bd0f-913fb1d70469",
   "metadata": {},
   "outputs": [],
   "source": [
    "#Create a tuple of alternating 1s and 0s of length `n`.\n",
    "#50 question"
   ]
  },
  {
   "cell_type": "code",
   "execution_count": 7,
   "id": "7a13f36f-8ce7-4b1c-a8c9-6b923e5ccd59",
   "metadata": {},
   "outputs": [
    {
     "name": "stdin",
     "output_type": "stream",
     "text": [
      "enter the no 5\n"
     ]
    },
    {
     "name": "stdout",
     "output_type": "stream",
     "text": [
      "0 1 0 1 0 "
     ]
    }
   ],
   "source": [
    "n = int(input(\"enter the no\"))\n",
    "\n",
    "for element in range(n):\n",
    "    r = element%2\n",
    "    print(r, end = \" \")\n"
   ]
  },
  {
   "cell_type": "code",
   "execution_count": 8,
   "id": "73bde66c-ccac-4873-8b94-e90497faa467",
   "metadata": {},
   "outputs": [],
   "source": [
    "#SET"
   ]
  },
  {
   "cell_type": "code",
   "execution_count": 9,
   "id": "743bc292-8258-4e16-8a74-db68aeaf20ed",
   "metadata": {},
   "outputs": [],
   "source": [
    "#Create a set with integers from 1 to 5.\n",
    "# 1 question\n"
   ]
  },
  {
   "cell_type": "code",
   "execution_count": 11,
   "id": "a05134b1-36f0-4909-a696-362dcc5b00b7",
   "metadata": {},
   "outputs": [
    {
     "name": "stdout",
     "output_type": "stream",
     "text": [
      "{1, 2, 3, 4, 5}\n"
     ]
    }
   ],
   "source": [
    "s = {1,2,3,4,5}\n",
    "print(s)"
   ]
  },
  {
   "cell_type": "code",
   "execution_count": 12,
   "id": "b59b13ef-ab4b-4564-ab60-8411a2b1ba3e",
   "metadata": {},
   "outputs": [],
   "source": [
    "#Add an element to a set.\n",
    "# 2 question"
   ]
  },
  {
   "cell_type": "code",
   "execution_count": 15,
   "id": "24201e38-9d55-48a9-aa7d-a369ef4b69f4",
   "metadata": {},
   "outputs": [
    {
     "name": "stdout",
     "output_type": "stream",
     "text": [
      "{1, 2, 3, 4, 5, 6}\n"
     ]
    }
   ],
   "source": [
    "s.add(6)\n",
    "print(s)"
   ]
  },
  {
   "cell_type": "code",
   "execution_count": 16,
   "id": "c4d0587b-a157-413a-81bb-3c4dda6f02a7",
   "metadata": {},
   "outputs": [],
   "source": [
    "#Remove an element from a set.\n",
    "# 3 question\n"
   ]
  },
  {
   "cell_type": "code",
   "execution_count": 17,
   "id": "924f4375-f2b9-4beb-bd9c-3e20eabc1a00",
   "metadata": {},
   "outputs": [
    {
     "name": "stdout",
     "output_type": "stream",
     "text": [
      "{1, 2, 4, 5, 6}\n"
     ]
    }
   ],
   "source": [
    "s.remove(3)\n",
    "print(s)"
   ]
  },
  {
   "cell_type": "code",
   "execution_count": 18,
   "id": "fb38de84-40b9-4fbe-844e-3087110290ef",
   "metadata": {},
   "outputs": [],
   "source": [
    "#Check if an element exists in a set\n",
    "#4 question"
   ]
  },
  {
   "cell_type": "code",
   "execution_count": 24,
   "id": "e45f57eb-9b36-4f76-8886-2eb289c38eb0",
   "metadata": {},
   "outputs": [
    {
     "name": "stdout",
     "output_type": "stream",
     "text": [
      "yes\n"
     ]
    }
   ],
   "source": [
    "set_to_check = 4\n",
    "\n",
    "if set_to_check in s:\n",
    "    print(\"yes\")\n",
    "else:\n",
    "    print(\"no\")"
   ]
  },
  {
   "cell_type": "code",
   "execution_count": 25,
   "id": "ebd789d4-3d5b-40be-bef3-74830ba813c2",
   "metadata": {},
   "outputs": [],
   "source": [
    "#Find the length of a set without using the `len()` function.\n",
    "# 5 question"
   ]
  },
  {
   "cell_type": "code",
   "execution_count": 35,
   "id": "6a131e08-d7f3-440a-a1a0-36a44ccbb31b",
   "metadata": {},
   "outputs": [
    {
     "name": "stdout",
     "output_type": "stream",
     "text": [
      "8\n"
     ]
    }
   ],
   "source": [
    "sett = {1,2,3,4,5,787,67,78}\n",
    "    \n",
    "count = 0\n",
    "    \n",
    "for _ in sett:\n",
    "    count +=1\n",
    "print(count)"
   ]
  },
  {
   "cell_type": "code",
   "execution_count": 36,
   "id": "acb30416-1cfc-41ca-8305-22e6a3508249",
   "metadata": {},
   "outputs": [],
   "source": [
    "#Clear all elements from a set.\n",
    "# 6 question\n"
   ]
  },
  {
   "cell_type": "code",
   "execution_count": 37,
   "id": "32119e78-900a-43ca-a97c-71168ee25e3d",
   "metadata": {},
   "outputs": [],
   "source": [
    "sett.clear()"
   ]
  },
  {
   "cell_type": "code",
   "execution_count": 38,
   "id": "b808e22b-eb70-46bb-9287-0d2a194d9fce",
   "metadata": {},
   "outputs": [
    {
     "data": {
      "text/plain": [
       "set()"
      ]
     },
     "execution_count": 38,
     "metadata": {},
     "output_type": "execute_result"
    }
   ],
   "source": [
    "sett"
   ]
  },
  {
   "cell_type": "code",
   "execution_count": 39,
   "id": "8cba9532-4006-4636-bac6-0aa8b0a376d4",
   "metadata": {},
   "outputs": [],
   "source": [
    "#Create a set of even numbers from 1 to 10.\n",
    "# 7 question\n"
   ]
  },
  {
   "cell_type": "code",
   "execution_count": 50,
   "id": "45c3785e-b45c-4e32-a4ec-d961f2eb4777",
   "metadata": {},
   "outputs": [
    {
     "name": "stdout",
     "output_type": "stream",
     "text": [
      "{2, 4, 6, 8, 10}\n"
     ]
    }
   ],
   "source": [
    "myse = set()\n",
    "\n",
    "for element in range(1,11):\n",
    "    if element%2 == 0:\n",
    "        myse.add(element)\n",
    "print(myse)\n"
   ]
  },
  {
   "cell_type": "code",
   "execution_count": 51,
   "id": "a7abd765-47a2-4abc-8e8a-1a837d4c351c",
   "metadata": {},
   "outputs": [],
   "source": [
    "#Create a set of odd numbers from 1 to 10.\n",
    "#8 qustion\n"
   ]
  },
  {
   "cell_type": "code",
   "execution_count": 52,
   "id": "ea9915d8-c11f-4f89-a01f-1ab84a13c925",
   "metadata": {},
   "outputs": [
    {
     "name": "stdout",
     "output_type": "stream",
     "text": [
      "{1, 3, 5, 7, 9}\n"
     ]
    }
   ],
   "source": [
    "myse = set()\n",
    "\n",
    "for element in range(1,11):\n",
    "    if element%2 != 0:\n",
    "        myse.add(element)\n",
    "print(myse)\n"
   ]
  },
  {
   "cell_type": "code",
   "execution_count": 53,
   "id": "745bbab9-e391-41f9-a542-8a889eedf413",
   "metadata": {},
   "outputs": [],
   "source": [
    "#Find the union of two set\n",
    "# 9 question\n"
   ]
  },
  {
   "cell_type": "code",
   "execution_count": 56,
   "id": "cb864a6e-2988-4296-aac3-f2f0f5f5f320",
   "metadata": {},
   "outputs": [
    {
     "name": "stdout",
     "output_type": "stream",
     "text": [
      "{1, 2, 3, 4, 5, 6, 7, 67, 68}\n"
     ]
    }
   ],
   "source": [
    "s = {1,2,3,4,5,67,}\n",
    "s1 = {2,3,4,5,6,7,67,68}\n",
    "\n",
    "se = s1.union(s)\n",
    "print(se)"
   ]
  },
  {
   "cell_type": "code",
   "execution_count": 57,
   "id": "f0c0edaa-6094-408c-a9a4-28628fdb1634",
   "metadata": {},
   "outputs": [],
   "source": [
    "#Find the intersection of two sets.\n",
    "#10 queston\n"
   ]
  },
  {
   "cell_type": "code",
   "execution_count": 59,
   "id": "4cd7000d-d039-42a6-b4a1-983d7fcf710f",
   "metadata": {},
   "outputs": [
    {
     "name": "stdout",
     "output_type": "stream",
     "text": [
      "{2, 67, 3, 4, 5}\n"
     ]
    }
   ],
   "source": [
    "s = {1,2,3,4,5,67}\n",
    "s1 = {2,3,4,5,6,7,67,68}\n",
    "\n",
    "se = s.intersection(s1)\n",
    "print(se)"
   ]
  },
  {
   "cell_type": "code",
   "execution_count": 60,
   "id": "8a493620-26a8-4011-9a06-1d9389bac15c",
   "metadata": {},
   "outputs": [],
   "source": [
    "#Find the difference between two sets\n",
    "# 11 question"
   ]
  },
  {
   "cell_type": "code",
   "execution_count": 61,
   "id": "d6c79e1d-1f74-4816-aacb-98d297c3c642",
   "metadata": {},
   "outputs": [
    {
     "name": "stdout",
     "output_type": "stream",
     "text": [
      "{1}\n"
     ]
    }
   ],
   "source": [
    "s = {1,2,3,4,5,67}\n",
    "s1 = {2,3,4,5,6,7,67,68}\n",
    "\n",
    "se = s.difference(s1)\n",
    "print(se)"
   ]
  },
  {
   "cell_type": "code",
   "execution_count": 62,
   "id": "ef584c7b-6e9f-45e2-8f0d-78e054ba8855",
   "metadata": {},
   "outputs": [],
   "source": [
    "#Check if a set is a subset of another set.\n",
    "# 12 question\n"
   ]
  },
  {
   "cell_type": "code",
   "execution_count": 63,
   "id": "dd5bb024-c3fa-4b4e-ac99-3ed8dd6f866f",
   "metadata": {},
   "outputs": [
    {
     "name": "stdout",
     "output_type": "stream",
     "text": [
      "is subset True\n"
     ]
    }
   ],
   "source": [
    "s = {1,2,3,4,5,6,7,8,9}\n",
    "s1 = {2,3,4}\n",
    "\n",
    "se = s1.issubset(s)\n",
    "\n",
    "print(\"is subset\",se)"
   ]
  },
  {
   "cell_type": "code",
   "execution_count": 64,
   "id": "f29cff67-712d-4d70-8ae0-5ec128b1a5ed",
   "metadata": {},
   "outputs": [],
   "source": [
    "#Check if a set is a superset of another set\n",
    "# 13 queestion"
   ]
  },
  {
   "cell_type": "code",
   "execution_count": 65,
   "id": "f2e4c388-16ef-4e0d-8a54-710f9b4106fa",
   "metadata": {},
   "outputs": [
    {
     "name": "stdout",
     "output_type": "stream",
     "text": [
      "is superst True\n"
     ]
    }
   ],
   "source": [
    "s = {1,2,3,4,5,6,7,8,9}\n",
    "s1 = {2,3,4}\n",
    "\n",
    "se = s.issuperset(s1)\n",
    "\n",
    "print(\"is superst\",se)"
   ]
  },
  {
   "cell_type": "code",
   "execution_count": 66,
   "id": "749aba0b-6cfd-4348-a8e4-a8c8103d42ca",
   "metadata": {},
   "outputs": [],
   "source": [
    "#Create a set from a list.\n",
    "# 14 question\n"
   ]
  },
  {
   "cell_type": "code",
   "execution_count": 67,
   "id": "08b32331-c313-4242-85f0-9ee06cf7eefd",
   "metadata": {},
   "outputs": [
    {
     "name": "stdout",
     "output_type": "stream",
     "text": [
      "{1, 2, 3, 4, 5, 6, 'rash', 'horses', 'abdu'}\n"
     ]
    }
   ],
   "source": [
    "l = [1,2,3,4,5,6,6,6,\"abdu\",\"rash\",\"horses\"]\n",
    "\n",
    "covet = set(l)\n",
    "print(covet)"
   ]
  },
  {
   "cell_type": "code",
   "execution_count": 68,
   "id": "b32e2ac8-328a-4b7a-adbe-94919bd9a58f",
   "metadata": {},
   "outputs": [],
   "source": [
    "#Convert a set to a list\n",
    "# 15 question"
   ]
  },
  {
   "cell_type": "code",
   "execution_count": 69,
   "id": "f76a3d06-2546-4fd3-8f77-2a9c6c9d2ab4",
   "metadata": {},
   "outputs": [
    {
     "name": "stdout",
     "output_type": "stream",
     "text": [
      "[1, 2, 3, 4, 5, 6, 'rash', 'horses', 'abdu']\n"
     ]
    }
   ],
   "source": [
    "reversecovet = list(covet)\n",
    "print(reversecovet)"
   ]
  },
  {
   "cell_type": "code",
   "execution_count": 70,
   "id": "c29e3b47-c93d-4566-b58f-d07c6e9d29ee",
   "metadata": {},
   "outputs": [],
   "source": [
    "#Remove a random element from a set.\n",
    "# 16 questipon\n"
   ]
  },
  {
   "cell_type": "code",
   "execution_count": 73,
   "id": "882ba9f4-e497-46f5-b24e-beaa0aece26f",
   "metadata": {},
   "outputs": [
    {
     "name": "stdout",
     "output_type": "stream",
     "text": [
      "Original set: {1, 2, 3, 4, 5}\n",
      "Updated set after removing 4 : {1, 2, 3, 5}\n"
     ]
    }
   ],
   "source": [
    "import random  \n",
    "my_set = {1, 2, 3, 4, 5}\n",
    "\n",
    "\n",
    "print(\"Original set:\", my_set)\n",
    "\n",
    "random_element = random.choice(list(my_set))\n",
    "\n",
    "my_set.remove(random_element)\n",
    "\n",
    "print(\"Updated set after removing\", random_element, \":\", my_set)"
   ]
  },
  {
   "cell_type": "code",
   "execution_count": 74,
   "id": "6f67a2fd-14b0-4c4e-bb98-e83394f2f7dd",
   "metadata": {},
   "outputs": [],
   "source": [
    "#Pop an element from a set.\n",
    "#17 question\n"
   ]
  },
  {
   "cell_type": "code",
   "execution_count": 75,
   "id": "4ec74411-72c2-4f04-800a-475f4519bbf0",
   "metadata": {},
   "outputs": [
    {
     "name": "stdout",
     "output_type": "stream",
     "text": [
      "{2, 3, 4, 5}\n"
     ]
    }
   ],
   "source": [
    "my_set = {1, 2, 3, 4, 5}\n",
    "\n",
    "r = my_set.pop()\n",
    "print(my_set)"
   ]
  },
  {
   "cell_type": "code",
   "execution_count": 77,
   "id": "641285f7-6e80-4a53-b91f-659f8490b580",
   "metadata": {},
   "outputs": [],
   "source": [
    "#Check if two sets have no elements in common.\n",
    "#18 question\n"
   ]
  },
  {
   "cell_type": "code",
   "execution_count": 78,
   "id": "088efd13-52cd-4b91-a6e6-a8ea49a4409a",
   "metadata": {},
   "outputs": [
    {
     "name": "stdout",
     "output_type": "stream",
     "text": [
      "The two sets have common elements: {2}\n"
     ]
    }
   ],
   "source": [
    "set1 = {1, 2, 3, 4}\n",
    "set2 = {5, 2, 7, 8}\n",
    "\n",
    "\n",
    "common_elements = set1.intersection(set2)\n",
    "\n",
    "\n",
    "if not common_elements:\n",
    "    print(\"The two sets have no elements in common.\")\n",
    "else:\n",
    "    print(\"The two sets have common elements:\", common_elements)"
   ]
  },
  {
   "cell_type": "code",
   "execution_count": 1,
   "id": "42bb9da1-b092-45fa-9d00-c5af2ab7bef9",
   "metadata": {},
   "outputs": [],
   "source": [
    "#Find the symmetric difference between two sets.\n",
    "# 19 question"
   ]
  },
  {
   "cell_type": "code",
   "execution_count": 4,
   "id": "5d72b9d4-f3be-46d5-91f9-38ecc9bfa187",
   "metadata": {},
   "outputs": [
    {
     "name": "stdout",
     "output_type": "stream",
     "text": [
      "yes symetric difference {2, 3, 4, 5, 6, 7}\n"
     ]
    }
   ],
   "source": [
    "set1 = {1, 2, 3, 4}\n",
    "set2 = {5, 6, 7, 1}\n",
    "\n",
    "sym = set1.symmetric_difference(set2)\n",
    "\n",
    "if not sym:\n",
    "    print(\"No symmetric difference\")\n",
    "else:\n",
    "    print(\"yes symetric difference\", sym)\n"
   ]
  },
  {
   "cell_type": "code",
   "execution_count": 5,
   "id": "85ad6e43-a6d5-4b20-a571-797fd57133d2",
   "metadata": {},
   "outputs": [],
   "source": [
    "#Update a set with elements from another set.\n",
    "#20 qustion"
   ]
  },
  {
   "cell_type": "code",
   "execution_count": 16,
   "id": "f710fb05-c164-4aa2-9134-f6e9e1e46601",
   "metadata": {},
   "outputs": [
    {
     "name": "stdout",
     "output_type": "stream",
     "text": [
      "{1, 2, 3, 4, 5, 6, 7}\n"
     ]
    }
   ],
   "source": [
    "set1 = {1, 2, 3, 4}\n",
    "set2 = {5, 6, 7, 1}\n",
    "\n",
    "set1.update(set2)\n",
    "print(set1)"
   ]
  },
  {
   "cell_type": "code",
   "execution_count": 17,
   "id": "3f915f95-0366-4bb6-bb48-83c3f14b54c5",
   "metadata": {},
   "outputs": [],
   "source": [
    "#Create a set of the first 5 prime numbers\n",
    "# 21 question\n"
   ]
  },
  {
   "cell_type": "code",
   "execution_count": 74,
   "id": "8a8d522c-9b82-4cfc-8638-d1a24c3947cc",
   "metadata": {},
   "outputs": [
    {
     "name": "stdout",
     "output_type": "stream",
     "text": [
      "Set of the first 5 prime numbers: {2, 3, 5, 7, 11}\n"
     ]
    }
   ],
   "source": [
    "def is_prime(num):\n",
    "    if num <= 1:\n",
    "        return False\n",
    "    for i in range(2, int(num **.5) + 1):\n",
    "        if num % i == 0:\n",
    "            return False\n",
    "    return True\n",
    "\n",
    "prime_set = set()\n",
    "\n",
    "\n",
    "num = 2\n",
    "\n",
    "while len(prime_set) < 5:\n",
    "        if is_prime(num):\n",
    "            prime_set.add(num)\n",
    "        num += 1\n",
    "\n",
    "print(\"Set of the first 5 prime numbers:\", prime_set)"
   ]
  },
  {
   "cell_type": "code",
   "execution_count": 35,
   "id": "0e5604c6-1a28-4e94-93cd-ea8690de7820",
   "metadata": {},
   "outputs": [],
   "source": [
    "#Check if two sets are identical.\n",
    "#22 question\n"
   ]
  },
  {
   "cell_type": "code",
   "execution_count": 36,
   "id": "ae21034f-a9d3-4015-888a-9b308640fb1f",
   "metadata": {},
   "outputs": [
    {
     "name": "stdout",
     "output_type": "stream",
     "text": [
      "Not identical\n"
     ]
    }
   ],
   "source": [
    "set1 = {1, 2, 3, 4}\n",
    "set2 = {5, 6, 7, 1}\n",
    "\n",
    "\n",
    "if set1 == set2:\n",
    "    print(\"yes Identical\")\n",
    "else:\n",
    "    print(\"Not identical\")"
   ]
  },
  {
   "cell_type": "code",
   "execution_count": 37,
   "id": "ffdeeddc-250a-4f37-85ea-d33aee559af1",
   "metadata": {},
   "outputs": [],
   "source": [
    "#Create a frozen set.\n",
    "#23 qustion"
   ]
  },
  {
   "cell_type": "code",
   "execution_count": 38,
   "id": "c83a41a2-887d-457a-bdc5-23ad1623fde7",
   "metadata": {},
   "outputs": [
    {
     "name": "stdout",
     "output_type": "stream",
     "text": [
      "frozenset({1, 2, 3, 4, 5})\n"
     ]
    }
   ],
   "source": [
    "set1 ={1,2,3,4,5}\n",
    "\n",
    "froset = frozenset(set1)\n",
    "print(froset)"
   ]
  },
  {
   "cell_type": "code",
   "execution_count": 39,
   "id": "c8bd54c0-283c-426e-8ec3-e2c7ba8bce2f",
   "metadata": {},
   "outputs": [],
   "source": [
    "#Check if a set is disjoint with another set.\n",
    "#24 question"
   ]
  },
  {
   "cell_type": "code",
   "execution_count": 44,
   "id": "c6b904cb-be7c-4de9-b79b-6150679f9817",
   "metadata": {},
   "outputs": [
    {
     "name": "stdout",
     "output_type": "stream",
     "text": [
      "No Disjoint\n"
     ]
    }
   ],
   "source": [
    "set1 = {1, 2, 3, 4}\n",
    "set2 = {5, 6, 7, 1}\n",
    "\n",
    "if  set1.isdisjoint(set2):\n",
    "    print(\" yes Disjoint\")\n",
    "else:\n",
    "    print(\"No Disjoint\")"
   ]
  },
  {
   "cell_type": "code",
   "execution_count": 45,
   "id": "a07951b3-52e2-451e-9fad-4b36d805e551",
   "metadata": {},
   "outputs": [],
   "source": [
    "#Create a set of squares of numbers from 1 to 5.\n",
    "#25 QUESTION"
   ]
  },
  {
   "cell_type": "code",
   "execution_count": 53,
   "id": "e3cb0ddb-1ec5-466b-ae04-19bd382d17b0",
   "metadata": {},
   "outputs": [
    {
     "name": "stdout",
     "output_type": "stream",
     "text": [
      "{1, 4, 9, 16, 25}\n"
     ]
    }
   ],
   "source": [
    "se = set()\n",
    "\n",
    "for num in range(1,6):\n",
    "    r = num**2\n",
    "    se.add(r)\n",
    "print(se)"
   ]
  },
  {
   "cell_type": "code",
   "execution_count": 54,
   "id": "50db0d2d-ba9a-4e59-9e93-7874a31cb5de",
   "metadata": {},
   "outputs": [],
   "source": [
    "#Filter out all even numbers from a set.\n",
    "# 26 question\n"
   ]
  },
  {
   "cell_type": "code",
   "execution_count": 60,
   "id": "e2f3fb2e-1efb-4fe9-a8e7-6ce414ce381a",
   "metadata": {},
   "outputs": [
    {
     "name": "stdout",
     "output_type": "stream",
     "text": [
      "{8, 2, 4, 6}\n"
     ]
    }
   ],
   "source": [
    "set1 = {1,2,3,4,5,6,7,8,9}\n",
    "\n",
    "set2 = list(set1)\n",
    "\n",
    "even = set()\n",
    "\n",
    "for num in set2:\n",
    "    if num%2 == 0:\n",
    "        even.add(num)\n",
    "print(even)"
   ]
  },
  {
   "cell_type": "code",
   "execution_count": 61,
   "id": "b4f9fec1-e96b-492a-ac8b-6d346cb0d3b8",
   "metadata": {},
   "outputs": [],
   "source": [
    "#Multiply all elements in a set by 2\n",
    "#27 question"
   ]
  },
  {
   "cell_type": "code",
   "execution_count": 67,
   "id": "454fdb0e-ab4e-4268-a06d-e160c6b3851a",
   "metadata": {},
   "outputs": [
    {
     "name": "stdout",
     "output_type": "stream",
     "text": [
      "{2, 4, 6, 8, 10, 12, 14, 16, 18}\n"
     ]
    }
   ],
   "source": [
    "set1 = {1,2,3,4,5,6,7,8,9}\n",
    "\n",
    "mul = set(map(lambda a: a*2,set1))\n",
    "print(mul)"
   ]
  },
  {
   "cell_type": "code",
   "execution_count": 75,
   "id": "5cb6560f-2cae-408c-8840-a8360b092182",
   "metadata": {},
   "outputs": [],
   "source": [
    "#Create a set of random numbers.\n",
    "#28 question"
   ]
  },
  {
   "cell_type": "code",
   "execution_count": 79,
   "id": "505390f4-6fe9-477a-a713-3b1b6becbe07",
   "metadata": {},
   "outputs": [
    {
     "name": "stdout",
     "output_type": "stream",
     "text": [
      "Generated set of random numbers: {39, 76, 46, 21, 93}\n"
     ]
    }
   ],
   "source": [
    "\n",
    "import random\n",
    "\n",
    "\n",
    "num_random_numbers = 5\n",
    "\n",
    "\n",
    "random_number_set = set()\n",
    "\n",
    "\n",
    "for _ in range(num_random_numbers):\n",
    "    \n",
    "    random_num = random.randint(1, 100) \n",
    "\n",
    "    random_number_set.add(random_num)\n",
    "\n",
    "\n",
    "print(\"Generated set of random numbers:\", random_number_set)\n",
    "                     "
   ]
  },
  {
   "cell_type": "code",
   "execution_count": 80,
   "id": "e802ce90-6ffb-492d-a732-67277fcfc607",
   "metadata": {},
   "outputs": [],
   "source": [
    "#Check if a set is empty.\n",
    "#29 question"
   ]
  },
  {
   "cell_type": "code",
   "execution_count": 81,
   "id": "529f6010-4fb1-4c9f-9cd8-27de06505355",
   "metadata": {},
   "outputs": [
    {
     "name": "stdout",
     "output_type": "stream",
     "text": [
      "The set is empty\n"
     ]
    }
   ],
   "source": [
    "my_set = set()  # Create an empty set\n",
    "\n",
    "if not my_set:\n",
    "    print(\"The set is empty\")\n",
    "else:\n",
    "    print(\"The set is not empty\")"
   ]
  },
  {
   "cell_type": "code",
   "execution_count": 82,
   "id": "2118f3b7-2103-4dd2-adc8-24e9cfa65705",
   "metadata": {},
   "outputs": [],
   "source": [
    "#Create a nested set (hint: use frozenset).\n",
    "# 30 question\n"
   ]
  },
  {
   "cell_type": "code",
   "execution_count": 85,
   "id": "9b7d8d1c-496f-4e22-a6e6-e17eeb47fe9a",
   "metadata": {},
   "outputs": [
    {
     "name": "stdout",
     "output_type": "stream",
     "text": [
      "{frozenset({1, 2, 3, 4, 5}), frozenset({2, 3, 4, 5, 6, 7, 8, 78, 56, 989, 8990})}\n"
     ]
    }
   ],
   "source": [
    "s1= {1,2,3,4,5}\n",
    "s2 = {2,3,4,5,6,7,8,989,8990,56,78}\n",
    "\n",
    "fs1,fs2 = frozenset(s1),frozenset(s2)\n",
    "\n",
    "fset = {fs1,fs2}\n",
    "print(fset)"
   ]
  },
  {
   "cell_type": "code",
   "execution_count": 86,
   "id": "2e211495-f3d4-4b3a-9798-1b926f770cac",
   "metadata": {},
   "outputs": [],
   "source": [
    "#Remove an element from a set using the discard method\n",
    "#31 question"
   ]
  },
  {
   "cell_type": "code",
   "execution_count": 2,
   "id": "ac0e4b7f-927e-4ea9-8408-5d5a027b82d5",
   "metadata": {},
   "outputs": [
    {
     "name": "stdout",
     "output_type": "stream",
     "text": [
      "{1, 2, 4, 5}\n"
     ]
    }
   ],
   "source": [
    "s1= {1,2,3,4,5}\n",
    "\n",
    "s1.discard(3)\n",
    "print(s1)"
   ]
  },
  {
   "cell_type": "code",
   "execution_count": 3,
   "id": "f2502d8c-ac1d-4314-bcd6-1511c6f19282",
   "metadata": {},
   "outputs": [],
   "source": [
    "#Compare two sets.\n",
    "# 32 question\n"
   ]
  },
  {
   "cell_type": "code",
   "execution_count": 4,
   "id": "e959ac7c-b16f-46e3-9028-6036c258046e",
   "metadata": {},
   "outputs": [
    {
     "name": "stdout",
     "output_type": "stream",
     "text": [
      "not equal\n"
     ]
    }
   ],
   "source": [
    "s1 = {1,2,3,4,5,67,8}\n",
    "s2 = {2,3,4,5,6,7,8,9,0,9,0,9,0,9,}\n",
    "\n",
    "if len(s1) == len(s2):\n",
    "    print(\"Yes equal\")\n",
    "else:\n",
    "    print(\"not equal\")"
   ]
  },
  {
   "cell_type": "code",
   "execution_count": 5,
   "id": "18ebb64a-1f00-4131-8037-0b1156333304",
   "metadata": {},
   "outputs": [],
   "source": [
    "#Create a set from a string.\n",
    "# 33 question\n"
   ]
  },
  {
   "cell_type": "code",
   "execution_count": 6,
   "id": "c5f73f35-825e-42ca-9974-7328616e16fa",
   "metadata": {},
   "outputs": [
    {
     "name": "stdout",
     "output_type": "stream",
     "text": [
      "{'abdur', 'Raheman', 'BYe-Bye'}\n"
     ]
    }
   ],
   "source": [
    "tr = \"abdur\"\n",
    "ty = \"Raheman\"\n",
    "tu = \"BYe-Bye\"\n",
    "\n",
    "set1 = {tr,ty,tu}\n",
    "print(set1)"
   ]
  },
  {
   "cell_type": "code",
   "execution_count": 8,
   "id": "8031f9a3-c92d-47c6-a19b-aa03761d0c84",
   "metadata": {},
   "outputs": [],
   "source": [
    "#Convert a set of strings to a set of integers.\\\n",
    "# 34 question"
   ]
  },
  {
   "cell_type": "code",
   "execution_count": 9,
   "id": "f582c832-3f51-4665-ba22-dc69c4c89fa7",
   "metadata": {},
   "outputs": [
    {
     "name": "stdout",
     "output_type": "stream",
     "text": [
      "{345, 123}\n"
     ]
    }
   ],
   "source": [
    "set1 = {\"123\",\"345\"}\n",
    "\n",
    "intr_st = set()\n",
    "\n",
    "for string in set1:\n",
    "    string = int(string)\n",
    "    intr_st.add(string)\n",
    "print(intr_st)"
   ]
  },
  {
   "cell_type": "code",
   "execution_count": 10,
   "id": "dfe17b6b-fbf8-4eb2-b8b6-877ec02f1097",
   "metadata": {},
   "outputs": [],
   "source": [
    "#Convert a set of integers to a set of strings.\n",
    "#35 question\n"
   ]
  },
  {
   "cell_type": "code",
   "execution_count": 11,
   "id": "2446b5bd-5509-4dbf-9206-7423936bb58d",
   "metadata": {},
   "outputs": [
    {
     "name": "stdout",
     "output_type": "stream",
     "text": [
      "{'123', '345'}\n"
     ]
    }
   ],
   "source": [
    "set1 = {123,345}\n",
    "\n",
    "intr_st = set()\n",
    "\n",
    "for string in set1:\n",
    "    string = str(string)\n",
    "    intr_st.add(string)\n",
    "print(intr_st)"
   ]
  },
  {
   "cell_type": "code",
   "execution_count": 12,
   "id": "b6ae9435-c17e-4ba5-9892-3360112c7462",
   "metadata": {},
   "outputs": [],
   "source": [
    "#Create a set from a tuple.\n",
    "#36 question\n"
   ]
  },
  {
   "cell_type": "code",
   "execution_count": 13,
   "id": "605a9807-5e75-4353-8560-9912a741f3a1",
   "metadata": {},
   "outputs": [
    {
     "name": "stdout",
     "output_type": "stream",
     "text": [
      "{1, 2, 3, 4, 5, 6, 7}\n"
     ]
    }
   ],
   "source": [
    "tu = (1,2,3,4,5,6,7)\n",
    "\n",
    "set1 = set(tu)\n",
    "print(set1)"
   ]
  },
  {
   "cell_type": "code",
   "execution_count": 14,
   "id": "4b9accdf-c129-4aaf-b938-1d4efbad73b3",
   "metadata": {},
   "outputs": [],
   "source": [
    "#Convert a set to a tuple.\n",
    "# 37 question\n"
   ]
  },
  {
   "cell_type": "code",
   "execution_count": 15,
   "id": "7e0772fe-975f-424e-baaf-2ed539ad845c",
   "metadata": {},
   "outputs": [
    {
     "name": "stdout",
     "output_type": "stream",
     "text": [
      "(1, 2, 3, 4, 5, 6, 7)\n"
     ]
    }
   ],
   "source": [
    "tuu = tuple(set1)\n",
    "print(tuu)"
   ]
  },
  {
   "cell_type": "code",
   "execution_count": 16,
   "id": "48718e2b-565d-466c-9eb2-0c8d1f29742b",
   "metadata": {},
   "outputs": [],
   "source": [
    "#Find the maximum value in a set.\n",
    "# 38 question\n"
   ]
  },
  {
   "cell_type": "code",
   "execution_count": 17,
   "id": "8c0b3aae-dc79-450a-ae18-c54a8bbb07f0",
   "metadata": {},
   "outputs": [
    {
     "name": "stdout",
     "output_type": "stream",
     "text": [
      "6778\n"
     ]
    }
   ],
   "source": [
    "set1 = {1,2,3,4,5,5,5,6,6,6,56,67,6778}\n",
    "\n",
    "maxint= max(set1)\n",
    "print(maxint)"
   ]
  },
  {
   "cell_type": "code",
   "execution_count": 18,
   "id": "391c1cf3-a3a6-4027-92b0-0f911b9fd28d",
   "metadata": {},
   "outputs": [],
   "source": [
    "#Find the minimum value in a set.\n",
    "# 39 question"
   ]
  },
  {
   "cell_type": "code",
   "execution_count": 19,
   "id": "14551db2-d721-42aa-95b7-65f546df81ec",
   "metadata": {},
   "outputs": [
    {
     "name": "stdout",
     "output_type": "stream",
     "text": [
      "1\n"
     ]
    }
   ],
   "source": [
    "minint = min(set1)\n",
    "print(minint)"
   ]
  },
  {
   "cell_type": "code",
   "execution_count": 20,
   "id": "f85fe05b-fce2-4b0d-8132-2d604bbd4b1b",
   "metadata": {},
   "outputs": [],
   "source": [
    "#Create a set from user input.\n",
    "# 40 question\n"
   ]
  },
  {
   "cell_type": "code",
   "execution_count": 25,
   "id": "192e44eb-9471-4668-ae0a-53cee09a5713",
   "metadata": {},
   "outputs": [
    {
     "name": "stdin",
     "output_type": "stream",
     "text": [
      "enter your details Jogging\n",
      "enter n to exit or enter y to continue y\n",
      "enter your details food\n",
      "enter n to exit or enter y to continue y\n",
      "enter your details office\n",
      "enter n to exit or enter y to continue n\n"
     ]
    },
    {
     "name": "stdout",
     "output_type": "stream",
     "text": [
      "{'Jogging', 'office', 'food'}\n"
     ]
    }
   ],
   "source": [
    "list1 = set()\n",
    "\n",
    "counter = 'y'\n",
    "\n",
    "while counter != 'n':\n",
    "    todo = input(\"enter your details\")\n",
    "    list1.add(todo)\n",
    "    counter = input(\"enter n to exit or enter y to continue\")\n",
    "print(list1)"
   ]
  },
  {
   "cell_type": "code",
   "execution_count": 26,
   "id": "b1cbab66-475d-47ed-ac31-b315b2f5cb36",
   "metadata": {},
   "outputs": [],
   "source": [
    "#Check if the intersection of two sets is empty.\n",
    "# 41 question"
   ]
  },
  {
   "cell_type": "code",
   "execution_count": 27,
   "id": "7da135b4-c7c3-47b2-8911-0253a940985e",
   "metadata": {},
   "outputs": [
    {
     "name": "stdout",
     "output_type": "stream",
     "text": [
      "no intrsection\n"
     ]
    }
   ],
   "source": [
    "s1 = {1,2,3,4,5,6,7}\n",
    "s2 = {8,9,10,11,12,13}\n",
    "\n",
    "if s1.intersection(s2):\n",
    "    print(\"yes intersection\")\n",
    "else:\n",
    "    print(\"no intrsection\")"
   ]
  },
  {
   "cell_type": "code",
   "execution_count": 28,
   "id": "4bbdd089-7f12-4435-aa4d-00f280c96dcf",
   "metadata": {},
   "outputs": [],
   "source": [
    "#Create a set of the first 5 Fibonacci numbers.\n",
    "# 42 question\n"
   ]
  },
  {
   "cell_type": "code",
   "execution_count": 32,
   "id": "9b469213-d785-4917-aef6-9e2c8d02733b",
   "metadata": {},
   "outputs": [
    {
     "name": "stdout",
     "output_type": "stream",
     "text": [
      "{0, 1, 2, 3, 5}\n"
     ]
    }
   ],
   "source": [
    "fibn = set()\n",
    "\n",
    "a,b = 0,1\n",
    "\n",
    "for _ in range(6):\n",
    "    fibn.add(a)\n",
    "    a,b = b,a+b\n",
    "print(fibn)"
   ]
  },
  {
   "cell_type": "code",
   "execution_count": 33,
   "id": "234c2268-2bd1-4899-b1c1-7db338495f87",
   "metadata": {},
   "outputs": [],
   "source": [
    "#Remove duplicate from a list using sets.\n",
    "#43 question\n"
   ]
  },
  {
   "cell_type": "code",
   "execution_count": 34,
   "id": "feb421b5-e5ed-48c3-ba63-b258a7442e5c",
   "metadata": {},
   "outputs": [
    {
     "name": "stdout",
     "output_type": "stream",
     "text": [
      "{1, 2, 3, 4, 5, 6, 11111, 7, 8, 90}\n"
     ]
    }
   ],
   "source": [
    "li= [11111,2,3,4,4,1,2,3,4,5,4,5,6,7,6,7,8,90,90]\n",
    "\n",
    "set1 = set(li)\n",
    "print(set1)"
   ]
  },
  {
   "cell_type": "code",
   "execution_count": 35,
   "id": "e52523ff-6b2f-4468-a6f5-12fcccaa4cb0",
   "metadata": {},
   "outputs": [],
   "source": [
    "#Check if two sets have the same elements, regardless of their count.\n",
    "# 44 question"
   ]
  },
  {
   "cell_type": "code",
   "execution_count": 36,
   "id": "27b38cf1-bd11-4b49-9ab8-1a4094ff57b0",
   "metadata": {},
   "outputs": [
    {
     "name": "stdout",
     "output_type": "stream",
     "text": [
      "yes\n"
     ]
    }
   ],
   "source": [
    "se = {1,2,3,4,5,6,7}\n",
    "st = {1,2,3,4,5,6,7,7,7,7,7}\n",
    "\n",
    "\n",
    "if se == st:\n",
    "    print(\"yes\")\n",
    "else:\n",
    "    print(\"no\")"
   ]
  },
  {
   "cell_type": "code",
   "execution_count": 37,
   "id": "97fcfef4-23aa-4bef-935a-7d3d648f78e8",
   "metadata": {},
   "outputs": [],
   "source": [
    "#Create a set of the first `n` powers of 2.\n",
    "# 45 question"
   ]
  },
  {
   "cell_type": "code",
   "execution_count": 38,
   "id": "46644713-6307-4e02-9cf1-3870e6931883",
   "metadata": {},
   "outputs": [
    {
     "name": "stdin",
     "output_type": "stream",
     "text": [
      "enter a number 5\n"
     ]
    },
    {
     "name": "stdout",
     "output_type": "stream",
     "text": [
      "{0, 1, 4, 9, 16, 25}\n"
     ]
    }
   ],
   "source": [
    "n = int(input(\"enter a number\"))\n",
    "\n",
    "set1 = set()\n",
    "\n",
    "for num in range(n+1):\n",
    "    rt = num**2\n",
    "    set1.add(rt)\n",
    "print(set1)\n"
   ]
  },
  {
   "cell_type": "code",
   "execution_count": 39,
   "id": "9693330d-6e45-4692-bad4-5667ae748b3b",
   "metadata": {},
   "outputs": [],
   "source": [
    "#Find the common elements between a set and a list.\n",
    "#46 question"
   ]
  },
  {
   "cell_type": "code",
   "execution_count": 40,
   "id": "8cc7c680-7012-4fad-ad66-cd6c0c8ca276",
   "metadata": {},
   "outputs": [
    {
     "name": "stdout",
     "output_type": "stream",
     "text": [
      "{2}\n"
     ]
    }
   ],
   "source": [
    "set1 = {1,2,3,4}\n",
    "list1 = {2,5,6,7}\n",
    "\n",
    "convert = set(list1)\n",
    "\n",
    "intr = set1.intersection(convert)\n",
    "print(intr)"
   ]
  },
  {
   "cell_type": "code",
   "execution_count": 41,
   "id": "50109a9b-445d-42f7-a0ac-f39de7c603b2",
   "metadata": {},
   "outputs": [],
   "source": [
    "#Create a set of the first `n` triangular numbers\n",
    "# 47 question"
   ]
  },
  {
   "cell_type": "code",
   "execution_count": 42,
   "id": "2115a812-ec42-4851-b246-6b594aea6ca2",
   "metadata": {},
   "outputs": [
    {
     "name": "stdout",
     "output_type": "stream",
     "text": [
      "List of the first 5 triangular numbers: {1, 3, 6, 10, 15}\n"
     ]
    }
   ],
   "source": [
    "def triangular_numbers(n):\n",
    "    return [i * (i + 1) // 2 for i in range(1, n + 1)]\n",
    "\n",
    "n = 5\n",
    "\n",
    "\n",
    "triangular_list = set(triangular_numbers(n))\n",
    "\n",
    "\n",
    "print(\"List of the first\", n, \"triangular numbers:\", triangular_list)"
   ]
  },
  {
   "cell_type": "code",
   "execution_count": 43,
   "id": "13be2b4d-ab80-4fca-a753-8d971784964d",
   "metadata": {},
   "outputs": [],
   "source": [
    "#Check if a set contains another set as a subset.\n",
    "#48 question\n"
   ]
  },
  {
   "cell_type": "code",
   "execution_count": 45,
   "id": "4a8564fc-de15-4618-84b8-6ab532709fd6",
   "metadata": {},
   "outputs": [
    {
     "name": "stdout",
     "output_type": "stream",
     "text": [
      "yes subset\n"
     ]
    }
   ],
   "source": [
    "set1 = {1,2,3,4,5,6,7}\n",
    "\n",
    "set2 = {2,3,4}\n",
    "\n",
    "if not set2.issubset(set1):\n",
    "    print(\"no subset\")\n",
    "else:\n",
    "    print(\"yes subset\")"
   ]
  },
  {
   "cell_type": "code",
   "execution_count": 46,
   "id": "f139f6f8-5dde-4e1d-97ab-09b4d50137dd",
   "metadata": {},
   "outputs": [],
   "source": [
    "#Create a set of alternating 1s and 0s of length `n`.\n",
    "# 49 question"
   ]
  },
  {
   "cell_type": "code",
   "execution_count": 47,
   "id": "c512bd79-57f9-446a-9c3f-fe5b808a823e",
   "metadata": {},
   "outputs": [
    {
     "name": "stdout",
     "output_type": "stream",
     "text": [
      "{0, 1}\n"
     ]
    }
   ],
   "source": [
    "d = set()\n",
    "\n",
    "for num in range(5):\n",
    "    r = num%2\n",
    "    d.add(r)\n",
    "print(d)"
   ]
  },
  {
   "cell_type": "code",
   "execution_count": 48,
   "id": "4876c443-162a-4a72-8ad3-27f4e45db63e",
   "metadata": {},
   "outputs": [],
   "source": [
    "#Merge multiple sets into one.\n",
    "# 50 question"
   ]
  },
  {
   "cell_type": "code",
   "execution_count": 51,
   "id": "e376020f-a06e-4e4c-be6c-60bb54ea4064",
   "metadata": {},
   "outputs": [
    {
     "name": "stdout",
     "output_type": "stream",
     "text": [
      "{32, 1, 2, 3, 4, 5, 6, 34, 78, 'Data science', 56, 'abdur'}\n"
     ]
    }
   ],
   "source": [
    "se = {1,2,3,4,5,6}\n",
    "sin = {\"abdur\",\"Data science\"}\n",
    "sot = {32,34,56,78,1}\n",
    "\n",
    "set1 = se.union(sin,sot)\n",
    "\n",
    "print(set1)\n"
   ]
  },
  {
   "cell_type": "code",
   "execution_count": null,
   "id": "f29ada71-14ed-48aa-b037-2b8d8a845730",
   "metadata": {},
   "outputs": [],
   "source": []
  }
 ],
 "metadata": {
  "kernelspec": {
   "display_name": "Python 3 (ipykernel)",
   "language": "python",
   "name": "python3"
  },
  "language_info": {
   "codemirror_mode": {
    "name": "ipython",
    "version": 3
   },
   "file_extension": ".py",
   "mimetype": "text/x-python",
   "name": "python",
   "nbconvert_exporter": "python",
   "pygments_lexer": "ipython3",
   "version": "3.10.8"
  }
 },
 "nbformat": 4,
 "nbformat_minor": 5
}
